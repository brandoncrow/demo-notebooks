{
 "cells": [
  {
   "cell_type": "markdown",
   "metadata": {},
   "source": [
    "# PCA\n",
    "\n",
    "This notebook uses the `pca` Python library to perform Principal Component Analysis and to create insightful plots.\n",
    "\n",
    "The data for this example is taken from the R built-in dataset state.x77, a compilation of data about the US states put together from the 1977 Statistical Abstract of the United\n",
    "States, with the actual measurements mostly made a few years before.\n",
    "\n",
    "The variables are:\n",
    "* Population in thouusands\n",
    "* Income dollars per capita\n",
    "* Illiterarcy Percent of the population\n",
    "* Life Exp Years of life expectancy at birth\n",
    "* Murder Number of murders and non-negligent manslaughters per 100,000 people\n",
    "* HS Grad Percent of adults who were high-school graduates\n",
    "* Frost Mean number of days per year with low temperatures below freezing\n",
    "* Area In square miles"
   ]
  },
  {
   "cell_type": "code",
   "execution_count": 1,
   "metadata": {},
   "outputs": [
    {
     "name": "stdout",
     "output_type": "stream",
     "text": [
      "Requirement already satisfied: pca in /Users/brandoncrow/opt/anaconda3/lib/python3.8/site-packages (1.3.0)\n",
      "Requirement already satisfied: colourmap in /Users/brandoncrow/opt/anaconda3/lib/python3.8/site-packages (from pca) (0.1.1)\n",
      "Requirement already satisfied: pandas in /Users/brandoncrow/opt/anaconda3/lib/python3.8/site-packages (from pca) (1.1.3)\n",
      "Requirement already satisfied: scipy in /Users/brandoncrow/opt/anaconda3/lib/python3.8/site-packages (from pca) (1.5.0)\n",
      "Requirement already satisfied: sklearn in /Users/brandoncrow/opt/anaconda3/lib/python3.8/site-packages (from pca) (0.0)\n",
      "Requirement already satisfied: numpy in /Users/brandoncrow/opt/anaconda3/lib/python3.8/site-packages (from pca) (1.19.2)\n",
      "Requirement already satisfied: tqdm in /Users/brandoncrow/opt/anaconda3/lib/python3.8/site-packages (from pca) (4.50.2)\n",
      "Requirement already satisfied: matplotlib in /Users/brandoncrow/opt/anaconda3/lib/python3.8/site-packages (from pca) (3.3.2)\n",
      "Requirement already satisfied: wget in /Users/brandoncrow/opt/anaconda3/lib/python3.8/site-packages (from pca) (3.2)\n",
      "Requirement already satisfied: python-dateutil>=2.7.3 in /Users/brandoncrow/opt/anaconda3/lib/python3.8/site-packages (from pandas->pca) (2.8.1)\n",
      "Requirement already satisfied: pytz>=2017.2 in /Users/brandoncrow/opt/anaconda3/lib/python3.8/site-packages (from pandas->pca) (2020.1)\n",
      "Requirement already satisfied: scikit-learn in /Users/brandoncrow/opt/anaconda3/lib/python3.8/site-packages (from sklearn->pca) (0.23.2)\n",
      "Requirement already satisfied: cycler>=0.10 in /Users/brandoncrow/opt/anaconda3/lib/python3.8/site-packages (from matplotlib->pca) (0.10.0)\n",
      "Requirement already satisfied: pyparsing!=2.0.4,!=2.1.2,!=2.1.6,>=2.0.3 in /Users/brandoncrow/opt/anaconda3/lib/python3.8/site-packages (from matplotlib->pca) (2.4.7)\n",
      "Requirement already satisfied: pillow>=6.2.0 in /Users/brandoncrow/opt/anaconda3/lib/python3.8/site-packages (from matplotlib->pca) (8.0.1)\n",
      "Requirement already satisfied: certifi>=2020.06.20 in /Users/brandoncrow/opt/anaconda3/lib/python3.8/site-packages (from matplotlib->pca) (2020.12.5)\n",
      "Requirement already satisfied: kiwisolver>=1.0.1 in /Users/brandoncrow/opt/anaconda3/lib/python3.8/site-packages (from matplotlib->pca) (1.3.0)\n",
      "Requirement already satisfied: six>=1.5 in /Users/brandoncrow/opt/anaconda3/lib/python3.8/site-packages (from python-dateutil>=2.7.3->pandas->pca) (1.15.0)\n",
      "Requirement already satisfied: joblib>=0.11 in /Users/brandoncrow/opt/anaconda3/lib/python3.8/site-packages (from scikit-learn->sklearn->pca) (0.17.0)\n",
      "Requirement already satisfied: threadpoolctl>=2.0.0 in /Users/brandoncrow/opt/anaconda3/lib/python3.8/site-packages (from scikit-learn->sklearn->pca) (2.1.0)\n",
      "Note: you may need to restart the kernel to use updated packages.\n"
     ]
    }
   ],
   "source": [
    "%pip install pca\n",
    "from pca import pca\n",
    "import numpy as np\n",
    "import pandas as pd\n",
    "import matplotlib.pyplot as plt\n",
    "from sklearn.preprocessing import StandardScaler"
   ]
  },
  {
   "cell_type": "code",
   "execution_count": 2,
   "metadata": {},
   "outputs": [
    {
     "data": {
      "text/html": [
       "<div>\n",
       "<style scoped>\n",
       "    .dataframe tbody tr th:only-of-type {\n",
       "        vertical-align: middle;\n",
       "    }\n",
       "\n",
       "    .dataframe tbody tr th {\n",
       "        vertical-align: top;\n",
       "    }\n",
       "\n",
       "    .dataframe thead th {\n",
       "        text-align: right;\n",
       "    }\n",
       "</style>\n",
       "<table border=\"1\" class=\"dataframe\">\n",
       "  <thead>\n",
       "    <tr style=\"text-align: right;\">\n",
       "      <th></th>\n",
       "      <th>Unnamed: 0</th>\n",
       "      <th>Population</th>\n",
       "      <th>Income</th>\n",
       "      <th>Illiteracy</th>\n",
       "      <th>Life.Exp</th>\n",
       "      <th>Murder</th>\n",
       "      <th>HS.Grad</th>\n",
       "      <th>Frost</th>\n",
       "      <th>Area</th>\n",
       "    </tr>\n",
       "  </thead>\n",
       "  <tbody>\n",
       "    <tr>\n",
       "      <th>0</th>\n",
       "      <td>Alabama</td>\n",
       "      <td>3615</td>\n",
       "      <td>3624</td>\n",
       "      <td>2.1</td>\n",
       "      <td>69.05</td>\n",
       "      <td>15.1</td>\n",
       "      <td>41.3</td>\n",
       "      <td>20</td>\n",
       "      <td>50708</td>\n",
       "    </tr>\n",
       "    <tr>\n",
       "      <th>1</th>\n",
       "      <td>Alaska</td>\n",
       "      <td>365</td>\n",
       "      <td>6315</td>\n",
       "      <td>1.5</td>\n",
       "      <td>69.31</td>\n",
       "      <td>11.3</td>\n",
       "      <td>66.7</td>\n",
       "      <td>152</td>\n",
       "      <td>566432</td>\n",
       "    </tr>\n",
       "    <tr>\n",
       "      <th>2</th>\n",
       "      <td>Arizona</td>\n",
       "      <td>2212</td>\n",
       "      <td>4530</td>\n",
       "      <td>1.8</td>\n",
       "      <td>70.55</td>\n",
       "      <td>7.8</td>\n",
       "      <td>58.1</td>\n",
       "      <td>15</td>\n",
       "      <td>113417</td>\n",
       "    </tr>\n",
       "    <tr>\n",
       "      <th>3</th>\n",
       "      <td>Arkansas</td>\n",
       "      <td>2110</td>\n",
       "      <td>3378</td>\n",
       "      <td>1.9</td>\n",
       "      <td>70.66</td>\n",
       "      <td>10.1</td>\n",
       "      <td>39.9</td>\n",
       "      <td>65</td>\n",
       "      <td>51945</td>\n",
       "    </tr>\n",
       "    <tr>\n",
       "      <th>4</th>\n",
       "      <td>California</td>\n",
       "      <td>21198</td>\n",
       "      <td>5114</td>\n",
       "      <td>1.1</td>\n",
       "      <td>71.71</td>\n",
       "      <td>10.3</td>\n",
       "      <td>62.6</td>\n",
       "      <td>20</td>\n",
       "      <td>156361</td>\n",
       "    </tr>\n",
       "  </tbody>\n",
       "</table>\n",
       "</div>"
      ],
      "text/plain": [
       "   Unnamed: 0  Population  Income  Illiteracy  Life.Exp  Murder  HS.Grad  \\\n",
       "0     Alabama        3615    3624         2.1     69.05    15.1     41.3   \n",
       "1      Alaska         365    6315         1.5     69.31    11.3     66.7   \n",
       "2     Arizona        2212    4530         1.8     70.55     7.8     58.1   \n",
       "3    Arkansas        2110    3378         1.9     70.66    10.1     39.9   \n",
       "4  California       21198    5114         1.1     71.71    10.3     62.6   \n",
       "\n",
       "   Frost    Area  \n",
       "0     20   50708  \n",
       "1    152  566432  \n",
       "2     15  113417  \n",
       "3     65   51945  \n",
       "4     20  156361  "
      ]
     },
     "execution_count": 2,
     "metadata": {},
     "output_type": "execute_result"
    }
   ],
   "source": [
    "df = pd.read_csv('x77.csv')\n",
    "df.head()"
   ]
  },
  {
   "cell_type": "markdown",
   "metadata": {},
   "source": [
    "#### Data prep"
   ]
  },
  {
   "cell_type": "markdown",
   "metadata": {},
   "source": [
    "Update the column names."
   ]
  },
  {
   "cell_type": "code",
   "execution_count": 3,
   "metadata": {},
   "outputs": [
    {
     "data": {
      "text/plain": [
       "Index(['Unnamed: 0', 'Population', 'Income', 'Illiteracy', 'Life.Exp',\n",
       "       'Murder', 'HS.Grad', 'Frost', 'Area'],\n",
       "      dtype='object')"
      ]
     },
     "execution_count": 3,
     "metadata": {},
     "output_type": "execute_result"
    }
   ],
   "source": [
    "df.columns"
   ]
  },
  {
   "cell_type": "markdown",
   "metadata": {},
   "source": [
    "Rename columns and set the index as the `State` column."
   ]
  },
  {
   "cell_type": "code",
   "execution_count": 4,
   "metadata": {},
   "outputs": [
    {
     "data": {
      "text/html": [
       "<div>\n",
       "<style scoped>\n",
       "    .dataframe tbody tr th:only-of-type {\n",
       "        vertical-align: middle;\n",
       "    }\n",
       "\n",
       "    .dataframe tbody tr th {\n",
       "        vertical-align: top;\n",
       "    }\n",
       "\n",
       "    .dataframe thead th {\n",
       "        text-align: right;\n",
       "    }\n",
       "</style>\n",
       "<table border=\"1\" class=\"dataframe\">\n",
       "  <thead>\n",
       "    <tr style=\"text-align: right;\">\n",
       "      <th></th>\n",
       "      <th>Population</th>\n",
       "      <th>Income</th>\n",
       "      <th>Illiteracy</th>\n",
       "      <th>Life_exp</th>\n",
       "      <th>Murder</th>\n",
       "      <th>HS_grad</th>\n",
       "      <th>Frost</th>\n",
       "      <th>Area</th>\n",
       "    </tr>\n",
       "    <tr>\n",
       "      <th>State</th>\n",
       "      <th></th>\n",
       "      <th></th>\n",
       "      <th></th>\n",
       "      <th></th>\n",
       "      <th></th>\n",
       "      <th></th>\n",
       "      <th></th>\n",
       "      <th></th>\n",
       "    </tr>\n",
       "  </thead>\n",
       "  <tbody>\n",
       "    <tr>\n",
       "      <th>Alabama</th>\n",
       "      <td>3615</td>\n",
       "      <td>3624</td>\n",
       "      <td>2.1</td>\n",
       "      <td>69.05</td>\n",
       "      <td>15.1</td>\n",
       "      <td>41.3</td>\n",
       "      <td>20</td>\n",
       "      <td>50708</td>\n",
       "    </tr>\n",
       "    <tr>\n",
       "      <th>Alaska</th>\n",
       "      <td>365</td>\n",
       "      <td>6315</td>\n",
       "      <td>1.5</td>\n",
       "      <td>69.31</td>\n",
       "      <td>11.3</td>\n",
       "      <td>66.7</td>\n",
       "      <td>152</td>\n",
       "      <td>566432</td>\n",
       "    </tr>\n",
       "    <tr>\n",
       "      <th>Arizona</th>\n",
       "      <td>2212</td>\n",
       "      <td>4530</td>\n",
       "      <td>1.8</td>\n",
       "      <td>70.55</td>\n",
       "      <td>7.8</td>\n",
       "      <td>58.1</td>\n",
       "      <td>15</td>\n",
       "      <td>113417</td>\n",
       "    </tr>\n",
       "    <tr>\n",
       "      <th>Arkansas</th>\n",
       "      <td>2110</td>\n",
       "      <td>3378</td>\n",
       "      <td>1.9</td>\n",
       "      <td>70.66</td>\n",
       "      <td>10.1</td>\n",
       "      <td>39.9</td>\n",
       "      <td>65</td>\n",
       "      <td>51945</td>\n",
       "    </tr>\n",
       "    <tr>\n",
       "      <th>California</th>\n",
       "      <td>21198</td>\n",
       "      <td>5114</td>\n",
       "      <td>1.1</td>\n",
       "      <td>71.71</td>\n",
       "      <td>10.3</td>\n",
       "      <td>62.6</td>\n",
       "      <td>20</td>\n",
       "      <td>156361</td>\n",
       "    </tr>\n",
       "  </tbody>\n",
       "</table>\n",
       "</div>"
      ],
      "text/plain": [
       "            Population  Income  Illiteracy  Life_exp  Murder  HS_grad  Frost  \\\n",
       "State                                                                          \n",
       "Alabama           3615    3624         2.1     69.05    15.1     41.3     20   \n",
       "Alaska             365    6315         1.5     69.31    11.3     66.7    152   \n",
       "Arizona           2212    4530         1.8     70.55     7.8     58.1     15   \n",
       "Arkansas          2110    3378         1.9     70.66    10.1     39.9     65   \n",
       "California       21198    5114         1.1     71.71    10.3     62.6     20   \n",
       "\n",
       "              Area  \n",
       "State               \n",
       "Alabama      50708  \n",
       "Alaska      566432  \n",
       "Arizona     113417  \n",
       "Arkansas     51945  \n",
       "California  156361  "
      ]
     },
     "execution_count": 4,
     "metadata": {},
     "output_type": "execute_result"
    }
   ],
   "source": [
    "df.rename(columns={'Unnamed: 0':'State', 'Life.Exp':'Life_exp', 'HS.Grad':'HS_grad'}, errors='raise', inplace=True)\n",
    "df.set_index('State', inplace=True)\n",
    "df.head()"
   ]
  },
  {
   "cell_type": "markdown",
   "metadata": {},
   "source": [
    "#### Model and visualize (no scaling)"
   ]
  },
  {
   "cell_type": "code",
   "execution_count": 5,
   "metadata": {},
   "outputs": [
    {
     "name": "stdout",
     "output_type": "stream",
     "text": [
      "[pca] >Processing dataframe..\n",
      "[pca] >The PCA reduction is performed on the [8] columns of the input dataframe.\n",
      "[pca] >Fitting using PCA..\n",
      "[pca] >Computing loadings and PCs..\n",
      "[pca] >Computing explained variance..\n",
      "[pca] >Outlier detection using Hotelling T2 test with alpha=[0.05] and n_components=[5]\n",
      "[pca] >Outlier detection using SPE/DmodX with n_std=[2]\n"
     ]
    }
   ],
   "source": [
    "# Initialize\n",
    "model = pca(n_components=8)\n",
    "\n",
    "# Fit transform\n",
    "out_noscale = model.fit_transform(df)"
   ]
  },
  {
   "cell_type": "code",
   "execution_count": 6,
   "metadata": {},
   "outputs": [
    {
     "data": {
      "image/png": "[encoded data removed]",
      "text/plain": [
       "<Figure size 720x576 with 1 Axes>"
      ]
     },
     "metadata": {
      "needs_background": "light"
     },
     "output_type": "display_data"
    },
    {
     "data": {
      "text/plain": [
       "<Figure size 432x288 with 0 Axes>"
      ]
     },
     "metadata": {},
     "output_type": "display_data"
    }
   ],
   "source": [
    "# Plot explained variance\n",
    "fig, ax = model.plot()"
   ]
  },
  {
   "cell_type": "code",
   "execution_count": 7,
   "metadata": {},
   "outputs": [
    {
     "data": {
      "text/plain": [
       "array([0.99722615, 0.99995688, 0.9999997 , 0.99999999, 1.        ,\n",
       "       1.        , 1.        , 1.        ])"
      ]
     },
     "execution_count": 7,
     "metadata": {},
     "output_type": "execute_result"
    }
   ],
   "source": [
    "out_noscale['explained_var']"
   ]
  },
  {
   "cell_type": "code",
   "execution_count": 8,
   "metadata": {},
   "outputs": [
    {
     "data": {
      "image/png": "[encoded data removed]",
      "text/plain": [
       "<Figure size 720x576 with 1 Axes>"
      ]
     },
     "metadata": {
      "needs_background": "light"
     },
     "output_type": "display_data"
    }
   ],
   "source": [
    "# Make biplot with the number of features\n",
    "# fig, ax = model.biplot(n_feat=8)\n",
    "fig, ax = model.biplot(n_feat=8, legend=False, label=False)"
   ]
  },
  {
   "cell_type": "markdown",
   "metadata": {},
   "source": [
    "#### PCA with data scaled to unit variance"
   ]
  },
  {
   "cell_type": "markdown",
   "metadata": {},
   "source": [
    "Center and scale the data."
   ]
  },
  {
   "cell_type": "code",
   "execution_count": 9,
   "metadata": {},
   "outputs": [],
   "source": [
    "scaler = StandardScaler()\n",
    "X = scaler.fit_transform(df)\n",
    "df = pd.DataFrame(data=X, index=df.index, columns=df.columns)"
   ]
  },
  {
   "cell_type": "code",
   "execution_count": 10,
   "metadata": {},
   "outputs": [
    {
     "name": "stdout",
     "output_type": "stream",
     "text": [
      "[pca] >Processing dataframe..\n",
      "[pca] >The PCA reduction is performed on the [8] columns of the input dataframe.\n",
      "[pca] >Fitting using PCA..\n",
      "[pca] >Computing loadings and PCs..\n",
      "[pca] >Computing explained variance..\n",
      "[pca] >Outlier detection using Hotelling T2 test with alpha=[0.05] and n_components=[5]\n",
      "[pca] >Outlier detection using SPE/DmodX with n_std=[2]\n"
     ]
    }
   ],
   "source": [
    "# Initialize\n",
    "model = pca(n_components=8)\n",
    "\n",
    "# Fit transform\n",
    "out = model.fit_transform(df)"
   ]
  },
  {
   "cell_type": "code",
   "execution_count": 11,
   "metadata": {},
   "outputs": [
    {
     "data": {
      "image/png": "[encoded data removed]",
      "text/plain": [
       "<Figure size 720x576 with 1 Axes>"
      ]
     },
     "metadata": {
      "needs_background": "light"
     },
     "output_type": "display_data"
    },
    {
     "data": {
      "text/plain": [
       "<Figure size 432x288 with 0 Axes>"
      ]
     },
     "metadata": {},
     "output_type": "display_data"
    }
   ],
   "source": [
    "# Plot explained variance\n",
    "fig, ax = model.plot()"
   ]
  },
  {
   "cell_type": "code",
   "execution_count": 12,
   "metadata": {},
   "outputs": [
    {
     "data": {
      "text/plain": [
       "array([0.44986195, 0.65385185, 0.7928445 , 0.88128252, 0.92936273,\n",
       "       0.96779544, 0.98585154, 1.        ])"
      ]
     },
     "execution_count": 12,
     "metadata": {},
     "output_type": "execute_result"
    }
   ],
   "source": [
    "out['explained_var']"
   ]
  },
  {
   "cell_type": "code",
   "execution_count": 13,
   "metadata": {},
   "outputs": [
    {
     "data": {
      "image/png": "[encoded data removed]",
      "text/plain": [
       "<Figure size 720x576 with 1 Axes>"
      ]
     },
     "metadata": {
      "needs_background": "light"
     },
     "output_type": "display_data"
    }
   ],
   "source": [
    "# Make biplot with the number of features\n",
    "# fig, ax = model.biplot(n_feat=8, legend=False)\n",
    "fig, ax = model.biplot(n_feat=8, legend=False, label=False)"
   ]
  },
  {
   "cell_type": "code",
   "execution_count": 14,
   "metadata": {},
   "outputs": [
    {
     "data": {
      "text/html": [
       "<div>\n",
       "<style scoped>\n",
       "    .dataframe tbody tr th:only-of-type {\n",
       "        vertical-align: middle;\n",
       "    }\n",
       "\n",
       "    .dataframe tbody tr th {\n",
       "        vertical-align: top;\n",
       "    }\n",
       "\n",
       "    .dataframe thead th {\n",
       "        text-align: right;\n",
       "    }\n",
       "</style>\n",
       "<table border=\"1\" class=\"dataframe\">\n",
       "  <thead>\n",
       "    <tr style=\"text-align: right;\">\n",
       "      <th></th>\n",
       "      <th>PC</th>\n",
       "      <th>feature</th>\n",
       "      <th>loading</th>\n",
       "      <th>type</th>\n",
       "    </tr>\n",
       "  </thead>\n",
       "  <tbody>\n",
       "    <tr>\n",
       "      <th>0</th>\n",
       "      <td>PC1</td>\n",
       "      <td>Illiteracy</td>\n",
       "      <td>0.467669</td>\n",
       "      <td>best</td>\n",
       "    </tr>\n",
       "    <tr>\n",
       "      <th>1</th>\n",
       "      <td>PC2</td>\n",
       "      <td>Area</td>\n",
       "      <td>0.587624</td>\n",
       "      <td>best</td>\n",
       "    </tr>\n",
       "    <tr>\n",
       "      <th>2</th>\n",
       "      <td>PC3</td>\n",
       "      <td>Population</td>\n",
       "      <td>-0.656325</td>\n",
       "      <td>best</td>\n",
       "    </tr>\n",
       "    <tr>\n",
       "      <th>3</th>\n",
       "      <td>PC4</td>\n",
       "      <td>Frost</td>\n",
       "      <td>-0.618651</td>\n",
       "      <td>best</td>\n",
       "    </tr>\n",
       "    <tr>\n",
       "      <th>4</th>\n",
       "      <td>PC5</td>\n",
       "      <td>Income</td>\n",
       "      <td>-0.637587</td>\n",
       "      <td>best</td>\n",
       "    </tr>\n",
       "    <tr>\n",
       "      <th>5</th>\n",
       "      <td>PC6</td>\n",
       "      <td>HS_grad</td>\n",
       "      <td>-0.644646</td>\n",
       "      <td>best</td>\n",
       "    </tr>\n",
       "    <tr>\n",
       "      <th>6</th>\n",
       "      <td>PC7</td>\n",
       "      <td>Illiteracy</td>\n",
       "      <td>0.619800</td>\n",
       "      <td>best</td>\n",
       "    </tr>\n",
       "    <tr>\n",
       "      <th>7</th>\n",
       "      <td>PC8</td>\n",
       "      <td>Murder</td>\n",
       "      <td>-0.678251</td>\n",
       "      <td>best</td>\n",
       "    </tr>\n",
       "    <tr>\n",
       "      <th>8</th>\n",
       "      <td>PC8</td>\n",
       "      <td>Life_exp</td>\n",
       "      <td>-0.527433</td>\n",
       "      <td>weak</td>\n",
       "    </tr>\n",
       "  </tbody>\n",
       "</table>\n",
       "</div>"
      ],
      "text/plain": [
       "    PC     feature   loading  type\n",
       "0  PC1  Illiteracy  0.467669  best\n",
       "1  PC2        Area  0.587624  best\n",
       "2  PC3  Population -0.656325  best\n",
       "3  PC4       Frost -0.618651  best\n",
       "4  PC5      Income -0.637587  best\n",
       "5  PC6     HS_grad -0.644646  best\n",
       "6  PC7  Illiteracy  0.619800  best\n",
       "7  PC8      Murder -0.678251  best\n",
       "8  PC8    Life_exp -0.527433  weak"
      ]
     },
     "execution_count": 14,
     "metadata": {},
     "output_type": "execute_result"
    }
   ],
   "source": [
    "out['topfeat']"
   ]
  },
  {
   "cell_type": "markdown",
   "metadata": {},
   "source": [
    "***\n",
    "### Citation\n",
    "  \n",
    "Title: pca <br>\n",
    "Author: Erdogan Taskesen <br>\n",
    "Year: 2019 <br>\n",
    "Published: https://github.com/erdogant/pca"
   ]
  }
 ],
 "metadata": {
  "kernelspec": {
   "display_name": "Python 3",
   "language": "python",
   "name": "python3"
  },
  "language_info": {
   "codemirror_mode": {
    "name": "ipython",
    "version": 3
   },
   "file_extension": ".py",
   "mimetype": "text/x-python",
   "name": "python",
   "nbconvert_exporter": "python",
   "pygments_lexer": "ipython3",
   "version": "3.8.3"
  }
 },
 "nbformat": 4,
 "nbformat_minor": 4
}
