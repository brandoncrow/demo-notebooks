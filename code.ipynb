{
 "cells": [
  {
   "cell_type": "markdown",
   "metadata": {},
   "source": [
    "\n",
    "## NumPy\n",
    "\n",
    "Python's fundamental library for fast and efficient scientific computing and data analysis. \n",
    "\n",
    "Key features include:\n",
    "* The multidimensional array (also known as ndarray, NumPy array)\n",
    "* Fast and efficient functions to interact with ndarrays\n",
    "* Standard mathematical functions for working with ndarrays\n",
    "* Tools for integrating code written in C, C++, and Fortran\n",
    "\n",
    "From the docs (https://numpy.org/doc/stable/user/quickstart.html): \n",
    "> \"NumPy’s main object is the homogeneous multidimensional array. It is a table of elements (usually numbers), all of the same type, indexed by a tuple of non-negative integers. In NumPy dimensions are called axes.\"\n",
    "\n",
    "This notebook covers the following concepts:\n",
    "\n",
    "1. Creating ndarrays\n",
    "2. Ndarray attributes\n",
    "3. Arithmetic operators\n",
    "4. Slicing and indexing\n",
    "5. Universal functions and vectorization\n",
    "\n",
    "### Sources\n",
    "1. W. McKinney, “NumPy Basics: Arrays and Vectorized Computation,” in _Python for Data Analysis_, Sebastopol, CA: O'Reilly Media, Inc, USA, 2013, pp. 79–110. \n",
    "2. J. VanderPlas, \"Introduction to NumPy,\" in _Python Data Science Handbook_, O'Reilly Media, Inc. November 2016. [Online]. Available: https://jakevdp.github.io/PythonDataScienceHandbook/.\n",
    "3. “NumPy Reference,” _NumPy Reference - NumPy v1.19 Manual_, 29-Jun-2020. [Online]. Available: https://numpy.org/doc/stable/reference/. \n",
    "---"
   ]
  },
  {
   "cell_type": "code",
   "execution_count": 1,
   "metadata": {},
   "outputs": [],
   "source": [
    "# Import the NumPy library\n",
    "import numpy as np\n",
    "\n",
    "# Import the random.default_rng subpackage\n",
    "from numpy.random import default_rng"
   ]
  },
  {
   "cell_type": "code",
   "execution_count": 2,
   "metadata": {},
   "outputs": [
    {
     "name": "stdout",
     "output_type": "stream",
     "text": [
      "1.19.2\n"
     ]
    }
   ],
   "source": [
    "# Access the numpy version\n",
    "print(np.__version__)"
   ]
  },
  {
   "cell_type": "markdown",
   "metadata": {},
   "source": [
    "### Creating a new NumPy array\n",
    "\n",
    "* `array()` //- fundamental constructor; requires list or tuple of values as input\n",
    "* `arange(start, stop, step)` //- create a linear sequence\n",
    "* `zeros()` //- creates an array that is filled with 0s\n",
    "* `ones()` //- creates an array filled with ones\n",
    "* `empty()` //- creates a new array with values not explicitly set\n",
    "\n",
    "Use the `array()` constructor, which takes a list or tuple of values."
   ]
  },
  {
   "cell_type": "code",
   "execution_count": 3,
   "metadata": {},
   "outputs": [
    {
     "name": "stdout",
     "output_type": "stream",
     "text": [
      "[2. 3. 4.]\n"
     ]
    }
   ],
   "source": [
    "# print(np.array([2,3,4])) # Input could be tuple instead of list\n",
    "print(np.array([2,3,4], dtype=float)) # Can also provide the data type as input (optional)"
   ]
  },
  {
   "cell_type": "markdown",
   "metadata": {},
   "source": [
    "Add a dimension by adding brackets where appropriate."
   ]
  },
  {
   "cell_type": "code",
   "execution_count": 4,
   "metadata": {},
   "outputs": [
    {
     "name": "stdout",
     "output_type": "stream",
     "text": [
      "[[2 3]\n",
      " [4 5]\n",
      " [6 7]\n",
      " [7 8]]\n"
     ]
    }
   ],
   "source": [
    "print(np.array([[2,3], [4,5], [6,7], [7,8]]))"
   ]
  },
  {
   "cell_type": "markdown",
   "metadata": {},
   "source": [
    "NumPy promotes elements so the entire array is of one type."
   ]
  },
  {
   "cell_type": "code",
   "execution_count": 5,
   "metadata": {},
   "outputs": [
    {
     "name": "stdout",
     "output_type": "stream",
     "text": [
      "[  1.  97.  32.   4. -16.   0.]\n"
     ]
    }
   ],
   "source": [
    "# Create a NumPy array from a Python list\n",
    "myList = [1, 97, 32, 4.0, -16, 0]\n",
    "myArray = np.array(myList)\n",
    "print(myArray) # notice that integers have been \"promoted\" to floating point numbers"
   ]
  },
  {
   "cell_type": "markdown",
   "metadata": {},
   "source": [
    "Use `arange()`, which is similar to the built-in `range()` function."
   ]
  },
  {
   "cell_type": "code",
   "execution_count": 6,
   "metadata": {},
   "outputs": [
    {
     "name": "stdout",
     "output_type": "stream",
     "text": [
      "[10 12 14 16 18]\n"
     ]
    }
   ],
   "source": [
    "# Use .arange() to create a new array \n",
    "print(np.arange(start=10, stop=20, step=2))"
   ]
  },
  {
   "cell_type": "code",
   "execution_count": 7,
   "metadata": {},
   "outputs": [
    {
     "name": "stdout",
     "output_type": "stream",
     "text": [
      "[[ 0  5 10 15 20]\n",
      " [25 30 35 40 45]\n",
      " [50 55 60 65 70]]\n"
     ]
    }
   ],
   "source": [
    "# Create a two-dimensional array with arange() and shape()\n",
    "mat = np.arange(0,75,5) # Creates a vector with 15 elements\n",
    "mat.shape = (3,5) # Reshapes the vector into a two-dimentional array (3 rows * 5 cols)\n",
    "print(mat)"
   ]
  },
  {
   "cell_type": "markdown",
   "metadata": {},
   "source": [
    "### NumPy Array Attributes\n",
    "#### Diminsions, shape, size, and data type"
   ]
  },
  {
   "cell_type": "code",
   "execution_count": 8,
   "metadata": {},
   "outputs": [
    {
     "data": {
      "text/plain": [
       "array([[ 0,  5, 10, 15, 20],\n",
       "       [25, 30, 35, 40, 45],\n",
       "       [50, 55, 60, 65, 70]])"
      ]
     },
     "execution_count": 8,
     "metadata": {},
     "output_type": "execute_result"
    }
   ],
   "source": [
    "mat"
   ]
  },
  {
   "cell_type": "code",
   "execution_count": 9,
   "metadata": {},
   "outputs": [
    {
     "data": {
      "text/plain": [
       "2"
      ]
     },
     "execution_count": 9,
     "metadata": {},
     "output_type": "execute_result"
    }
   ],
   "source": [
    "# View the number of dimensions of the ndarray\n",
    "mat.ndim"
   ]
  },
  {
   "cell_type": "code",
   "execution_count": 10,
   "metadata": {},
   "outputs": [
    {
     "data": {
      "text/plain": [
       "(3, 5)"
      ]
     },
     "execution_count": 10,
     "metadata": {},
     "output_type": "execute_result"
    }
   ],
   "source": [
    "# View the shape of the ndarray\n",
    "mat.shape"
   ]
  },
  {
   "cell_type": "code",
   "execution_count": 11,
   "metadata": {},
   "outputs": [
    {
     "data": {
      "text/plain": [
       "15"
      ]
     },
     "execution_count": 11,
     "metadata": {},
     "output_type": "execute_result"
    }
   ],
   "source": [
    "# View the number of attributes in the ndarray\n",
    "mat.size"
   ]
  },
  {
   "cell_type": "code",
   "execution_count": 12,
   "metadata": {},
   "outputs": [
    {
     "data": {
      "text/plain": [
       "dtype('int64')"
      ]
     },
     "execution_count": 12,
     "metadata": {},
     "output_type": "execute_result"
    }
   ],
   "source": [
    "mat.dtype # Get the data type of the elements in the array"
   ]
  },
  {
   "cell_type": "markdown",
   "metadata": {},
   "source": [
    "### Accessing elements: indexing and slicing\n",
    "#### Indexing"
   ]
  },
  {
   "cell_type": "code",
   "execution_count": 13,
   "metadata": {},
   "outputs": [
    {
     "name": "stdout",
     "output_type": "stream",
     "text": [
      "[  1.  97.  32.   4. -16.   0.]\n"
     ]
    }
   ],
   "source": [
    "# We created myArray earlier...\n",
    "print(myArray)"
   ]
  },
  {
   "cell_type": "markdown",
   "metadata": {},
   "source": [
    "Access a single element with square brackets."
   ]
  },
  {
   "cell_type": "code",
   "execution_count": 14,
   "metadata": {},
   "outputs": [
    {
     "name": "stdout",
     "output_type": "stream",
     "text": [
      "97.0\n"
     ]
    }
   ],
   "source": [
    "print(myArray[1])"
   ]
  },
  {
   "cell_type": "code",
   "execution_count": 15,
   "metadata": {},
   "outputs": [
    {
     "name": "stdout",
     "output_type": "stream",
     "text": [
      "[[ 0  5 10 15 20]\n",
      " [25 30 35 40 45]\n",
      " [50 55 60 65 70]]\n"
     ]
    }
   ],
   "source": [
    "# We created the 2D array mat earlier...\n",
    "print(mat)"
   ]
  },
  {
   "cell_type": "markdown",
   "metadata": {},
   "source": [
    "Indexing a two-dimensional arrray with a single index returns the entire row at that index."
   ]
  },
  {
   "cell_type": "code",
   "execution_count": 16,
   "metadata": {},
   "outputs": [
    {
     "name": "stdout",
     "output_type": "stream",
     "text": [
      "[25 30 35 40 45]\n"
     ]
    }
   ],
   "source": [
    "print(mat[1])"
   ]
  },
  {
   "cell_type": "markdown",
   "metadata": {},
   "source": [
    "To access a single element, pass the row and column indices separated by a comma."
   ]
  },
  {
   "cell_type": "code",
   "execution_count": 17,
   "metadata": {},
   "outputs": [
    {
     "name": "stdout",
     "output_type": "stream",
     "text": [
      "35\n"
     ]
    }
   ],
   "source": [
    "# Access elements with comma-separated indices\n",
    "print(mat[1,2])"
   ]
  },
  {
   "cell_type": "markdown",
   "metadata": {},
   "source": [
    "<img src='../../forDataAnalysis/Images/indexing.png' style='width: 400px;' align='left'/>"
   ]
  },
  {
   "cell_type": "markdown",
   "metadata": {},
   "source": [
    "Modify (set) elements with the same syntax."
   ]
  },
  {
   "cell_type": "code",
   "execution_count": 18,
   "metadata": {},
   "outputs": [
    {
     "name": "stdout",
     "output_type": "stream",
     "text": [
      "[[ 0  5 10 15 20]\n",
      " [25 30 35 40 45]\n",
      " [50 55 60 65 -1]]\n"
     ]
    }
   ],
   "source": [
    "mat[2,-1] = -1\n",
    "print(mat)"
   ]
  },
  {
   "cell_type": "markdown",
   "metadata": {},
   "source": [
    "#### Slicing: accessing subarrays\n",
    "NumPy slicing syntax follows that of the Python list: `x[start:stop:step]`, with default values `start = 0`, `stop = `*`size of dimension`*, `step = 1`."
   ]
  },
  {
   "cell_type": "markdown",
   "metadata": {},
   "source": [
    "Slice with a 1-dimensional array."
   ]
  },
  {
   "cell_type": "code",
   "execution_count": 19,
   "metadata": {},
   "outputs": [
    {
     "name": "stdout",
     "output_type": "stream",
     "text": [
      "[  1.  97.  32.   4. -16.   0.]\n"
     ]
    }
   ],
   "source": [
    "# Slice one-dimensional arrays with [:] syntax\n",
    "print(myArray)"
   ]
  },
  {
   "cell_type": "code",
   "execution_count": 20,
   "metadata": {},
   "outputs": [
    {
     "name": "stdout",
     "output_type": "stream",
     "text": [
      "[97. 32.  4.]\n"
     ]
    }
   ],
   "source": [
    "print(myArray[1:4])"
   ]
  },
  {
   "cell_type": "markdown",
   "metadata": {},
   "source": [
    "Slice with a 2-dimensional array by using comma-separated indices (again). "
   ]
  },
  {
   "cell_type": "code",
   "execution_count": 21,
   "metadata": {},
   "outputs": [
    {
     "data": {
      "text/plain": [
       "array([[ 0,  5, 10, 15, 20],\n",
       "       [25, 30, 35, 40, 45],\n",
       "       [50, 55, 60, 65, -1]])"
      ]
     },
     "execution_count": 21,
     "metadata": {},
     "output_type": "execute_result"
    }
   ],
   "source": [
    "mat"
   ]
  },
  {
   "cell_type": "code",
   "execution_count": 22,
   "metadata": {},
   "outputs": [
    {
     "name": "stdout",
     "output_type": "stream",
     "text": [
      "[ 0 25 50]\n"
     ]
    }
   ],
   "source": [
    "# Return the first column\n",
    "print(mat[:,0])"
   ]
  },
  {
   "cell_type": "code",
   "execution_count": 23,
   "metadata": {},
   "outputs": [
    {
     "name": "stdout",
     "output_type": "stream",
     "text": [
      "[ 0  5 10 15 20]\n"
     ]
    }
   ],
   "source": [
    "print(mat[0,:]) # return the first row with all columns"
   ]
  },
  {
   "cell_type": "code",
   "execution_count": 24,
   "metadata": {},
   "outputs": [
    {
     "name": "stdout",
     "output_type": "stream",
     "text": [
      "[[ 0  5 10 15 20]\n",
      " [25 30 35 40 45]]\n"
     ]
    }
   ],
   "source": [
    "# Return the first and second rows and all columns\n",
    "print(mat[0:2,:])"
   ]
  },
  {
   "cell_type": "code",
   "execution_count": 25,
   "metadata": {},
   "outputs": [
    {
     "name": "stdout",
     "output_type": "stream",
     "text": [
      "[[ 0  5 10]\n",
      " [25 30 35]]\n"
     ]
    }
   ],
   "source": [
    "print(mat[0:2,0:3]) # return elements that are in rows 1-2 AND in columns 1-3"
   ]
  },
  {
   "cell_type": "markdown",
   "metadata": {},
   "source": [
    "### Vectorization and universal functions (ufuncs)\n",
    "\n",
    "NumPy allows users to execute batch operations without writing for loops. This is usually called _vectorization_, and is one of the key elements in NumPy's speed and efficiency. The NumPy docs give the following definition of vectorization:\n",
    "\n",
    "> Optimizing a looping block by specialized code. In a traditional sense, vectorization performs the same operation on multiple elements with fixed strides between them via specialized hardware. Compilers know how to take advantage of well-constructed loops to implement such optimizations. NumPy uses vectorization to mean any optimization via specialized code performing the same operations on multiple elements, typically achieving speedups by avoiding some of the overhead in looking up and converting the elements.\n",
    "\n",
    "Vectorized operations are usually implemented through `universal functions` or `ufuncs`, functions that operate on ndarrays in an element-by-element fashion. Per the NumPy docs, a `ufunc` is\n",
    "\n",
    "> ... a “vectorized” wrapper for a function that takes a fixed number of specific inputs and produces a fixed number of specific outputs.\n",
    "\n",
    "Some examples include `sqrt()` and `exp()`, which are _unary_ ufuncs; arithmetic operations, like `+`, `-`, `*`; comparison operators, like `<`, `>=`, `!=`; and many others.\n",
    "\n",
    "To show the difference in efficiency, let's compare a simple operation exectuted with a loop against the same operation executed with a using NumPy's vectorized capability. \n",
    "\n",
    "The following example is derived from the example in: _J. VanderPlas, Python Data Science Handbook. O'Reilly Media, Inc. November 2016. Available: https://jakevdp.github.io/PythonDataScienceHandbook/._"
   ]
  },
  {
   "cell_type": "code",
   "execution_count": 26,
   "metadata": {},
   "outputs": [],
   "source": [
    "def compute_reciprocals(values):\n",
    "    output = np.empty(len(values))\n",
    "    for i in range(len(values)):\n",
    "        output[i] = 1.0 / values[i]\n",
    "    return output"
   ]
  },
  {
   "cell_type": "code",
   "execution_count": 27,
   "metadata": {},
   "outputs": [
    {
     "data": {
      "text/plain": [
       "array([0.14285714, 0.33333333, 0.125     , 0.33333333, 0.5       ])"
      ]
     },
     "execution_count": 27,
     "metadata": {},
     "output_type": "execute_result"
    }
   ],
   "source": [
    "rng = default_rng(12345) # Constuctor for random number generator\n",
    "values = rng.integers(1, 10, size=5)\n",
    "compute_reciprocals(values)"
   ]
  },
  {
   "cell_type": "code",
   "execution_count": 28,
   "metadata": {},
   "outputs": [
    {
     "name": "stdout",
     "output_type": "stream",
     "text": [
      "1.68 s ± 69.7 ms per loop (mean ± std. dev. of 7 runs, 1 loop each)\n"
     ]
    }
   ],
   "source": [
    "big_array = rng.integers(1, 100, size=1000000)\n",
    "%timeit compute_reciprocals(big_array)"
   ]
  },
  {
   "cell_type": "markdown",
   "metadata": {},
   "source": [
    "Completing this opertion with a loop takes a significant amount of time. Enter _vectorized_ operations. \n",
    "\n",
    "The snippet below creates the same output as the loop above using vectorized operations. "
   ]
  },
  {
   "cell_type": "code",
   "execution_count": 29,
   "metadata": {},
   "outputs": [
    {
     "name": "stdout",
     "output_type": "stream",
     "text": [
      "1.41 ms ± 274 µs per loop (mean ± std. dev. of 7 runs, 1000 loops each)\n"
     ]
    }
   ],
   "source": [
    "%timeit (1.0 / big_array)"
   ]
  },
  {
   "cell_type": "markdown",
   "metadata": {},
   "source": [
    "Always consider whether a loop in Python can be replaced by a vectorized operation."
   ]
  },
  {
   "cell_type": "markdown",
   "metadata": {},
   "source": [
    "### Array operations\n"
   ]
  },
  {
   "cell_type": "code",
   "execution_count": 30,
   "metadata": {},
   "outputs": [],
   "source": [
    "a = np.array([10,20,30,40,50])\n",
    "b = np.arange(2,7)"
   ]
  },
  {
   "cell_type": "code",
   "execution_count": 31,
   "metadata": {},
   "outputs": [
    {
     "data": {
      "text/plain": [
       "array([10, 20, 30, 40, 50])"
      ]
     },
     "execution_count": 31,
     "metadata": {},
     "output_type": "execute_result"
    }
   ],
   "source": [
    "a"
   ]
  },
  {
   "cell_type": "code",
   "execution_count": 32,
   "metadata": {},
   "outputs": [
    {
     "data": {
      "text/plain": [
       "array([2, 3, 4, 5, 6])"
      ]
     },
     "execution_count": 32,
     "metadata": {},
     "output_type": "execute_result"
    }
   ],
   "source": [
    "b"
   ]
  },
  {
   "cell_type": "markdown",
   "metadata": {},
   "source": [
    "For operations where the length of the two arrays is equal, operations occur on an element-by-element basis."
   ]
  },
  {
   "cell_type": "code",
   "execution_count": 33,
   "metadata": {},
   "outputs": [
    {
     "data": {
      "text/plain": [
       "array([ 8, 17, 26, 35, 44])"
      ]
     },
     "execution_count": 33,
     "metadata": {},
     "output_type": "execute_result"
    }
   ],
   "source": [
    "a-b\n",
    "# a*b\n",
    "# a%b"
   ]
  },
  {
   "cell_type": "markdown",
   "metadata": {},
   "source": [
    "When one of the values in the expression is a scalar, the scalar is used as an operand against all values in the array. "
   ]
  },
  {
   "cell_type": "code",
   "execution_count": 34,
   "metadata": {},
   "outputs": [
    {
     "data": {
      "text/plain": [
       "array([17, 27, 37, 47, 57])"
      ]
     },
     "execution_count": 34,
     "metadata": {},
     "output_type": "execute_result"
    }
   ],
   "source": [
    "a + 7\n",
    "# b * 3"
   ]
  },
  {
   "cell_type": "markdown",
   "metadata": {},
   "source": [
    "#### Select ufuncs\n",
    "\n",
    "**Absolute value** works like Python's built-in function using `np.abs()`."
   ]
  },
  {
   "cell_type": "code",
   "execution_count": 35,
   "metadata": {},
   "outputs": [
    {
     "data": {
      "text/plain": [
       "array([-10, -20, -30, -40, -50])"
      ]
     },
     "execution_count": 35,
     "metadata": {},
     "output_type": "execute_result"
    }
   ],
   "source": [
    "-a"
   ]
  },
  {
   "cell_type": "code",
   "execution_count": 36,
   "metadata": {},
   "outputs": [
    {
     "data": {
      "text/plain": [
       "array([10, 20, 30, 40, 50])"
      ]
     },
     "execution_count": 36,
     "metadata": {},
     "output_type": "execute_result"
    }
   ],
   "source": [
    "np.abs(-a)"
   ]
  },
  {
   "cell_type": "markdown",
   "metadata": {},
   "source": [
    "#### Exponents"
   ]
  },
  {
   "cell_type": "code",
   "execution_count": 37,
   "metadata": {},
   "outputs": [
    {
     "name": "stdout",
     "output_type": "stream",
     "text": [
      "[ 1  2  4 10]\n"
     ]
    }
   ],
   "source": [
    "x = np.array([1, 2, 4, 10])\n",
    "print(x)"
   ]
  },
  {
   "cell_type": "code",
   "execution_count": 38,
   "metadata": {},
   "outputs": [
    {
     "name": "stdout",
     "output_type": "stream",
     "text": [
      "[2.71828183e+00 7.38905610e+00 5.45981500e+01 2.20264658e+04]\n"
     ]
    }
   ],
   "source": [
    "# e^x\n",
    "print(np.exp(x))"
   ]
  },
  {
   "cell_type": "code",
   "execution_count": 39,
   "metadata": {},
   "outputs": [
    {
     "name": "stdout",
     "output_type": "stream",
     "text": [
      "[   2    4   16 1024]\n"
     ]
    }
   ],
   "source": [
    "# 2^x\n",
    "print(np.power(2, x))"
   ]
  },
  {
   "cell_type": "code",
   "execution_count": 40,
   "metadata": {},
   "outputs": [
    {
     "name": "stdout",
     "output_type": "stream",
     "text": [
      "[    3     9    81 59049]\n"
     ]
    }
   ],
   "source": [
    "print(np.power(3, x))"
   ]
  },
  {
   "cell_type": "markdown",
   "metadata": {},
   "source": [
    "#### Logarithms"
   ]
  },
  {
   "cell_type": "code",
   "execution_count": 41,
   "metadata": {},
   "outputs": [
    {
     "name": "stdout",
     "output_type": "stream",
     "text": [
      "[0.         0.69314718 1.38629436 2.30258509]\n"
     ]
    }
   ],
   "source": [
    "print(np.log(x))"
   ]
  },
  {
   "cell_type": "code",
   "execution_count": 42,
   "metadata": {},
   "outputs": [
    {
     "name": "stdout",
     "output_type": "stream",
     "text": [
      "[0.         1.         2.         3.32192809]\n"
     ]
    }
   ],
   "source": [
    "print(np.log2(x))"
   ]
  },
  {
   "cell_type": "code",
   "execution_count": 43,
   "metadata": {},
   "outputs": [
    {
     "name": "stdout",
     "output_type": "stream",
     "text": [
      "[0.         0.30103    0.60205999 1.        ]\n"
     ]
    }
   ],
   "source": [
    "print(np.log10(x))"
   ]
  },
  {
   "cell_type": "markdown",
   "metadata": {},
   "source": [
    "Many other ufuncs are available in NumPy, including trigonomic functions, conversions, rounding, and more. Refer to the documentation for more information."
   ]
  },
  {
   "cell_type": "markdown",
   "metadata": {},
   "source": [
    "### Selecting elements conditionally"
   ]
  },
  {
   "cell_type": "code",
   "execution_count": 44,
   "metadata": {},
   "outputs": [
    {
     "name": "stdout",
     "output_type": "stream",
     "text": [
      "[  1.  97.  32.   4. -16.   0.]\n"
     ]
    }
   ],
   "source": [
    "print(myArray)"
   ]
  },
  {
   "cell_type": "markdown",
   "metadata": {},
   "source": [
    "An expression using conditional logic creates a boolean array, where the True/False values at each index of the resulting array correspond to the outcome of the test against that element in the original ndarray."
   ]
  },
  {
   "cell_type": "code",
   "execution_count": 45,
   "metadata": {},
   "outputs": [
    {
     "data": {
      "text/plain": [
       "array([False,  True,  True, False, False, False])"
      ]
     },
     "execution_count": 45,
     "metadata": {},
     "output_type": "execute_result"
    }
   ],
   "source": [
    "myArray > 4"
   ]
  },
  {
   "cell_type": "markdown",
   "metadata": {},
   "source": [
    "The Boolean array can be used to select items that correspond to `True` values of the expression."
   ]
  },
  {
   "cell_type": "code",
   "execution_count": 46,
   "metadata": {},
   "outputs": [
    {
     "data": {
      "text/plain": [
       "array([97., 32.])"
      ]
     },
     "execution_count": 46,
     "metadata": {},
     "output_type": "execute_result"
    }
   ],
   "source": [
    "myArray[myArray>4]"
   ]
  },
  {
   "cell_type": "markdown",
   "metadata": {},
   "source": [
    "This selection returns a **view** on the original array, not a copy."
   ]
  },
  {
   "cell_type": "code",
   "execution_count": 47,
   "metadata": {},
   "outputs": [
    {
     "name": "stdout",
     "output_type": "stream",
     "text": [
      "[   1. -111. -111.    4.  -16.    0.]\n"
     ]
    }
   ],
   "source": [
    "newArray = myArray.copy()\n",
    "newArray[newArray>4] = -111\n",
    "print(newArray)"
   ]
  },
  {
   "cell_type": "markdown",
   "metadata": {},
   "source": [
    "#### Another example"
   ]
  },
  {
   "cell_type": "code",
   "execution_count": 48,
   "metadata": {},
   "outputs": [
    {
     "name": "stdout",
     "output_type": "stream",
     "text": [
      "[[ 0  1  2  3]\n",
      " [ 4  5  6  7]\n",
      " [ 8  9 10 11]]\n"
     ]
    }
   ],
   "source": [
    "a = np.arange(12).reshape(3,4)\n",
    "print(a)"
   ]
  },
  {
   "cell_type": "code",
   "execution_count": 49,
   "metadata": {},
   "outputs": [
    {
     "data": {
      "text/plain": [
       "array([[False, False, False, False],\n",
       "       [False,  True,  True,  True],\n",
       "       [ True,  True,  True,  True]])"
      ]
     },
     "execution_count": 49,
     "metadata": {},
     "output_type": "execute_result"
    }
   ],
   "source": [
    "b = a > 4\n",
    "b"
   ]
  },
  {
   "cell_type": "code",
   "execution_count": 50,
   "metadata": {},
   "outputs": [
    {
     "name": "stdout",
     "output_type": "stream",
     "text": [
      "[ 5  6  7  8  9 10 11]\n"
     ]
    }
   ],
   "source": [
    "print(a[b])"
   ]
  },
  {
   "cell_type": "markdown",
   "metadata": {},
   "source": [
    "**Select elements with multiple criteria**"
   ]
  },
  {
   "cell_type": "code",
   "execution_count": 51,
   "metadata": {},
   "outputs": [
    {
     "name": "stdout",
     "output_type": "stream",
     "text": [
      "[32.]\n"
     ]
    }
   ],
   "source": [
    "print(myArray[(myArray > 4) & (myArray < 96)])"
   ]
  },
  {
   "cell_type": "code",
   "execution_count": 52,
   "metadata": {},
   "outputs": [
    {
     "name": "stdout",
     "output_type": "stream",
     "text": [
      "[  1.  97. -16.   0.]\n"
     ]
    }
   ],
   "source": [
    "print(myArray[((myArray < 4) | (myArray > 96))])"
   ]
  },
  {
   "cell_type": "markdown",
   "metadata": {},
   "source": [
    "### Aggregation\n",
    "\n",
    "NumPy has fast built-in aggregation functions for working on arrays."
   ]
  },
  {
   "cell_type": "code",
   "execution_count": 53,
   "metadata": {},
   "outputs": [
    {
     "name": "stdout",
     "output_type": "stream",
     "text": [
      "[2. 3. 4. 5. 6. 7. 8. 9.]\n"
     ]
    }
   ],
   "source": [
    "a = np.arange(2, 10, dtype='float32')\n",
    "print(a)"
   ]
  },
  {
   "cell_type": "markdown",
   "metadata": {},
   "source": [
    "Summation"
   ]
  },
  {
   "cell_type": "code",
   "execution_count": 54,
   "metadata": {},
   "outputs": [
    {
     "name": "stdout",
     "output_type": "stream",
     "text": [
      "44.0\n"
     ]
    }
   ],
   "source": [
    "print(np.sum(a))"
   ]
  },
  {
   "cell_type": "markdown",
   "metadata": {},
   "source": [
    "Minimum and Maximum"
   ]
  },
  {
   "cell_type": "code",
   "execution_count": 55,
   "metadata": {},
   "outputs": [
    {
     "name": "stdout",
     "output_type": "stream",
     "text": [
      "9.0\n"
     ]
    }
   ],
   "source": [
    "print(np.max(a))\n",
    "# print(np.min(a))"
   ]
  },
  {
   "cell_type": "markdown",
   "metadata": {},
   "source": [
    "#### Compute aggregates along a specified axis"
   ]
  },
  {
   "cell_type": "code",
   "execution_count": 56,
   "metadata": {},
   "outputs": [
    {
     "name": "stdout",
     "output_type": "stream",
     "text": [
      "[[1 7 4 2]\n",
      " [4 0 5 4]\n",
      " [3 1 6 8]]\n"
     ]
    }
   ],
   "source": [
    "M = rng.integers(10,size=(3, 4))\n",
    "print(M)"
   ]
  },
  {
   "cell_type": "code",
   "execution_count": 57,
   "metadata": {},
   "outputs": [
    {
     "data": {
      "text/plain": [
       "45"
      ]
     },
     "execution_count": 57,
     "metadata": {},
     "output_type": "execute_result"
    }
   ],
   "source": [
    "M.sum()"
   ]
  },
  {
   "cell_type": "markdown",
   "metadata": {},
   "source": [
    "Aggregate by column with `axis = 0`."
   ]
  },
  {
   "cell_type": "code",
   "execution_count": 58,
   "metadata": {},
   "outputs": [
    {
     "data": {
      "text/plain": [
       "array([ 8,  8, 15, 14])"
      ]
     },
     "execution_count": 58,
     "metadata": {},
     "output_type": "execute_result"
    }
   ],
   "source": [
    "M.sum(axis=0)"
   ]
  },
  {
   "cell_type": "markdown",
   "metadata": {},
   "source": [
    "Aggregate by rows with `axis = 1`."
   ]
  },
  {
   "cell_type": "code",
   "execution_count": 59,
   "metadata": {},
   "outputs": [
    {
     "data": {
      "text/plain": [
       "array([14, 13, 18])"
      ]
     },
     "execution_count": 59,
     "metadata": {},
     "output_type": "execute_result"
    }
   ],
   "source": [
    "M.sum(axis=1)"
   ]
  },
  {
   "cell_type": "markdown",
   "metadata": {},
   "source": [
    "See the NumPy documentation for a list of aggregate functions: https://numpy.org/doc/stable/reference/arrays.ndarray.html#array-ndarray-methods."
   ]
  },
  {
   "cell_type": "markdown",
   "metadata": {},
   "source": [
    "### American National Election Survey 1996\n",
    "This section uses a built-in dataset found in the statsmodels package: American National Election Survey 1996\n",
    "https://www.statsmodels.org/devel/datasets/generated/anes96.html. To access the dataset, first install statsmodels (if not already installed: `pip install statsmodels`. Next, `import statsmodels.api as sm`. You can view a description of the data with `print(sm.datasets.anes96.NOTE)`. Load the dataset with `data = sm.datasets.anes96.load_pandas()`, and access the dataframe with `data.data`. View a small portion of the data with the `head()` method. Use the `values` attribute to get the array of values.\n"
   ]
  },
  {
   "cell_type": "code",
   "execution_count": 60,
   "metadata": {},
   "outputs": [
    {
     "name": "stdout",
     "output_type": "stream",
     "text": [
      "::\n",
      "\n",
      "    Number of observations - 944\n",
      "    Number of variables - 10\n",
      "\n",
      "    Variables name definitions::\n",
      "\n",
      "            popul - Census place population in 1000s\n",
      "            TVnews - Number of times per week that respondent watches TV news.\n",
      "            PID - Party identification of respondent.\n",
      "                0 - Strong Democrat\n",
      "                1 - Weak Democrat\n",
      "                2 - Independent-Democrat\n",
      "                3 - Independent-Indpendent\n",
      "                4 - Independent-Republican\n",
      "                5 - Weak Republican\n",
      "                6 - Strong Republican\n",
      "            age : Age of respondent.\n",
      "            educ - Education level of respondent\n",
      "                1 - 1-8 grades\n",
      "                2 - Some high school\n",
      "                3 - High school graduate\n",
      "                4 - Some college\n",
      "                5 - College degree\n",
      "                6 - Master's degree\n",
      "                7 - PhD\n",
      "            income - Income of household\n",
      "                1  - None or less than $2,999\n",
      "                2  - $3,000-$4,999\n",
      "                3  - $5,000-$6,999\n",
      "                4  - $7,000-$8,999\n",
      "                5  - $9,000-$9,999\n",
      "                6  - $10,000-$10,999\n",
      "                7  - $11,000-$11,999\n",
      "                8  - $12,000-$12,999\n",
      "                9  - $13,000-$13,999\n",
      "                10 - $14,000-$14.999\n",
      "                11 - $15,000-$16,999\n",
      "                12 - $17,000-$19,999\n",
      "                13 - $20,000-$21,999\n",
      "                14 - $22,000-$24,999\n",
      "                15 - $25,000-$29,999\n",
      "                16 - $30,000-$34,999\n",
      "                17 - $35,000-$39,999\n",
      "                18 - $40,000-$44,999\n",
      "                19 - $45,000-$49,999\n",
      "                20 - $50,000-$59,999\n",
      "                21 - $60,000-$74,999\n",
      "                22 - $75,000-89,999\n",
      "                23 - $90,000-$104,999\n",
      "                24 - $105,000 and over\n",
      "            vote - Expected vote\n",
      "                0 - Clinton\n",
      "                1 - Dole\n",
      "            The following 3 variables all take the values:\n",
      "                1 - Extremely liberal\n",
      "                2 - Liberal\n",
      "                3 - Slightly liberal\n",
      "                4 - Moderate\n",
      "                5 - Slightly conservative\n",
      "                6 - Conservative\n",
      "                7 - Extremely Conservative\n",
      "            selfLR - Respondent's self-reported political leanings from \"Left\"\n",
      "                to \"Right\".\n",
      "            ClinLR - Respondents impression of Bill Clinton's political\n",
      "                leanings from \"Left\" to \"Right\".\n",
      "            DoleLR  - Respondents impression of Bob Dole's political leanings\n",
      "                from \"Left\" to \"Right\".\n",
      "            logpopul - log(popul + .1)\n",
      "\n"
     ]
    }
   ],
   "source": [
    "import statsmodels.api as sm\n",
    "print(sm.datasets.anes96.NOTE)"
   ]
  },
  {
   "cell_type": "code",
   "execution_count": 61,
   "metadata": {},
   "outputs": [
    {
     "data": {
      "text/html": [
       "<div>\n",
       "<style scoped>\n",
       "    .dataframe tbody tr th:only-of-type {\n",
       "        vertical-align: middle;\n",
       "    }\n",
       "\n",
       "    .dataframe tbody tr th {\n",
       "        vertical-align: top;\n",
       "    }\n",
       "\n",
       "    .dataframe thead th {\n",
       "        text-align: right;\n",
       "    }\n",
       "</style>\n",
       "<table border=\"1\" class=\"dataframe\">\n",
       "  <thead>\n",
       "    <tr style=\"text-align: right;\">\n",
       "      <th></th>\n",
       "      <th>popul</th>\n",
       "      <th>TVnews</th>\n",
       "      <th>selfLR</th>\n",
       "      <th>ClinLR</th>\n",
       "      <th>DoleLR</th>\n",
       "      <th>PID</th>\n",
       "      <th>age</th>\n",
       "      <th>educ</th>\n",
       "      <th>income</th>\n",
       "      <th>vote</th>\n",
       "      <th>logpopul</th>\n",
       "    </tr>\n",
       "  </thead>\n",
       "  <tbody>\n",
       "    <tr>\n",
       "      <th>0</th>\n",
       "      <td>0.0</td>\n",
       "      <td>7.0</td>\n",
       "      <td>7.0</td>\n",
       "      <td>1.0</td>\n",
       "      <td>6.0</td>\n",
       "      <td>6.0</td>\n",
       "      <td>36.0</td>\n",
       "      <td>3.0</td>\n",
       "      <td>1.0</td>\n",
       "      <td>1.0</td>\n",
       "      <td>-2.302585</td>\n",
       "    </tr>\n",
       "    <tr>\n",
       "      <th>1</th>\n",
       "      <td>190.0</td>\n",
       "      <td>1.0</td>\n",
       "      <td>3.0</td>\n",
       "      <td>3.0</td>\n",
       "      <td>5.0</td>\n",
       "      <td>1.0</td>\n",
       "      <td>20.0</td>\n",
       "      <td>4.0</td>\n",
       "      <td>1.0</td>\n",
       "      <td>0.0</td>\n",
       "      <td>5.247550</td>\n",
       "    </tr>\n",
       "    <tr>\n",
       "      <th>2</th>\n",
       "      <td>31.0</td>\n",
       "      <td>7.0</td>\n",
       "      <td>2.0</td>\n",
       "      <td>2.0</td>\n",
       "      <td>6.0</td>\n",
       "      <td>1.0</td>\n",
       "      <td>24.0</td>\n",
       "      <td>6.0</td>\n",
       "      <td>1.0</td>\n",
       "      <td>0.0</td>\n",
       "      <td>3.437208</td>\n",
       "    </tr>\n",
       "    <tr>\n",
       "      <th>3</th>\n",
       "      <td>83.0</td>\n",
       "      <td>4.0</td>\n",
       "      <td>3.0</td>\n",
       "      <td>4.0</td>\n",
       "      <td>5.0</td>\n",
       "      <td>1.0</td>\n",
       "      <td>28.0</td>\n",
       "      <td>6.0</td>\n",
       "      <td>1.0</td>\n",
       "      <td>0.0</td>\n",
       "      <td>4.420045</td>\n",
       "    </tr>\n",
       "    <tr>\n",
       "      <th>4</th>\n",
       "      <td>640.0</td>\n",
       "      <td>7.0</td>\n",
       "      <td>5.0</td>\n",
       "      <td>6.0</td>\n",
       "      <td>4.0</td>\n",
       "      <td>0.0</td>\n",
       "      <td>68.0</td>\n",
       "      <td>6.0</td>\n",
       "      <td>1.0</td>\n",
       "      <td>0.0</td>\n",
       "      <td>6.461624</td>\n",
       "    </tr>\n",
       "  </tbody>\n",
       "</table>\n",
       "</div>"
      ],
      "text/plain": [
       "   popul  TVnews  selfLR  ClinLR  DoleLR  PID   age  educ  income  vote  \\\n",
       "0    0.0     7.0     7.0     1.0     6.0  6.0  36.0   3.0     1.0   1.0   \n",
       "1  190.0     1.0     3.0     3.0     5.0  1.0  20.0   4.0     1.0   0.0   \n",
       "2   31.0     7.0     2.0     2.0     6.0  1.0  24.0   6.0     1.0   0.0   \n",
       "3   83.0     4.0     3.0     4.0     5.0  1.0  28.0   6.0     1.0   0.0   \n",
       "4  640.0     7.0     5.0     6.0     4.0  0.0  68.0   6.0     1.0   0.0   \n",
       "\n",
       "   logpopul  \n",
       "0 -2.302585  \n",
       "1  5.247550  \n",
       "2  3.437208  \n",
       "3  4.420045  \n",
       "4  6.461624  "
      ]
     },
     "execution_count": 61,
     "metadata": {},
     "output_type": "execute_result"
    }
   ],
   "source": [
    "data = sm.datasets.anes96.load_pandas()\n",
    "anes = data.data\n",
    "anes.head()"
   ]
  },
  {
   "cell_type": "code",
   "execution_count": 62,
   "metadata": {},
   "outputs": [],
   "source": [
    "anes_vals = anes.values"
   ]
  },
  {
   "cell_type": "code",
   "execution_count": 63,
   "metadata": {},
   "outputs": [
    {
     "data": {
      "text/plain": [
       "2"
      ]
     },
     "execution_count": 63,
     "metadata": {},
     "output_type": "execute_result"
    }
   ],
   "source": [
    "# View the (a) number of dimensions, (b) size, and (c) shape of the array.\n",
    "anes_vals.ndim"
   ]
  },
  {
   "cell_type": "code",
   "execution_count": 64,
   "metadata": {},
   "outputs": [
    {
     "data": {
      "text/plain": [
       "10384"
      ]
     },
     "execution_count": 64,
     "metadata": {},
     "output_type": "execute_result"
    }
   ],
   "source": [
    "anes_vals.size"
   ]
  },
  {
   "cell_type": "code",
   "execution_count": 65,
   "metadata": {},
   "outputs": [
    {
     "data": {
      "text/plain": [
       "(944, 11)"
      ]
     },
     "execution_count": 65,
     "metadata": {},
     "output_type": "execute_result"
    }
   ],
   "source": [
    "anes_vals.shape"
   ]
  },
  {
   "cell_type": "markdown",
   "metadata": {},
   "source": [
    "View the first 10 elements in the first column."
   ]
  },
  {
   "cell_type": "code",
   "execution_count": 66,
   "metadata": {},
   "outputs": [
    {
     "data": {
      "text/plain": [
       "array([   0.,  190.,   31.,   83.,  640.,  110.,  100.,   31.,  180.,\n",
       "       2800.])"
      ]
     },
     "execution_count": 66,
     "metadata": {},
     "output_type": "execute_result"
    }
   ],
   "source": [
    "anes_vals[:10,0]"
   ]
  },
  {
   "cell_type": "markdown",
   "metadata": {},
   "source": [
    "How many respondants answered 0 to the question corresponding to PID (column 6)?"
   ]
  },
  {
   "cell_type": "code",
   "execution_count": 67,
   "metadata": {},
   "outputs": [
    {
     "data": {
      "text/plain": [
       "200"
      ]
     },
     "execution_count": 67,
     "metadata": {},
     "output_type": "execute_result"
    }
   ],
   "source": [
    "np.sum(anes_vals[:,5]==0.0)"
   ]
  },
  {
   "cell_type": "markdown",
   "metadata": {},
   "source": [
    "What is the maximum value in the age column?"
   ]
  },
  {
   "cell_type": "code",
   "execution_count": 68,
   "metadata": {},
   "outputs": [
    {
     "data": {
      "text/plain": [
       "91.0"
      ]
     },
     "execution_count": 68,
     "metadata": {},
     "output_type": "execute_result"
    }
   ],
   "source": [
    "np.max(anes_vals[:,6])"
   ]
  },
  {
   "cell_type": "markdown",
   "metadata": {},
   "source": [
    "How many respondants report a household income between \\\\$20,000 and \\\\$90,000?"
   ]
  },
  {
   "cell_type": "code",
   "execution_count": 69,
   "metadata": {},
   "outputs": [
    {
     "data": {
      "text/plain": [
       "620"
      ]
     },
     "execution_count": 69,
     "metadata": {},
     "output_type": "execute_result"
    }
   ],
   "source": [
    "np.sum((anes_vals[:,8]>=13) & (anes_vals[:,8]<23))"
   ]
  },
  {
   "cell_type": "markdown",
   "metadata": {},
   "source": [
    "Standardized variables are obtained by subtracting the mean of the variable and by dividing by the standard deviation of that same variable. Standardize the age column."
   ]
  },
  {
   "cell_type": "code",
   "execution_count": 70,
   "metadata": {},
   "outputs": [
    {
     "name": "stdout",
     "output_type": "stream",
     "text": [
      "[-6.72788062e-01 -1.64754019e+00 -1.40385216e+00 -1.16016412e+00\n",
      "  1.27671619e+00 -1.58661818e+00  1.82501426e+00 -1.58661818e+00\n",
      " -9.77398101e-01 -4.90022039e-01 -1.28200814e+00 -9.77398101e-01\n",
      " -1.52569617e+00 -3.07256016e-01  1.64224823e+00  9.11184139e-01\n",
      "  6.67496108e-01 -1.40385216e+00  2.41042054e-01 -6.72788062e-01\n",
      "  2.49515634e+00 -1.64754019e+00 -1.22108613e+00 -1.85412000e-01\n",
      " -1.24489993e-01 -1.58661818e+00 -4.29100031e-01 -4.29100031e-01\n",
      "  5.82760307e-02 -7.94632078e-01 -1.28200814e+00  7.89340124e-01\n",
      " -9.16476094e-01 -9.77398101e-01 -8.55554086e-01  6.06574101e-01\n",
      "  2.25146831e+00  1.70317024e+00 -1.70846219e+00 -2.64597703e-03\n",
      "  2.41042054e-01 -4.29100031e-01 -1.52569617e+00 -7.33710070e-01\n",
      " -2.46334008e-01  1.76409225e+00 -1.24489993e-01  2.49515634e+00\n",
      " -6.35679848e-02 -1.52569617e+00  1.27671619e+00 -5.50944047e-01\n",
      "  1.33763819e+00  1.21579418e+00  2.49515634e+00  1.27671619e+00\n",
      "  1.76409225e+00  1.52040422e+00 -6.11866055e-01  1.33763819e+00\n",
      " -8.55554086e-01 -7.94632078e-01 -1.03832011e+00 -1.70846219e+00\n",
      " -1.85412000e-01  1.03302816e+00 -6.11866055e-01 -9.77398101e-01\n",
      "  2.49515634e+00  1.82501426e+00 -1.03832011e+00 -9.16476094e-01\n",
      "  7.28418116e-01 -2.64597703e-03 -1.52569617e+00  4.84730085e-01\n",
      " -1.40385216e+00  1.09395016e+00 -1.40385216e+00 -1.03832011e+00\n",
      "  1.58132622e+00  1.58132622e+00  2.67792236e+00  1.45948221e+00\n",
      " -7.94632078e-01  5.82760307e-02 -3.07256016e-01  1.52040422e+00\n",
      " -1.64754019e+00 -1.52569617e+00 -1.40385216e+00 -4.90022039e-01\n",
      "  2.19054630e+00 -4.90022039e-01 -8.55554086e-01  3.62886070e-01\n",
      "  2.12962429e+00  2.12962429e+00 -2.64597703e-03  1.27671619e+00\n",
      "  2.25146831e+00 -7.33710070e-01  1.21579418e+00 -8.55554086e-01\n",
      "  1.19198039e-01  2.67792236e+00 -2.46334008e-01  1.09395016e+00\n",
      "  1.33763819e+00  5.45652093e-01 -1.40385216e+00  1.82501426e+00\n",
      "  1.64224823e+00 -1.34293015e+00  2.31239032e+00 -1.58661818e+00\n",
      " -1.40385216e+00  1.58132622e+00 -6.11866055e-01 -7.33710070e-01\n",
      " -2.64597703e-03 -1.58661818e+00  4.84730085e-01 -1.03832011e+00\n",
      "  1.76409225e+00 -6.72788062e-01 -5.50944047e-01  1.21579418e+00\n",
      "  1.39856020e+00  1.88593626e+00 -1.22108613e+00  2.41042054e-01\n",
      " -8.55554086e-01  2.00778028e+00  1.94685827e+00  1.15487217e+00\n",
      " -9.16476094e-01  1.39856020e+00 -3.07256016e-01  1.58132622e+00\n",
      "  2.43423433e+00 -1.03832011e+00  3.01964062e-01  9.11184139e-01\n",
      "  1.21579418e+00 -6.11866055e-01 -6.11866055e-01  1.03302816e+00\n",
      " -7.94632078e-01  1.39856020e+00 -9.77398101e-01 -1.09924212e+00\n",
      "  1.45948221e+00  1.21579418e+00 -3.68178024e-01  1.19198039e-01\n",
      " -3.07256016e-01  1.88593626e+00 -1.40385216e+00 -1.09924212e+00\n",
      " -4.90022039e-01 -1.70846219e+00 -9.16476094e-01  1.33763819e+00\n",
      "  2.19054630e+00  1.76409225e+00  9.11184139e-01 -2.64597703e-03\n",
      " -7.33710070e-01 -1.46477416e+00  1.94685827e+00  1.03302816e+00\n",
      "  1.39856020e+00  2.43423433e+00 -1.16016412e+00  6.67496108e-01\n",
      "  2.31239032e+00  9.11184139e-01 -1.28200814e+00 -1.16016412e+00\n",
      "  2.49515634e+00  6.06574101e-01  1.88593626e+00  5.45652093e-01\n",
      " -6.35679848e-02 -1.64754019e+00 -1.40385216e+00  1.52040422e+00\n",
      "  2.41042054e-01 -7.94632078e-01 -1.58661818e+00  1.64224823e+00\n",
      "  5.82760307e-02 -1.16016412e+00 -5.50944047e-01  1.39856020e+00\n",
      "  1.52040422e+00 -3.68178024e-01  1.80120046e-01  1.58132622e+00\n",
      "  1.94685827e+00  1.76409225e+00  9.11184139e-01 -1.03832011e+00\n",
      " -7.33710070e-01  1.15487217e+00 -7.33710070e-01  6.06574101e-01\n",
      " -6.11866055e-01  8.50262132e-01  5.45652093e-01  3.62886070e-01\n",
      " -1.40385216e+00  1.64224823e+00 -6.72788062e-01 -1.03832011e+00\n",
      "  4.84730085e-01 -7.33710070e-01 -1.28200814e+00 -1.34293015e+00\n",
      " -1.22108613e+00  1.15487217e+00 -4.90022039e-01  6.67496108e-01\n",
      "  3.62886070e-01  1.76409225e+00  2.41042054e-01  1.39856020e+00\n",
      "  1.27671619e+00 -9.16476094e-01  4.84730085e-01  3.01964062e-01\n",
      "  1.58132622e+00 -3.07256016e-01 -1.46477416e+00 -1.03832011e+00\n",
      "  1.27671619e+00  1.27671619e+00  1.27671619e+00 -5.50944047e-01\n",
      "  1.64224823e+00  7.28418116e-01  1.58132622e+00  1.94685827e+00\n",
      " -1.16016412e+00  1.80120046e-01 -6.72788062e-01  1.80120046e-01\n",
      "  8.50262132e-01 -6.11866055e-01 -1.09924212e+00 -4.90022039e-01\n",
      "  2.19054630e+00  1.27671619e+00 -1.34293015e+00 -3.68178024e-01\n",
      "  1.21579418e+00 -6.72788062e-01  1.15487217e+00  4.84730085e-01\n",
      " -3.07256016e-01 -3.07256016e-01 -6.72788062e-01  3.62886070e-01\n",
      " -6.72788062e-01 -1.09924212e+00 -9.77398101e-01 -2.46334008e-01\n",
      " -8.55554086e-01  9.72106147e-01 -1.34293015e+00  1.52040422e+00\n",
      " -4.29100031e-01 -1.22108613e+00 -1.28200814e+00  1.21579418e+00\n",
      " -1.58661818e+00 -1.22108613e+00  1.88593626e+00 -9.16476094e-01\n",
      "  1.27671619e+00  1.76409225e+00 -8.55554086e-01 -5.50944047e-01\n",
      "  1.19198039e-01  8.50262132e-01  6.06574101e-01 -1.64754019e+00\n",
      "  9.72106147e-01  3.62886070e-01 -7.33710070e-01 -4.90022039e-01\n",
      "  5.82760307e-02  9.11184139e-01 -1.03832011e+00 -1.28200814e+00\n",
      "  1.64224823e+00 -6.11866055e-01 -2.46334008e-01  1.27671619e+00\n",
      "  1.58132622e+00  7.89340124e-01 -7.33710070e-01 -1.09924212e+00\n",
      " -1.34293015e+00 -1.34293015e+00  1.39856020e+00 -3.68178024e-01\n",
      " -6.11866055e-01 -4.90022039e-01 -7.33710070e-01  9.11184139e-01\n",
      " -1.03832011e+00  1.64224823e+00 -2.64597703e-03 -2.46334008e-01\n",
      "  1.03302816e+00  1.70317024e+00 -1.22108613e+00 -1.58661818e+00\n",
      "  1.39856020e+00  1.21579418e+00  2.12962429e+00 -4.29100031e-01\n",
      " -1.28200814e+00 -1.09924212e+00 -1.16016412e+00  1.09395016e+00\n",
      " -1.34293015e+00  1.09395016e+00 -5.50944047e-01  1.52040422e+00\n",
      "  1.21579418e+00  1.64224823e+00  1.45948221e+00 -2.64597703e-03\n",
      "  1.33763819e+00 -1.09924212e+00 -7.94632078e-01 -2.46334008e-01\n",
      " -1.03832011e+00  1.76409225e+00 -1.28200814e+00  1.76409225e+00\n",
      " -3.07256016e-01 -8.55554086e-01 -1.34293015e+00  2.41042054e-01\n",
      "  6.06574101e-01 -1.58661818e+00  1.94685827e+00 -7.33710070e-01\n",
      "  6.06574101e-01 -9.16476094e-01  2.41042054e-01  9.11184139e-01\n",
      "  5.82760307e-02 -4.90022039e-01 -1.28200814e+00 -5.50944047e-01\n",
      "  1.80120046e-01 -8.55554086e-01 -6.72788062e-01 -1.40385216e+00\n",
      " -1.34293015e+00  9.11184139e-01 -8.55554086e-01  3.62886070e-01\n",
      "  1.27671619e+00  1.27671619e+00 -5.50944047e-01  6.67496108e-01\n",
      " -7.94632078e-01  6.67496108e-01 -7.33710070e-01 -3.07256016e-01\n",
      "  4.23808077e-01  1.33763819e+00 -7.33710070e-01  1.15487217e+00\n",
      "  6.67496108e-01 -3.68178024e-01 -7.33710070e-01 -4.29100031e-01\n",
      "  3.62886070e-01  1.21579418e+00 -9.16476094e-01 -3.68178024e-01\n",
      " -2.46334008e-01  1.09395016e+00  7.89340124e-01  1.82501426e+00\n",
      " -7.33710070e-01  5.82760307e-02  3.01964062e-01 -2.46334008e-01\n",
      " -2.46334008e-01  1.21579418e+00  5.45652093e-01  9.11184139e-01\n",
      "  9.11184139e-01 -1.52569617e+00 -1.58661818e+00 -7.94632078e-01\n",
      "  1.39856020e+00  1.80120046e-01 -3.07256016e-01  1.58132622e+00\n",
      "  6.06574101e-01 -4.29100031e-01  6.67496108e-01  9.11184139e-01\n",
      " -1.85412000e-01 -1.03832011e+00  1.76409225e+00  1.80120046e-01\n",
      " -3.68178024e-01  1.82501426e+00 -7.33710070e-01 -4.90022039e-01\n",
      "  1.52040422e+00 -3.07256016e-01  2.31239032e+00  1.94685827e+00\n",
      " -4.90022039e-01  6.67496108e-01 -1.22108613e+00 -2.46334008e-01\n",
      "  6.67496108e-01 -1.16016412e+00 -1.22108613e+00 -4.29100031e-01\n",
      " -2.46334008e-01  1.03302816e+00 -4.90022039e-01  1.76409225e+00\n",
      "  1.03302816e+00 -1.16016412e+00 -1.24489993e-01 -1.52569617e+00\n",
      " -1.22108613e+00 -9.77398101e-01 -7.94632078e-01 -1.03832011e+00\n",
      "  1.03302816e+00 -6.72788062e-01 -9.77398101e-01 -6.11866055e-01\n",
      "  5.82760307e-02 -3.68178024e-01 -1.34293015e+00  2.12962429e+00\n",
      " -6.72788062e-01 -2.64597703e-03  1.21579418e+00 -1.40385216e+00\n",
      " -8.55554086e-01  7.28418116e-01  1.45948221e+00 -6.72788062e-01\n",
      " -3.68178024e-01 -5.50944047e-01 -9.16476094e-01 -9.16476094e-01\n",
      "  1.70317024e+00  3.01964062e-01 -1.09924212e+00  1.45948221e+00\n",
      " -8.55554086e-01  1.21579418e+00  1.19198039e-01 -9.77398101e-01\n",
      "  3.62886070e-01 -7.33710070e-01  1.19198039e-01  1.64224823e+00\n",
      " -1.09924212e+00 -1.22108613e+00  1.39856020e+00 -2.46334008e-01\n",
      " -2.64597703e-03 -3.07256016e-01 -3.68178024e-01 -6.11866055e-01\n",
      "  8.50262132e-01  2.25146831e+00 -6.35679848e-02 -4.90022039e-01\n",
      "  3.62886070e-01  2.43423433e+00  2.41042054e-01 -6.11866055e-01\n",
      " -6.11866055e-01 -4.29100031e-01 -6.35679848e-02 -1.85412000e-01\n",
      " -6.11866055e-01  4.84730085e-01 -4.29100031e-01 -3.07256016e-01\n",
      " -4.29100031e-01 -9.16476094e-01  6.67496108e-01 -6.11866055e-01\n",
      "  2.41042054e-01 -1.85412000e-01 -1.46477416e+00 -5.50944047e-01\n",
      " -3.07256016e-01  7.89340124e-01 -7.94632078e-01  1.19198039e-01\n",
      " -4.29100031e-01 -1.46477416e+00 -2.64597703e-03 -1.85412000e-01\n",
      " -6.11866055e-01 -1.28200814e+00  2.41042054e-01  1.33763819e+00\n",
      " -6.72788062e-01 -1.16016412e+00 -4.29100031e-01 -1.24489993e-01\n",
      "  1.70317024e+00 -9.16476094e-01 -1.22108613e+00  9.72106147e-01\n",
      "  1.94685827e+00 -4.29100031e-01  6.06574101e-01 -1.85412000e-01\n",
      "  1.88593626e+00  6.67496108e-01  4.84730085e-01 -1.34293015e+00\n",
      " -1.22108613e+00 -1.58661818e+00 -6.11866055e-01 -9.77398101e-01\n",
      "  2.31239032e+00 -8.55554086e-01  9.72106147e-01  2.41042054e-01\n",
      " -6.35679848e-02 -1.28200814e+00  6.06574101e-01  5.82760307e-02\n",
      "  4.84730085e-01 -6.11866055e-01 -4.90022039e-01 -1.40385216e+00\n",
      " -1.03832011e+00 -6.72788062e-01 -1.24489993e-01 -1.09924212e+00\n",
      " -3.68178024e-01 -1.16016412e+00 -7.33710070e-01 -6.35679848e-02\n",
      "  4.84730085e-01  1.09395016e+00 -1.52569617e+00 -3.68178024e-01\n",
      " -2.46334008e-01  1.19198039e-01 -7.33710070e-01  2.00778028e+00\n",
      "  6.06574101e-01  5.82760307e-02 -2.46334008e-01 -7.94632078e-01\n",
      " -1.85412000e-01  1.19198039e-01 -2.46334008e-01 -4.90022039e-01\n",
      " -1.22108613e+00 -1.03832011e+00 -8.55554086e-01 -9.16476094e-01\n",
      " -9.77398101e-01 -1.22108613e+00 -6.72788062e-01 -1.24489993e-01\n",
      "  2.41042054e-01 -6.72788062e-01 -2.64597703e-03 -3.07256016e-01\n",
      "  1.39856020e+00 -4.29100031e-01 -5.50944047e-01 -1.09924212e+00\n",
      "  6.67496108e-01 -1.16016412e+00 -1.03832011e+00  5.82760307e-02\n",
      " -7.33710070e-01 -5.50944047e-01  5.45652093e-01  9.11184139e-01\n",
      "  5.45652093e-01 -9.16476094e-01  1.80120046e-01 -1.24489993e-01\n",
      " -6.72788062e-01  1.19198039e-01 -9.77398101e-01 -8.55554086e-01\n",
      " -7.33710070e-01  1.58132622e+00  4.23808077e-01  5.82760307e-02\n",
      "  1.09395016e+00 -6.35679848e-02 -1.24489993e-01  1.09395016e+00\n",
      " -1.24489993e-01  2.55607835e+00 -9.16476094e-01 -5.50944047e-01\n",
      " -8.55554086e-01  1.19198039e-01  1.03302816e+00  4.84730085e-01\n",
      "  5.45652093e-01 -1.03832011e+00 -3.68178024e-01 -4.90022039e-01\n",
      " -7.94632078e-01  3.62886070e-01 -4.29100031e-01  5.82760307e-02\n",
      "  7.28418116e-01  4.23808077e-01 -3.68178024e-01 -3.68178024e-01\n",
      "  9.72106147e-01 -4.90022039e-01 -6.35679848e-02  4.84730085e-01\n",
      " -3.07256016e-01  6.67496108e-01 -3.07256016e-01 -4.29100031e-01\n",
      "  5.45652093e-01 -6.11866055e-01 -6.11866055e-01  1.19198039e-01\n",
      "  9.72106147e-01 -1.03832011e+00  9.11184139e-01 -1.03832011e+00\n",
      " -7.94632078e-01 -3.68178024e-01 -2.46334008e-01 -8.55554086e-01\n",
      "  1.21579418e+00  4.84730085e-01 -8.55554086e-01  8.50262132e-01\n",
      " -1.24489993e-01 -7.94632078e-01 -7.33710070e-01  1.80120046e-01\n",
      " -5.50944047e-01  5.45652093e-01 -9.77398101e-01 -4.29100031e-01\n",
      " -1.85412000e-01 -4.90022039e-01 -1.24489993e-01  1.52040422e+00\n",
      " -1.85412000e-01  8.50262132e-01 -7.94632078e-01  8.50262132e-01\n",
      "  1.21579418e+00 -5.50944047e-01  1.80120046e-01  9.11184139e-01\n",
      " -6.72788062e-01  1.80120046e-01 -1.03832011e+00  7.28418116e-01\n",
      "  9.11184139e-01 -4.29100031e-01 -1.03832011e+00 -2.64597703e-03\n",
      " -3.68178024e-01 -7.33710070e-01 -1.24489993e-01 -7.94632078e-01\n",
      "  4.84730085e-01 -6.11866055e-01  8.50262132e-01  9.11184139e-01\n",
      "  4.23808077e-01 -8.55554086e-01  1.80120046e-01 -6.11866055e-01\n",
      " -1.85412000e-01  1.88593626e+00  5.45652093e-01 -1.09924212e+00\n",
      "  3.01964062e-01 -9.77398101e-01 -7.94632078e-01 -9.77398101e-01\n",
      " -2.46334008e-01 -9.77398101e-01  9.72106147e-01 -5.50944047e-01\n",
      " -9.77398101e-01  1.03302816e+00  4.84730085e-01 -3.68178024e-01\n",
      " -5.50944047e-01 -1.16016412e+00 -3.07256016e-01 -2.46334008e-01\n",
      " -6.11866055e-01 -2.64597703e-03  3.01964062e-01 -9.16476094e-01\n",
      " -1.09924212e+00  5.45652093e-01  9.72106147e-01 -7.33710070e-01\n",
      " -6.72788062e-01  1.70317024e+00  5.82760307e-02 -6.72788062e-01\n",
      " -7.94632078e-01 -7.33710070e-01  1.80120046e-01 -4.90022039e-01\n",
      "  1.39856020e+00  1.76409225e+00 -7.33710070e-01  3.62886070e-01\n",
      " -6.35679848e-02 -7.94632078e-01  1.33763819e+00 -9.16476094e-01\n",
      "  1.80120046e-01 -7.33710070e-01  1.21579418e+00 -2.64597703e-03\n",
      "  1.80120046e-01 -9.16476094e-01  6.67496108e-01  1.19198039e-01\n",
      " -2.46334008e-01 -1.40385216e+00  6.67496108e-01 -2.46334008e-01\n",
      "  7.28418116e-01 -4.29100031e-01 -7.33710070e-01  5.82760307e-02\n",
      " -4.29100031e-01  5.82760307e-02 -2.64597703e-03 -1.46477416e+00\n",
      " -5.50944047e-01  2.06870229e+00  5.82760307e-02  3.01964062e-01\n",
      " -1.40385216e+00 -1.58661818e+00  1.39856020e+00 -1.40385216e+00\n",
      "  6.06574101e-01 -6.11866055e-01 -1.34293015e+00 -8.55554086e-01\n",
      " -1.24489993e-01 -3.07256016e-01 -2.64597703e-03  2.41042054e-01\n",
      "  2.31239032e+00 -9.16476094e-01 -9.77398101e-01 -1.46477416e+00\n",
      " -3.07256016e-01  4.84730085e-01 -1.24489993e-01 -7.33710070e-01\n",
      " -1.24489993e-01 -3.07256016e-01 -6.11866055e-01 -5.50944047e-01\n",
      " -2.64597703e-03 -9.16476094e-01 -7.33710070e-01 -5.50944047e-01\n",
      " -4.29100031e-01  9.11184139e-01 -1.16016412e+00  7.28418116e-01\n",
      " -1.34293015e+00 -9.77398101e-01 -1.24489993e-01 -3.07256016e-01\n",
      "  5.45652093e-01 -2.64597703e-03 -5.50944047e-01 -2.64597703e-03\n",
      "  1.19198039e-01 -1.09924212e+00  6.06574101e-01  1.27671619e+00\n",
      "  1.76409225e+00  1.15487217e+00  7.28418116e-01 -6.11866055e-01\n",
      " -5.50944047e-01 -2.64597703e-03 -6.72788062e-01 -1.24489993e-01\n",
      " -4.90022039e-01 -7.94632078e-01  1.19198039e-01 -6.72788062e-01\n",
      "  2.06870229e+00 -1.09924212e+00 -1.24489993e-01 -1.58661818e+00\n",
      " -8.55554086e-01 -1.85412000e-01  3.01964062e-01 -5.50944047e-01\n",
      " -1.85412000e-01  2.43423433e+00 -1.52569617e+00 -9.16476094e-01\n",
      "  1.33763819e+00  1.19198039e-01  3.62886070e-01 -1.85412000e-01\n",
      " -7.94632078e-01  4.84730085e-01 -7.33710070e-01  4.84730085e-01\n",
      " -1.22108613e+00 -1.28200814e+00  4.23808077e-01 -3.07256016e-01\n",
      "  6.06574101e-01  4.23808077e-01  4.84730085e-01  1.80120046e-01\n",
      "  6.06574101e-01 -6.35679848e-02  3.62886070e-01 -9.16476094e-01\n",
      "  3.62886070e-01 -4.90022039e-01 -2.64597703e-03  6.06574101e-01\n",
      "  1.19198039e-01 -9.77398101e-01 -2.46334008e-01 -1.85412000e-01\n",
      " -4.90022039e-01  1.19198039e-01  1.52040422e+00  1.80120046e-01\n",
      " -1.16016412e+00  5.82760307e-02 -9.16476094e-01  9.72106147e-01\n",
      " -6.72788062e-01 -6.72788062e-01  3.62886070e-01 -1.85412000e-01\n",
      " -3.68178024e-01  5.45652093e-01  9.72106147e-01  3.01964062e-01\n",
      " -2.46334008e-01 -4.29100031e-01  1.33763819e+00  1.19198039e-01\n",
      "  1.09395016e+00  3.62886070e-01  1.80120046e-01 -1.22108613e+00\n",
      " -1.85412000e-01  4.23808077e-01 -8.55554086e-01  5.82760307e-02\n",
      "  4.23808077e-01  5.45652093e-01 -7.94632078e-01 -3.68178024e-01\n",
      " -4.29100031e-01  4.84730085e-01 -5.50944047e-01 -4.29100031e-01\n",
      " -6.35679848e-02 -1.28200814e+00  1.19198039e-01  2.41042054e-01\n",
      " -6.35679848e-02 -4.29100031e-01 -1.03832011e+00 -1.24489993e-01\n",
      "  3.01964062e-01 -6.72788062e-01  1.19198039e-01 -5.50944047e-01\n",
      "  2.41042054e-01 -2.64597703e-03  3.01964062e-01 -8.55554086e-01\n",
      "  1.80120046e-01  5.82760307e-02 -6.72788062e-01 -7.33710070e-01\n",
      " -7.94632078e-01  3.62886070e-01 -8.55554086e-01  3.01964062e-01\n",
      " -1.85412000e-01  5.82760307e-02 -1.64754019e+00 -1.24489993e-01\n",
      "  1.39856020e+00 -4.90022039e-01 -4.29100031e-01  9.11184139e-01\n",
      " -6.35679848e-02 -6.35679848e-02  5.45652093e-01  4.84730085e-01\n",
      " -3.68178024e-01 -2.46334008e-01 -7.94632078e-01  1.58132622e+00\n",
      "  1.80120046e-01 -2.46334008e-01 -6.35679848e-02  8.50262132e-01]\n"
     ]
    }
   ],
   "source": [
    "ageMean = np.mean(anes_vals[:,6])\n",
    "ageStd = np.std(anes_vals[:,6])\n",
    "anes_vals[:,6] = (anes_vals[:,6] - ageMean) / ageStd\n",
    "print(anes_vals[:,6])"
   ]
  },
  {
   "cell_type": "markdown",
   "metadata": {},
   "source": [
    "***\n"
   ]
  },
  {
   "cell_type": "markdown",
   "metadata": {},
   "source": [
    "# pandas\n",
    "> pandas is a python package providing fast, flexible, and expressive data structures designed to make working with “relational” or “labeled” data both easy and intuitive. It aims to be the fundamental high-level building block for doing practical, real world data analysis in Python.\n",
    "\n",
    "\n",
    "\n",
    "#### Features include:\n",
    "\n",
    "* Explore, clean, and process tabular data\n",
    "* Two primary data structures: the Series (1-dimensional) and the DataFrame (2-dimensional). \n",
    "* Read/write support for many different formats (CSV, XLS, HTML, JSON, SQL, and others)\n",
    "* Provides methods for plotting through Matplotlib wrapper\n",
    "* Great documentation, including guides for those familiar with R, Stata, SAS, and SQL: https://pandas.pydata.org/docs/.\n",
    "\n",
    "#### Objectives\n",
    "* Creating objects\n",
    "* Viewing objects\n",
    "* Selection\n",
    "* Operations\n",
    "* Grouping \n",
    "* Categoricals\n",
    "* Reshaping data\n",
    "* Plotting"
   ]
  },
  {
   "cell_type": "code",
   "execution_count": 71,
   "metadata": {},
   "outputs": [],
   "source": [
    "# import numpy as np\n",
    "import pandas as pd # Importing pandas as \"pd\" is the convention"
   ]
  },
  {
   "cell_type": "markdown",
   "metadata": {},
   "source": [
    "## Data Structures: Series and DataFrame"
   ]
  },
  {
   "cell_type": "markdown",
   "metadata": {},
   "source": [
    "### Series\n",
    "\n",
    "> A pandas Series is a one-dimensional array with axis labels.\n",
    "\n",
    "The Series constructor is `pd.Series(data, index)`, where index is optional. The data parameter can take arguments of many different forms:\n",
    "* Scalar value\n",
    "* Python List, Dict, Set\n",
    "* NumPy Array\n",
    "\n",
    "#### Create a Series by passing a scalar\n"
   ]
  },
  {
   "cell_type": "code",
   "execution_count": 72,
   "metadata": {},
   "outputs": [
    {
     "data": {
      "text/plain": [
       "a    1\n",
       "b    1\n",
       "c    1\n",
       "d    1\n",
       "dtype: int64"
      ]
     },
     "execution_count": 72,
     "metadata": {},
     "output_type": "execute_result"
    }
   ],
   "source": [
    "pd.Series(1, index=['a','b','c','d'])"
   ]
  },
  {
   "cell_type": "markdown",
   "metadata": {},
   "source": [
    "#### Create a Series by passing a Python list"
   ]
  },
  {
   "cell_type": "code",
   "execution_count": 73,
   "metadata": {},
   "outputs": [
    {
     "data": {
      "text/plain": [
       "0    4\n",
       "1    3\n",
       "2   -5\n",
       "3    8\n",
       "dtype: int64"
      ]
     },
     "execution_count": 73,
     "metadata": {},
     "output_type": "execute_result"
    }
   ],
   "source": [
    "pd.Series([4,3,-5,8])"
   ]
  },
  {
   "cell_type": "markdown",
   "metadata": {},
   "source": [
    "Indices are integers by default, but can be set explicitly. Additionally, they can consist of values of any desired data type. This is the primary difference between a 1-dimensional NumPy array and the pandas Series."
   ]
  },
  {
   "cell_type": "code",
   "execution_count": 74,
   "metadata": {},
   "outputs": [
    {
     "data": {
      "text/plain": [
       "a    4\n",
       "b    3\n",
       "c   -5\n",
       "d    8\n",
       "dtype: int64"
      ]
     },
     "execution_count": 74,
     "metadata": {},
     "output_type": "execute_result"
    }
   ],
   "source": [
    "# We can also explicitly create a named index\n",
    "s = pd.Series([4,3,-5,8], index=['a','b','c','d'])\n",
    "s"
   ]
  },
  {
   "cell_type": "markdown",
   "metadata": {},
   "source": [
    "The `values` attribute contains a NumPy array. The `index` attribute contains the Series index."
   ]
  },
  {
   "cell_type": "code",
   "execution_count": 75,
   "metadata": {},
   "outputs": [
    {
     "data": {
      "text/plain": [
       "array([ 4,  3, -5,  8])"
      ]
     },
     "execution_count": 75,
     "metadata": {},
     "output_type": "execute_result"
    }
   ],
   "source": [
    "s.values"
   ]
  },
  {
   "cell_type": "code",
   "execution_count": 76,
   "metadata": {},
   "outputs": [
    {
     "data": {
      "text/plain": [
       "Index(['a', 'b', 'c', 'd'], dtype='object')"
      ]
     },
     "execution_count": 76,
     "metadata": {},
     "output_type": "execute_result"
    }
   ],
   "source": [
    "s.index"
   ]
  },
  {
   "cell_type": "markdown",
   "metadata": {},
   "source": [
    "#### Create a Series with a Python dictionary"
   ]
  },
  {
   "cell_type": "code",
   "execution_count": 77,
   "metadata": {},
   "outputs": [],
   "source": [
    "shapes = {'circle': 0,\n",
    "          'triangle': 3,\n",
    "          'square': 4,\n",
    "          'pentagon': 5,\n",
    "          'hexagon': 6,\n",
    "          'heptagon':7,\n",
    "          'octagon':8}"
   ]
  },
  {
   "cell_type": "markdown",
   "metadata": {},
   "source": [
    "The **dict** keys become the Series **indices**. "
   ]
  },
  {
   "cell_type": "code",
   "execution_count": 78,
   "metadata": {},
   "outputs": [
    {
     "data": {
      "text/plain": [
       "circle      0\n",
       "triangle    3\n",
       "square      4\n",
       "pentagon    5\n",
       "hexagon     6\n",
       "heptagon    7\n",
       "octagon     8\n",
       "dtype: int64"
      ]
     },
     "execution_count": 78,
     "metadata": {},
     "output_type": "execute_result"
    }
   ],
   "source": [
    "shapesSeries = pd.Series(shapes)\n",
    "shapesSeries"
   ]
  },
  {
   "cell_type": "markdown",
   "metadata": {},
   "source": [
    "### DataFrame\n",
    "\n",
    "The **DataFrame** object is a tabular data structure containing an ordered collection of columns.\n",
    "* Spreadsheet-like\n",
    "* Each column can contain different data types (numeric, string, boolean, etc.)\n",
    "* Has both a row and column index\n",
    "* Can be thought of as a dict of Series"
   ]
  },
  {
   "cell_type": "markdown",
   "metadata": {},
   "source": [
    "#### Create a DataFrame by passing a NumPy array"
   ]
  },
  {
   "cell_type": "code",
   "execution_count": 79,
   "metadata": {},
   "outputs": [],
   "source": [
    "dates = pd.date_range('20200101', periods=6) # to be used as the index"
   ]
  },
  {
   "cell_type": "code",
   "execution_count": 80,
   "metadata": {},
   "outputs": [
    {
     "data": {
      "text/plain": [
       "DatetimeIndex(['2020-01-01', '2020-01-02', '2020-01-03', '2020-01-04',\n",
       "               '2020-01-05', '2020-01-06'],\n",
       "              dtype='datetime64[ns]', freq='D')"
      ]
     },
     "execution_count": 80,
     "metadata": {},
     "output_type": "execute_result"
    }
   ],
   "source": [
    "dates"
   ]
  },
  {
   "cell_type": "code",
   "execution_count": 81,
   "metadata": {},
   "outputs": [
    {
     "data": {
      "text/plain": [
       "array([[-1.52806807, -2.12830824,  0.17079098,  1.52434947],\n",
       "       [-0.37376285, -0.7907664 , -1.83261326,  1.05956423],\n",
       "       [-1.33906271, -1.15205485,  1.17433697,  0.97300629],\n",
       "       [-0.0765475 , -0.90016214,  1.87390484, -0.55568907],\n",
       "       [ 1.70222016,  0.31423687,  1.14348019,  2.13405389],\n",
       "       [ 0.90144262,  0.0264819 ,  0.28903661, -0.96705004]])"
      ]
     },
     "execution_count": 81,
     "metadata": {},
     "output_type": "execute_result"
    }
   ],
   "source": [
    "# Create a DataFrame object with a NumPy array of size 6x4 with \n",
    "# samples from the standard normal distribution\n",
    "# rng = np.random.default_rng(12345) # Constuctor for random number generator\n",
    "data = rng.standard_normal((6,4))\n",
    "data"
   ]
  },
  {
   "cell_type": "code",
   "execution_count": 82,
   "metadata": {},
   "outputs": [
    {
     "data": {
      "text/html": [
       "<div>\n",
       "<style scoped>\n",
       "    .dataframe tbody tr th:only-of-type {\n",
       "        vertical-align: middle;\n",
       "    }\n",
       "\n",
       "    .dataframe tbody tr th {\n",
       "        vertical-align: top;\n",
       "    }\n",
       "\n",
       "    .dataframe thead th {\n",
       "        text-align: right;\n",
       "    }\n",
       "</style>\n",
       "<table border=\"1\" class=\"dataframe\">\n",
       "  <thead>\n",
       "    <tr style=\"text-align: right;\">\n",
       "      <th></th>\n",
       "      <th>A</th>\n",
       "      <th>B</th>\n",
       "      <th>C</th>\n",
       "      <th>D</th>\n",
       "    </tr>\n",
       "  </thead>\n",
       "  <tbody>\n",
       "    <tr>\n",
       "      <th>2020-01-01</th>\n",
       "      <td>-1.528068</td>\n",
       "      <td>-2.128308</td>\n",
       "      <td>0.170791</td>\n",
       "      <td>1.524349</td>\n",
       "    </tr>\n",
       "    <tr>\n",
       "      <th>2020-01-02</th>\n",
       "      <td>-0.373763</td>\n",
       "      <td>-0.790766</td>\n",
       "      <td>-1.832613</td>\n",
       "      <td>1.059564</td>\n",
       "    </tr>\n",
       "    <tr>\n",
       "      <th>2020-01-03</th>\n",
       "      <td>-1.339063</td>\n",
       "      <td>-1.152055</td>\n",
       "      <td>1.174337</td>\n",
       "      <td>0.973006</td>\n",
       "    </tr>\n",
       "    <tr>\n",
       "      <th>2020-01-04</th>\n",
       "      <td>-0.076548</td>\n",
       "      <td>-0.900162</td>\n",
       "      <td>1.873905</td>\n",
       "      <td>-0.555689</td>\n",
       "    </tr>\n",
       "    <tr>\n",
       "      <th>2020-01-05</th>\n",
       "      <td>1.702220</td>\n",
       "      <td>0.314237</td>\n",
       "      <td>1.143480</td>\n",
       "      <td>2.134054</td>\n",
       "    </tr>\n",
       "    <tr>\n",
       "      <th>2020-01-06</th>\n",
       "      <td>0.901443</td>\n",
       "      <td>0.026482</td>\n",
       "      <td>0.289037</td>\n",
       "      <td>-0.967050</td>\n",
       "    </tr>\n",
       "  </tbody>\n",
       "</table>\n",
       "</div>"
      ],
      "text/plain": [
       "                   A         B         C         D\n",
       "2020-01-01 -1.528068 -2.128308  0.170791  1.524349\n",
       "2020-01-02 -0.373763 -0.790766 -1.832613  1.059564\n",
       "2020-01-03 -1.339063 -1.152055  1.174337  0.973006\n",
       "2020-01-04 -0.076548 -0.900162  1.873905 -0.555689\n",
       "2020-01-05  1.702220  0.314237  1.143480  2.134054\n",
       "2020-01-06  0.901443  0.026482  0.289037 -0.967050"
      ]
     },
     "execution_count": 82,
     "metadata": {},
     "output_type": "execute_result"
    }
   ],
   "source": [
    "# Use the NumPy array and dates to create a DataFrame\n",
    "# df is the a conventional name for a DataFrame\n",
    "df_ts = pd.DataFrame(data, index=dates, columns=list('ABCD'))\n",
    "df_ts"
   ]
  },
  {
   "cell_type": "markdown",
   "metadata": {},
   "source": [
    "Note that the _index_ and _columns_ parameters are optional."
   ]
  },
  {
   "cell_type": "markdown",
   "metadata": {},
   "source": [
    "#### Create a DataFrame by passing a Python dictionary object"
   ]
  },
  {
   "cell_type": "code",
   "execution_count": 83,
   "metadata": {},
   "outputs": [
    {
     "data": {
      "text/html": [
       "<div>\n",
       "<style scoped>\n",
       "    .dataframe tbody tr th:only-of-type {\n",
       "        vertical-align: middle;\n",
       "    }\n",
       "\n",
       "    .dataframe tbody tr th {\n",
       "        vertical-align: top;\n",
       "    }\n",
       "\n",
       "    .dataframe thead th {\n",
       "        text-align: right;\n",
       "    }\n",
       "</style>\n",
       "<table border=\"1\" class=\"dataframe\">\n",
       "  <thead>\n",
       "    <tr style=\"text-align: right;\">\n",
       "      <th></th>\n",
       "      <th>A</th>\n",
       "      <th>B</th>\n",
       "      <th>C</th>\n",
       "      <th>D</th>\n",
       "      <th>E</th>\n",
       "      <th>F</th>\n",
       "    </tr>\n",
       "  </thead>\n",
       "  <tbody>\n",
       "    <tr>\n",
       "      <th>0</th>\n",
       "      <td>1.0</td>\n",
       "      <td>2020-01-01</td>\n",
       "      <td>4</td>\n",
       "      <td>1.0</td>\n",
       "      <td>test</td>\n",
       "      <td>foo</td>\n",
       "    </tr>\n",
       "    <tr>\n",
       "      <th>1</th>\n",
       "      <td>1.0</td>\n",
       "      <td>2020-01-01</td>\n",
       "      <td>4</td>\n",
       "      <td>1.0</td>\n",
       "      <td>train</td>\n",
       "      <td>foo</td>\n",
       "    </tr>\n",
       "    <tr>\n",
       "      <th>2</th>\n",
       "      <td>1.0</td>\n",
       "      <td>2020-01-01</td>\n",
       "      <td>4</td>\n",
       "      <td>1.0</td>\n",
       "      <td>test</td>\n",
       "      <td>foo</td>\n",
       "    </tr>\n",
       "    <tr>\n",
       "      <th>3</th>\n",
       "      <td>1.0</td>\n",
       "      <td>2020-01-01</td>\n",
       "      <td>4</td>\n",
       "      <td>1.0</td>\n",
       "      <td>train</td>\n",
       "      <td>foo</td>\n",
       "    </tr>\n",
       "  </tbody>\n",
       "</table>\n",
       "</div>"
      ],
      "text/plain": [
       "     A          B  C    D      E    F\n",
       "0  1.0 2020-01-01  4  1.0   test  foo\n",
       "1  1.0 2020-01-01  4  1.0  train  foo\n",
       "2  1.0 2020-01-01  4  1.0   test  foo\n",
       "3  1.0 2020-01-01  4  1.0  train  foo"
      ]
     },
     "execution_count": 83,
     "metadata": {},
     "output_type": "execute_result"
    }
   ],
   "source": [
    "df_dict = pd.DataFrame({'A':1.,\n",
    "                        'B':pd.Timestamp('20200101'),\n",
    "                        'C':np.array([4] * 4, dtype='int32'),\n",
    "                        'D':pd.Series(1, index=list(range(4)), dtype='float32'),\n",
    "                        'E':pd.Categorical(['test', 'train', 'test','train']),\n",
    "                        'F':'foo'\n",
    "                       })\n",
    "df_dict"
   ]
  },
  {
   "cell_type": "code",
   "execution_count": 84,
   "metadata": {},
   "outputs": [
    {
     "name": "stdout",
     "output_type": "stream",
     "text": [
      "<class 'pandas.core.frame.DataFrame'>\n",
      "Int64Index: 4 entries, 0 to 3\n",
      "Data columns (total 6 columns):\n",
      " #   Column  Non-Null Count  Dtype         \n",
      "---  ------  --------------  -----         \n",
      " 0   A       4 non-null      float64       \n",
      " 1   B       4 non-null      datetime64[ns]\n",
      " 2   C       4 non-null      int32         \n",
      " 3   D       4 non-null      float32       \n",
      " 4   E       4 non-null      category      \n",
      " 5   F       4 non-null      object        \n",
      "dtypes: category(1), datetime64[ns](1), float32(1), float64(1), int32(1), object(1)\n",
      "memory usage: 260.0+ bytes\n"
     ]
    }
   ],
   "source": [
    "df_dict.info()"
   ]
  },
  {
   "cell_type": "markdown",
   "metadata": {},
   "source": [
    "#### Read from CSV\n",
    "Note: View documentation on I/O here: https://pandas.pydata.org/pandas-docs/stable/reference/io.html\n",
    "\n",
    "Data source: Source: https://coronavirus.jhu.edu/data/new-cases"
   ]
  },
  {
   "cell_type": "code",
   "execution_count": 85,
   "metadata": {},
   "outputs": [],
   "source": [
    "path = 'time_series_covid19_confirmed_global.csv'\n",
    "df = pd.read_csv(path)"
   ]
  },
  {
   "cell_type": "markdown",
   "metadata": {},
   "source": [
    "#### View the data types, first and last few rows of DF, and sample of DF rows\n",
    "\n",
    "View the data types of each column with the `dtypes` attribute."
   ]
  },
  {
   "cell_type": "code",
   "execution_count": 86,
   "metadata": {},
   "outputs": [
    {
     "data": {
      "text/plain": [
       "Province/State     object\n",
       "Country/Region     object\n",
       "Lat               float64\n",
       "Long              float64\n",
       "1/22/20             int64\n",
       "                   ...   \n",
       "8/27/20             int64\n",
       "8/28/20             int64\n",
       "8/29/20             int64\n",
       "8/30/20             int64\n",
       "8/31/20             int64\n",
       "Length: 227, dtype: object"
      ]
     },
     "execution_count": 86,
     "metadata": {},
     "output_type": "execute_result"
    }
   ],
   "source": [
    "df.dtypes"
   ]
  },
  {
   "cell_type": "code",
   "execution_count": 87,
   "metadata": {},
   "outputs": [
    {
     "data": {
      "text/plain": [
       "(266, 227)"
      ]
     },
     "execution_count": 87,
     "metadata": {},
     "output_type": "execute_result"
    }
   ],
   "source": [
    "df.shape"
   ]
  },
  {
   "cell_type": "markdown",
   "metadata": {},
   "source": [
    "See the index values with the `index` attribute."
   ]
  },
  {
   "cell_type": "code",
   "execution_count": 88,
   "metadata": {},
   "outputs": [
    {
     "data": {
      "text/plain": [
       "RangeIndex(start=0, stop=266, step=1)"
      ]
     },
     "execution_count": 88,
     "metadata": {},
     "output_type": "execute_result"
    }
   ],
   "source": [
    "# Use .index to show the index values\n",
    "df.index"
   ]
  },
  {
   "cell_type": "code",
   "execution_count": 89,
   "metadata": {},
   "outputs": [
    {
     "data": {
      "text/plain": [
       "RangeIndex(start=0, stop=266, step=1)"
      ]
     },
     "execution_count": 89,
     "metadata": {},
     "output_type": "execute_result"
    }
   ],
   "source": [
    "df.index"
   ]
  },
  {
   "cell_type": "markdown",
   "metadata": {},
   "source": [
    "See the first few rows with `head()`."
   ]
  },
  {
   "cell_type": "code",
   "execution_count": 90,
   "metadata": {},
   "outputs": [
    {
     "data": {
      "text/html": [
       "<div>\n",
       "<style scoped>\n",
       "    .dataframe tbody tr th:only-of-type {\n",
       "        vertical-align: middle;\n",
       "    }\n",
       "\n",
       "    .dataframe tbody tr th {\n",
       "        vertical-align: top;\n",
       "    }\n",
       "\n",
       "    .dataframe thead th {\n",
       "        text-align: right;\n",
       "    }\n",
       "</style>\n",
       "<table border=\"1\" class=\"dataframe\">\n",
       "  <thead>\n",
       "    <tr style=\"text-align: right;\">\n",
       "      <th></th>\n",
       "      <th>Province/State</th>\n",
       "      <th>Country/Region</th>\n",
       "      <th>Lat</th>\n",
       "      <th>Long</th>\n",
       "      <th>1/22/20</th>\n",
       "      <th>1/23/20</th>\n",
       "      <th>1/24/20</th>\n",
       "      <th>1/25/20</th>\n",
       "      <th>1/26/20</th>\n",
       "      <th>1/27/20</th>\n",
       "      <th>...</th>\n",
       "      <th>8/22/20</th>\n",
       "      <th>8/23/20</th>\n",
       "      <th>8/24/20</th>\n",
       "      <th>8/25/20</th>\n",
       "      <th>8/26/20</th>\n",
       "      <th>8/27/20</th>\n",
       "      <th>8/28/20</th>\n",
       "      <th>8/29/20</th>\n",
       "      <th>8/30/20</th>\n",
       "      <th>8/31/20</th>\n",
       "    </tr>\n",
       "  </thead>\n",
       "  <tbody>\n",
       "    <tr>\n",
       "      <th>0</th>\n",
       "      <td>NaN</td>\n",
       "      <td>Afghanistan</td>\n",
       "      <td>33.93911</td>\n",
       "      <td>67.709953</td>\n",
       "      <td>0</td>\n",
       "      <td>0</td>\n",
       "      <td>0</td>\n",
       "      <td>0</td>\n",
       "      <td>0</td>\n",
       "      <td>0</td>\n",
       "      <td>...</td>\n",
       "      <td>37953</td>\n",
       "      <td>37999</td>\n",
       "      <td>38054</td>\n",
       "      <td>38070</td>\n",
       "      <td>38113</td>\n",
       "      <td>38129</td>\n",
       "      <td>38140</td>\n",
       "      <td>38143</td>\n",
       "      <td>38162</td>\n",
       "      <td>38165</td>\n",
       "    </tr>\n",
       "    <tr>\n",
       "      <th>1</th>\n",
       "      <td>NaN</td>\n",
       "      <td>Albania</td>\n",
       "      <td>41.15330</td>\n",
       "      <td>20.168300</td>\n",
       "      <td>0</td>\n",
       "      <td>0</td>\n",
       "      <td>0</td>\n",
       "      <td>0</td>\n",
       "      <td>0</td>\n",
       "      <td>0</td>\n",
       "      <td>...</td>\n",
       "      <td>8275</td>\n",
       "      <td>8427</td>\n",
       "      <td>8605</td>\n",
       "      <td>8759</td>\n",
       "      <td>8927</td>\n",
       "      <td>9083</td>\n",
       "      <td>9195</td>\n",
       "      <td>9279</td>\n",
       "      <td>9380</td>\n",
       "      <td>9513</td>\n",
       "    </tr>\n",
       "    <tr>\n",
       "      <th>2</th>\n",
       "      <td>NaN</td>\n",
       "      <td>Algeria</td>\n",
       "      <td>28.03390</td>\n",
       "      <td>1.659600</td>\n",
       "      <td>0</td>\n",
       "      <td>0</td>\n",
       "      <td>0</td>\n",
       "      <td>0</td>\n",
       "      <td>0</td>\n",
       "      <td>0</td>\n",
       "      <td>...</td>\n",
       "      <td>41068</td>\n",
       "      <td>41460</td>\n",
       "      <td>41858</td>\n",
       "      <td>42228</td>\n",
       "      <td>42619</td>\n",
       "      <td>43016</td>\n",
       "      <td>43403</td>\n",
       "      <td>43781</td>\n",
       "      <td>44146</td>\n",
       "      <td>44494</td>\n",
       "    </tr>\n",
       "    <tr>\n",
       "      <th>3</th>\n",
       "      <td>NaN</td>\n",
       "      <td>Andorra</td>\n",
       "      <td>42.50630</td>\n",
       "      <td>1.521800</td>\n",
       "      <td>0</td>\n",
       "      <td>0</td>\n",
       "      <td>0</td>\n",
       "      <td>0</td>\n",
       "      <td>0</td>\n",
       "      <td>0</td>\n",
       "      <td>...</td>\n",
       "      <td>1045</td>\n",
       "      <td>1045</td>\n",
       "      <td>1060</td>\n",
       "      <td>1060</td>\n",
       "      <td>1098</td>\n",
       "      <td>1098</td>\n",
       "      <td>1124</td>\n",
       "      <td>1124</td>\n",
       "      <td>1124</td>\n",
       "      <td>1176</td>\n",
       "    </tr>\n",
       "    <tr>\n",
       "      <th>4</th>\n",
       "      <td>NaN</td>\n",
       "      <td>Angola</td>\n",
       "      <td>-11.20270</td>\n",
       "      <td>17.873900</td>\n",
       "      <td>0</td>\n",
       "      <td>0</td>\n",
       "      <td>0</td>\n",
       "      <td>0</td>\n",
       "      <td>0</td>\n",
       "      <td>0</td>\n",
       "      <td>...</td>\n",
       "      <td>2134</td>\n",
       "      <td>2171</td>\n",
       "      <td>2222</td>\n",
       "      <td>2283</td>\n",
       "      <td>2332</td>\n",
       "      <td>2415</td>\n",
       "      <td>2471</td>\n",
       "      <td>2551</td>\n",
       "      <td>2624</td>\n",
       "      <td>2654</td>\n",
       "    </tr>\n",
       "  </tbody>\n",
       "</table>\n",
       "<p>5 rows × 227 columns</p>\n",
       "</div>"
      ],
      "text/plain": [
       "  Province/State Country/Region       Lat       Long  1/22/20  1/23/20  \\\n",
       "0            NaN    Afghanistan  33.93911  67.709953        0        0   \n",
       "1            NaN        Albania  41.15330  20.168300        0        0   \n",
       "2            NaN        Algeria  28.03390   1.659600        0        0   \n",
       "3            NaN        Andorra  42.50630   1.521800        0        0   \n",
       "4            NaN         Angola -11.20270  17.873900        0        0   \n",
       "\n",
       "   1/24/20  1/25/20  1/26/20  1/27/20  ...  8/22/20  8/23/20  8/24/20  \\\n",
       "0        0        0        0        0  ...    37953    37999    38054   \n",
       "1        0        0        0        0  ...     8275     8427     8605   \n",
       "2        0        0        0        0  ...    41068    41460    41858   \n",
       "3        0        0        0        0  ...     1045     1045     1060   \n",
       "4        0        0        0        0  ...     2134     2171     2222   \n",
       "\n",
       "   8/25/20  8/26/20  8/27/20  8/28/20  8/29/20  8/30/20  8/31/20  \n",
       "0    38070    38113    38129    38140    38143    38162    38165  \n",
       "1     8759     8927     9083     9195     9279     9380     9513  \n",
       "2    42228    42619    43016    43403    43781    44146    44494  \n",
       "3     1060     1098     1098     1124     1124     1124     1176  \n",
       "4     2283     2332     2415     2471     2551     2624     2654  \n",
       "\n",
       "[5 rows x 227 columns]"
      ]
     },
     "execution_count": 90,
     "metadata": {},
     "output_type": "execute_result"
    }
   ],
   "source": [
    "df.head()"
   ]
  },
  {
   "cell_type": "code",
   "execution_count": 91,
   "metadata": {},
   "outputs": [
    {
     "data": {
      "text/html": [
       "<div>\n",
       "<style scoped>\n",
       "    .dataframe tbody tr th:only-of-type {\n",
       "        vertical-align: middle;\n",
       "    }\n",
       "\n",
       "    .dataframe tbody tr th {\n",
       "        vertical-align: top;\n",
       "    }\n",
       "\n",
       "    .dataframe thead th {\n",
       "        text-align: right;\n",
       "    }\n",
       "</style>\n",
       "<table border=\"1\" class=\"dataframe\">\n",
       "  <thead>\n",
       "    <tr style=\"text-align: right;\">\n",
       "      <th></th>\n",
       "      <th>Province/State</th>\n",
       "      <th>Country/Region</th>\n",
       "      <th>Lat</th>\n",
       "      <th>Long</th>\n",
       "      <th>Date</th>\n",
       "      <th>Cases</th>\n",
       "    </tr>\n",
       "  </thead>\n",
       "  <tbody>\n",
       "    <tr>\n",
       "      <th>0</th>\n",
       "      <td>NaN</td>\n",
       "      <td>Afghanistan</td>\n",
       "      <td>33.93911</td>\n",
       "      <td>67.709953</td>\n",
       "      <td>1/22/20</td>\n",
       "      <td>0</td>\n",
       "    </tr>\n",
       "    <tr>\n",
       "      <th>1</th>\n",
       "      <td>NaN</td>\n",
       "      <td>Albania</td>\n",
       "      <td>41.15330</td>\n",
       "      <td>20.168300</td>\n",
       "      <td>1/22/20</td>\n",
       "      <td>0</td>\n",
       "    </tr>\n",
       "    <tr>\n",
       "      <th>2</th>\n",
       "      <td>NaN</td>\n",
       "      <td>Algeria</td>\n",
       "      <td>28.03390</td>\n",
       "      <td>1.659600</td>\n",
       "      <td>1/22/20</td>\n",
       "      <td>0</td>\n",
       "    </tr>\n",
       "    <tr>\n",
       "      <th>3</th>\n",
       "      <td>NaN</td>\n",
       "      <td>Andorra</td>\n",
       "      <td>42.50630</td>\n",
       "      <td>1.521800</td>\n",
       "      <td>1/22/20</td>\n",
       "      <td>0</td>\n",
       "    </tr>\n",
       "    <tr>\n",
       "      <th>4</th>\n",
       "      <td>NaN</td>\n",
       "      <td>Angola</td>\n",
       "      <td>-11.20270</td>\n",
       "      <td>17.873900</td>\n",
       "      <td>1/22/20</td>\n",
       "      <td>0</td>\n",
       "    </tr>\n",
       "  </tbody>\n",
       "</table>\n",
       "</div>"
      ],
      "text/plain": [
       "  Province/State Country/Region       Lat       Long     Date  Cases\n",
       "0            NaN    Afghanistan  33.93911  67.709953  1/22/20      0\n",
       "1            NaN        Albania  41.15330  20.168300  1/22/20      0\n",
       "2            NaN        Algeria  28.03390   1.659600  1/22/20      0\n",
       "3            NaN        Andorra  42.50630   1.521800  1/22/20      0\n",
       "4            NaN         Angola -11.20270  17.873900  1/22/20      0"
      ]
     },
     "execution_count": 91,
     "metadata": {},
     "output_type": "execute_result"
    }
   ],
   "source": [
    "df = pd.melt(df,id_vars=['Province/State','Country/Region','Lat','Long'], var_name='Date', value_name='Cases')\n",
    "df.head(5)"
   ]
  },
  {
   "cell_type": "markdown",
   "metadata": {},
   "source": [
    "Use the `info()` function to get a general overview of the DataFrame."
   ]
  },
  {
   "cell_type": "code",
   "execution_count": 92,
   "metadata": {},
   "outputs": [
    {
     "name": "stdout",
     "output_type": "stream",
     "text": [
      "<class 'pandas.core.frame.DataFrame'>\n",
      "RangeIndex: 59318 entries, 0 to 59317\n",
      "Data columns (total 6 columns):\n",
      " #   Column          Non-Null Count  Dtype  \n",
      "---  ------          --------------  -----  \n",
      " 0   Province/State  18063 non-null  object \n",
      " 1   Country/Region  59318 non-null  object \n",
      " 2   Lat             59318 non-null  float64\n",
      " 3   Long            59318 non-null  float64\n",
      " 4   Date            59318 non-null  object \n",
      " 5   Cases           59318 non-null  int64  \n",
      "dtypes: float64(2), int64(1), object(3)\n",
      "memory usage: 2.7+ MB\n"
     ]
    }
   ],
   "source": [
    "df.info()"
   ]
  },
  {
   "cell_type": "markdown",
   "metadata": {},
   "source": [
    "The `head()` method shows the first fiew (default is 5) of each column. Similarly, the `tail()` method shows the last few rows. "
   ]
  },
  {
   "cell_type": "code",
   "execution_count": 93,
   "metadata": {},
   "outputs": [
    {
     "data": {
      "text/html": [
       "<div>\n",
       "<style scoped>\n",
       "    .dataframe tbody tr th:only-of-type {\n",
       "        vertical-align: middle;\n",
       "    }\n",
       "\n",
       "    .dataframe tbody tr th {\n",
       "        vertical-align: top;\n",
       "    }\n",
       "\n",
       "    .dataframe thead th {\n",
       "        text-align: right;\n",
       "    }\n",
       "</style>\n",
       "<table border=\"1\" class=\"dataframe\">\n",
       "  <thead>\n",
       "    <tr style=\"text-align: right;\">\n",
       "      <th></th>\n",
       "      <th>Province/State</th>\n",
       "      <th>Country/Region</th>\n",
       "      <th>Lat</th>\n",
       "      <th>Long</th>\n",
       "      <th>Date</th>\n",
       "      <th>Cases</th>\n",
       "    </tr>\n",
       "  </thead>\n",
       "  <tbody>\n",
       "    <tr>\n",
       "      <th>0</th>\n",
       "      <td>NaN</td>\n",
       "      <td>Afghanistan</td>\n",
       "      <td>33.93911</td>\n",
       "      <td>67.709953</td>\n",
       "      <td>1/22/20</td>\n",
       "      <td>0</td>\n",
       "    </tr>\n",
       "    <tr>\n",
       "      <th>1</th>\n",
       "      <td>NaN</td>\n",
       "      <td>Albania</td>\n",
       "      <td>41.15330</td>\n",
       "      <td>20.168300</td>\n",
       "      <td>1/22/20</td>\n",
       "      <td>0</td>\n",
       "    </tr>\n",
       "    <tr>\n",
       "      <th>2</th>\n",
       "      <td>NaN</td>\n",
       "      <td>Algeria</td>\n",
       "      <td>28.03390</td>\n",
       "      <td>1.659600</td>\n",
       "      <td>1/22/20</td>\n",
       "      <td>0</td>\n",
       "    </tr>\n",
       "    <tr>\n",
       "      <th>3</th>\n",
       "      <td>NaN</td>\n",
       "      <td>Andorra</td>\n",
       "      <td>42.50630</td>\n",
       "      <td>1.521800</td>\n",
       "      <td>1/22/20</td>\n",
       "      <td>0</td>\n",
       "    </tr>\n",
       "    <tr>\n",
       "      <th>4</th>\n",
       "      <td>NaN</td>\n",
       "      <td>Angola</td>\n",
       "      <td>-11.20270</td>\n",
       "      <td>17.873900</td>\n",
       "      <td>1/22/20</td>\n",
       "      <td>0</td>\n",
       "    </tr>\n",
       "  </tbody>\n",
       "</table>\n",
       "</div>"
      ],
      "text/plain": [
       "  Province/State Country/Region       Lat       Long     Date  Cases\n",
       "0            NaN    Afghanistan  33.93911  67.709953  1/22/20      0\n",
       "1            NaN        Albania  41.15330  20.168300  1/22/20      0\n",
       "2            NaN        Algeria  28.03390   1.659600  1/22/20      0\n",
       "3            NaN        Andorra  42.50630   1.521800  1/22/20      0\n",
       "4            NaN         Angola -11.20270  17.873900  1/22/20      0"
      ]
     },
     "execution_count": 93,
     "metadata": {},
     "output_type": "execute_result"
    }
   ],
   "source": [
    "# .head(n): return the first n (default 5) rows for each column\n",
    "df.head()"
   ]
  },
  {
   "cell_type": "code",
   "execution_count": 94,
   "metadata": {},
   "outputs": [
    {
     "data": {
      "text/html": [
       "<div>\n",
       "<style scoped>\n",
       "    .dataframe tbody tr th:only-of-type {\n",
       "        vertical-align: middle;\n",
       "    }\n",
       "\n",
       "    .dataframe tbody tr th {\n",
       "        vertical-align: top;\n",
       "    }\n",
       "\n",
       "    .dataframe thead th {\n",
       "        text-align: right;\n",
       "    }\n",
       "</style>\n",
       "<table border=\"1\" class=\"dataframe\">\n",
       "  <thead>\n",
       "    <tr style=\"text-align: right;\">\n",
       "      <th></th>\n",
       "      <th>Province/State</th>\n",
       "      <th>Country/Region</th>\n",
       "      <th>Lat</th>\n",
       "      <th>Long</th>\n",
       "      <th>Date</th>\n",
       "      <th>Cases</th>\n",
       "    </tr>\n",
       "  </thead>\n",
       "  <tbody>\n",
       "    <tr>\n",
       "      <th>59313</th>\n",
       "      <td>NaN</td>\n",
       "      <td>West Bank and Gaza</td>\n",
       "      <td>31.952200</td>\n",
       "      <td>35.233200</td>\n",
       "      <td>8/31/20</td>\n",
       "      <td>22729</td>\n",
       "    </tr>\n",
       "    <tr>\n",
       "      <th>59314</th>\n",
       "      <td>NaN</td>\n",
       "      <td>Western Sahara</td>\n",
       "      <td>24.215500</td>\n",
       "      <td>-12.885800</td>\n",
       "      <td>8/31/20</td>\n",
       "      <td>10</td>\n",
       "    </tr>\n",
       "    <tr>\n",
       "      <th>59315</th>\n",
       "      <td>NaN</td>\n",
       "      <td>Yemen</td>\n",
       "      <td>15.552727</td>\n",
       "      <td>48.516388</td>\n",
       "      <td>8/31/20</td>\n",
       "      <td>1958</td>\n",
       "    </tr>\n",
       "    <tr>\n",
       "      <th>59316</th>\n",
       "      <td>NaN</td>\n",
       "      <td>Zambia</td>\n",
       "      <td>-13.133897</td>\n",
       "      <td>27.849332</td>\n",
       "      <td>8/31/20</td>\n",
       "      <td>12097</td>\n",
       "    </tr>\n",
       "    <tr>\n",
       "      <th>59317</th>\n",
       "      <td>NaN</td>\n",
       "      <td>Zimbabwe</td>\n",
       "      <td>-19.015438</td>\n",
       "      <td>29.154857</td>\n",
       "      <td>8/31/20</td>\n",
       "      <td>6497</td>\n",
       "    </tr>\n",
       "  </tbody>\n",
       "</table>\n",
       "</div>"
      ],
      "text/plain": [
       "      Province/State      Country/Region        Lat       Long     Date  Cases\n",
       "59313            NaN  West Bank and Gaza  31.952200  35.233200  8/31/20  22729\n",
       "59314            NaN      Western Sahara  24.215500 -12.885800  8/31/20     10\n",
       "59315            NaN               Yemen  15.552727  48.516388  8/31/20   1958\n",
       "59316            NaN              Zambia -13.133897  27.849332  8/31/20  12097\n",
       "59317            NaN            Zimbabwe -19.015438  29.154857  8/31/20   6497"
      ]
     },
     "execution_count": 94,
     "metadata": {},
     "output_type": "execute_result"
    }
   ],
   "source": [
    "# .tail(n): return the last n (default 5) rows for each column\n",
    "df.tail()"
   ]
  },
  {
   "cell_type": "markdown",
   "metadata": {},
   "source": [
    "Use `sample()` to randomly sample a number of rows."
   ]
  },
  {
   "cell_type": "code",
   "execution_count": 95,
   "metadata": {},
   "outputs": [
    {
     "data": {
      "text/html": [
       "<div>\n",
       "<style scoped>\n",
       "    .dataframe tbody tr th:only-of-type {\n",
       "        vertical-align: middle;\n",
       "    }\n",
       "\n",
       "    .dataframe tbody tr th {\n",
       "        vertical-align: top;\n",
       "    }\n",
       "\n",
       "    .dataframe thead th {\n",
       "        text-align: right;\n",
       "    }\n",
       "</style>\n",
       "<table border=\"1\" class=\"dataframe\">\n",
       "  <thead>\n",
       "    <tr style=\"text-align: right;\">\n",
       "      <th></th>\n",
       "      <th>Province/State</th>\n",
       "      <th>Country/Region</th>\n",
       "      <th>Lat</th>\n",
       "      <th>Long</th>\n",
       "      <th>Date</th>\n",
       "      <th>Cases</th>\n",
       "    </tr>\n",
       "  </thead>\n",
       "  <tbody>\n",
       "    <tr>\n",
       "      <th>35543</th>\n",
       "      <td>NaN</td>\n",
       "      <td>Liechtenstein</td>\n",
       "      <td>47.1400</td>\n",
       "      <td>9.5500</td>\n",
       "      <td>6/3/20</td>\n",
       "      <td>82</td>\n",
       "    </tr>\n",
       "    <tr>\n",
       "      <th>14911</th>\n",
       "      <td>Western Australia</td>\n",
       "      <td>Australia</td>\n",
       "      <td>-31.9505</td>\n",
       "      <td>115.8605</td>\n",
       "      <td>3/18/20</td>\n",
       "      <td>35</td>\n",
       "    </tr>\n",
       "    <tr>\n",
       "      <th>43104</th>\n",
       "      <td>South Australia</td>\n",
       "      <td>Australia</td>\n",
       "      <td>-34.9285</td>\n",
       "      <td>138.6007</td>\n",
       "      <td>7/2/20</td>\n",
       "      <td>443</td>\n",
       "    </tr>\n",
       "  </tbody>\n",
       "</table>\n",
       "</div>"
      ],
      "text/plain": [
       "          Province/State Country/Region      Lat      Long     Date  Cases\n",
       "35543                NaN  Liechtenstein  47.1400    9.5500   6/3/20     82\n",
       "14911  Western Australia      Australia -31.9505  115.8605  3/18/20     35\n",
       "43104    South Australia      Australia -34.9285  138.6007   7/2/20    443"
      ]
     },
     "execution_count": 95,
     "metadata": {},
     "output_type": "execute_result"
    }
   ],
   "source": [
    "# Use .sample(n) to randomly samples n rows (default value is 1)\n",
    "df.sample(3)"
   ]
  },
  {
   "cell_type": "markdown",
   "metadata": {},
   "source": [
    "Don't forget, you can view the docstring with the `?` operator or `help()`."
   ]
  },
  {
   "cell_type": "code",
   "execution_count": 96,
   "metadata": {},
   "outputs": [],
   "source": [
    "# ?df.sample"
   ]
  },
  {
   "cell_type": "markdown",
   "metadata": {},
   "source": [
    "### Accessing data\n",
    "#### Selecting columns\n",
    "Square-bracket syntax `[]` and dot notation `.` provide quick/easy access."
   ]
  },
  {
   "cell_type": "code",
   "execution_count": 97,
   "metadata": {},
   "outputs": [
    {
     "data": {
      "text/plain": [
       "0            0\n",
       "1            0\n",
       "2            0\n",
       "3            0\n",
       "4            0\n",
       "         ...  \n",
       "59313    22729\n",
       "59314       10\n",
       "59315     1958\n",
       "59316    12097\n",
       "59317     6497\n",
       "Name: Cases, Length: 59318, dtype: int64"
      ]
     },
     "execution_count": 97,
     "metadata": {},
     "output_type": "execute_result"
    }
   ],
   "source": [
    "# Select a single column by name\n",
    "df['Cases']\n",
    "# df[['Cases']]"
   ]
  },
  {
   "cell_type": "code",
   "execution_count": 98,
   "metadata": {},
   "outputs": [
    {
     "data": {
      "text/plain": [
       "0            0\n",
       "1            0\n",
       "2            0\n",
       "3            0\n",
       "4            0\n",
       "         ...  \n",
       "59313    22729\n",
       "59314       10\n",
       "59315     1958\n",
       "59316    12097\n",
       "59317     6497\n",
       "Name: Cases, Length: 59318, dtype: int64"
      ]
     },
     "execution_count": 98,
     "metadata": {},
     "output_type": "execute_result"
    }
   ],
   "source": [
    "# dot notation returns the same Series\n",
    "df.Cases"
   ]
  },
  {
   "cell_type": "markdown",
   "metadata": {},
   "source": [
    "#### Select multiple columns"
   ]
  },
  {
   "cell_type": "code",
   "execution_count": 99,
   "metadata": {},
   "outputs": [
    {
     "data": {
      "text/html": [
       "<div>\n",
       "<style scoped>\n",
       "    .dataframe tbody tr th:only-of-type {\n",
       "        vertical-align: middle;\n",
       "    }\n",
       "\n",
       "    .dataframe tbody tr th {\n",
       "        vertical-align: top;\n",
       "    }\n",
       "\n",
       "    .dataframe thead th {\n",
       "        text-align: right;\n",
       "    }\n",
       "</style>\n",
       "<table border=\"1\" class=\"dataframe\">\n",
       "  <thead>\n",
       "    <tr style=\"text-align: right;\">\n",
       "      <th></th>\n",
       "      <th>Country/Region</th>\n",
       "      <th>Date</th>\n",
       "      <th>Cases</th>\n",
       "    </tr>\n",
       "  </thead>\n",
       "  <tbody>\n",
       "    <tr>\n",
       "      <th>0</th>\n",
       "      <td>Afghanistan</td>\n",
       "      <td>1/22/20</td>\n",
       "      <td>0</td>\n",
       "    </tr>\n",
       "    <tr>\n",
       "      <th>1</th>\n",
       "      <td>Albania</td>\n",
       "      <td>1/22/20</td>\n",
       "      <td>0</td>\n",
       "    </tr>\n",
       "    <tr>\n",
       "      <th>2</th>\n",
       "      <td>Algeria</td>\n",
       "      <td>1/22/20</td>\n",
       "      <td>0</td>\n",
       "    </tr>\n",
       "    <tr>\n",
       "      <th>3</th>\n",
       "      <td>Andorra</td>\n",
       "      <td>1/22/20</td>\n",
       "      <td>0</td>\n",
       "    </tr>\n",
       "    <tr>\n",
       "      <th>4</th>\n",
       "      <td>Angola</td>\n",
       "      <td>1/22/20</td>\n",
       "      <td>0</td>\n",
       "    </tr>\n",
       "    <tr>\n",
       "      <th>...</th>\n",
       "      <td>...</td>\n",
       "      <td>...</td>\n",
       "      <td>...</td>\n",
       "    </tr>\n",
       "    <tr>\n",
       "      <th>59313</th>\n",
       "      <td>West Bank and Gaza</td>\n",
       "      <td>8/31/20</td>\n",
       "      <td>22729</td>\n",
       "    </tr>\n",
       "    <tr>\n",
       "      <th>59314</th>\n",
       "      <td>Western Sahara</td>\n",
       "      <td>8/31/20</td>\n",
       "      <td>10</td>\n",
       "    </tr>\n",
       "    <tr>\n",
       "      <th>59315</th>\n",
       "      <td>Yemen</td>\n",
       "      <td>8/31/20</td>\n",
       "      <td>1958</td>\n",
       "    </tr>\n",
       "    <tr>\n",
       "      <th>59316</th>\n",
       "      <td>Zambia</td>\n",
       "      <td>8/31/20</td>\n",
       "      <td>12097</td>\n",
       "    </tr>\n",
       "    <tr>\n",
       "      <th>59317</th>\n",
       "      <td>Zimbabwe</td>\n",
       "      <td>8/31/20</td>\n",
       "      <td>6497</td>\n",
       "    </tr>\n",
       "  </tbody>\n",
       "</table>\n",
       "<p>59318 rows × 3 columns</p>\n",
       "</div>"
      ],
      "text/plain": [
       "           Country/Region     Date  Cases\n",
       "0             Afghanistan  1/22/20      0\n",
       "1                 Albania  1/22/20      0\n",
       "2                 Algeria  1/22/20      0\n",
       "3                 Andorra  1/22/20      0\n",
       "4                  Angola  1/22/20      0\n",
       "...                   ...      ...    ...\n",
       "59313  West Bank and Gaza  8/31/20  22729\n",
       "59314      Western Sahara  8/31/20     10\n",
       "59315               Yemen  8/31/20   1958\n",
       "59316              Zambia  8/31/20  12097\n",
       "59317            Zimbabwe  8/31/20   6497\n",
       "\n",
       "[59318 rows x 3 columns]"
      ]
     },
     "execution_count": 99,
     "metadata": {},
     "output_type": "execute_result"
    }
   ],
   "source": [
    "df[['Country/Region', 'Date', 'Cases']]"
   ]
  },
  {
   "cell_type": "markdown",
   "metadata": {},
   "source": [
    "**Select rows** of data with the slice operator `[:]`."
   ]
  },
  {
   "cell_type": "code",
   "execution_count": 100,
   "metadata": {},
   "outputs": [
    {
     "data": {
      "text/html": [
       "<div>\n",
       "<style scoped>\n",
       "    .dataframe tbody tr th:only-of-type {\n",
       "        vertical-align: middle;\n",
       "    }\n",
       "\n",
       "    .dataframe tbody tr th {\n",
       "        vertical-align: top;\n",
       "    }\n",
       "\n",
       "    .dataframe thead th {\n",
       "        text-align: right;\n",
       "    }\n",
       "</style>\n",
       "<table border=\"1\" class=\"dataframe\">\n",
       "  <thead>\n",
       "    <tr style=\"text-align: right;\">\n",
       "      <th></th>\n",
       "      <th>Province/State</th>\n",
       "      <th>Country/Region</th>\n",
       "      <th>Lat</th>\n",
       "      <th>Long</th>\n",
       "      <th>Date</th>\n",
       "      <th>Cases</th>\n",
       "    </tr>\n",
       "  </thead>\n",
       "  <tbody>\n",
       "    <tr>\n",
       "      <th>0</th>\n",
       "      <td>NaN</td>\n",
       "      <td>Afghanistan</td>\n",
       "      <td>33.93911</td>\n",
       "      <td>67.709953</td>\n",
       "      <td>1/22/20</td>\n",
       "      <td>0</td>\n",
       "    </tr>\n",
       "    <tr>\n",
       "      <th>1</th>\n",
       "      <td>NaN</td>\n",
       "      <td>Albania</td>\n",
       "      <td>41.15330</td>\n",
       "      <td>20.168300</td>\n",
       "      <td>1/22/20</td>\n",
       "      <td>0</td>\n",
       "    </tr>\n",
       "    <tr>\n",
       "      <th>2</th>\n",
       "      <td>NaN</td>\n",
       "      <td>Algeria</td>\n",
       "      <td>28.03390</td>\n",
       "      <td>1.659600</td>\n",
       "      <td>1/22/20</td>\n",
       "      <td>0</td>\n",
       "    </tr>\n",
       "    <tr>\n",
       "      <th>3</th>\n",
       "      <td>NaN</td>\n",
       "      <td>Andorra</td>\n",
       "      <td>42.50630</td>\n",
       "      <td>1.521800</td>\n",
       "      <td>1/22/20</td>\n",
       "      <td>0</td>\n",
       "    </tr>\n",
       "    <tr>\n",
       "      <th>4</th>\n",
       "      <td>NaN</td>\n",
       "      <td>Angola</td>\n",
       "      <td>-11.20270</td>\n",
       "      <td>17.873900</td>\n",
       "      <td>1/22/20</td>\n",
       "      <td>0</td>\n",
       "    </tr>\n",
       "  </tbody>\n",
       "</table>\n",
       "</div>"
      ],
      "text/plain": [
       "  Province/State Country/Region       Lat       Long     Date  Cases\n",
       "0            NaN    Afghanistan  33.93911  67.709953  1/22/20      0\n",
       "1            NaN        Albania  41.15330  20.168300  1/22/20      0\n",
       "2            NaN        Algeria  28.03390   1.659600  1/22/20      0\n",
       "3            NaN        Andorra  42.50630   1.521800  1/22/20      0\n",
       "4            NaN         Angola -11.20270  17.873900  1/22/20      0"
      ]
     },
     "execution_count": 100,
     "metadata": {},
     "output_type": "execute_result"
    }
   ],
   "source": [
    "# Select rows using the slice operator\n",
    "df[0:5]"
   ]
  },
  {
   "cell_type": "markdown",
   "metadata": {},
   "source": [
    "#### `.loc[]` and `.iloc[]`\n",
    "pandas recommends using `loc[]` and `iloc[]` for production code.\n",
    "\n",
    "Use `loc[]` to select by name."
   ]
  },
  {
   "cell_type": "code",
   "execution_count": 101,
   "metadata": {},
   "outputs": [
    {
     "data": {
      "text/plain": [
       "0               Afghanistan\n",
       "1                   Albania\n",
       "2                   Algeria\n",
       "3                   Andorra\n",
       "4                    Angola\n",
       "                ...        \n",
       "59313    West Bank and Gaza\n",
       "59314        Western Sahara\n",
       "59315                 Yemen\n",
       "59316                Zambia\n",
       "59317              Zimbabwe\n",
       "Name: Country/Region, Length: 59318, dtype: object"
      ]
     },
     "execution_count": 101,
     "metadata": {},
     "output_type": "execute_result"
    }
   ],
   "source": [
    "# Using .loc[]\n",
    "df.loc[:,'Country/Region']"
   ]
  },
  {
   "cell_type": "code",
   "execution_count": 102,
   "metadata": {},
   "outputs": [
    {
     "data": {
      "text/html": [
       "<div>\n",
       "<style scoped>\n",
       "    .dataframe tbody tr th:only-of-type {\n",
       "        vertical-align: middle;\n",
       "    }\n",
       "\n",
       "    .dataframe tbody tr th {\n",
       "        vertical-align: top;\n",
       "    }\n",
       "\n",
       "    .dataframe thead th {\n",
       "        text-align: right;\n",
       "    }\n",
       "</style>\n",
       "<table border=\"1\" class=\"dataframe\">\n",
       "  <thead>\n",
       "    <tr style=\"text-align: right;\">\n",
       "      <th></th>\n",
       "      <th>Country/Region</th>\n",
       "      <th>Cases</th>\n",
       "    </tr>\n",
       "  </thead>\n",
       "  <tbody>\n",
       "    <tr>\n",
       "      <th>0</th>\n",
       "      <td>Afghanistan</td>\n",
       "      <td>0</td>\n",
       "    </tr>\n",
       "    <tr>\n",
       "      <th>1</th>\n",
       "      <td>Albania</td>\n",
       "      <td>0</td>\n",
       "    </tr>\n",
       "    <tr>\n",
       "      <th>2</th>\n",
       "      <td>Algeria</td>\n",
       "      <td>0</td>\n",
       "    </tr>\n",
       "    <tr>\n",
       "      <th>3</th>\n",
       "      <td>Andorra</td>\n",
       "      <td>0</td>\n",
       "    </tr>\n",
       "    <tr>\n",
       "      <th>4</th>\n",
       "      <td>Angola</td>\n",
       "      <td>0</td>\n",
       "    </tr>\n",
       "    <tr>\n",
       "      <th>...</th>\n",
       "      <td>...</td>\n",
       "      <td>...</td>\n",
       "    </tr>\n",
       "    <tr>\n",
       "      <th>59313</th>\n",
       "      <td>West Bank and Gaza</td>\n",
       "      <td>22729</td>\n",
       "    </tr>\n",
       "    <tr>\n",
       "      <th>59314</th>\n",
       "      <td>Western Sahara</td>\n",
       "      <td>10</td>\n",
       "    </tr>\n",
       "    <tr>\n",
       "      <th>59315</th>\n",
       "      <td>Yemen</td>\n",
       "      <td>1958</td>\n",
       "    </tr>\n",
       "    <tr>\n",
       "      <th>59316</th>\n",
       "      <td>Zambia</td>\n",
       "      <td>12097</td>\n",
       "    </tr>\n",
       "    <tr>\n",
       "      <th>59317</th>\n",
       "      <td>Zimbabwe</td>\n",
       "      <td>6497</td>\n",
       "    </tr>\n",
       "  </tbody>\n",
       "</table>\n",
       "<p>59318 rows × 2 columns</p>\n",
       "</div>"
      ],
      "text/plain": [
       "           Country/Region  Cases\n",
       "0             Afghanistan      0\n",
       "1                 Albania      0\n",
       "2                 Algeria      0\n",
       "3                 Andorra      0\n",
       "4                  Angola      0\n",
       "...                   ...    ...\n",
       "59313  West Bank and Gaza  22729\n",
       "59314      Western Sahara     10\n",
       "59315               Yemen   1958\n",
       "59316              Zambia  12097\n",
       "59317            Zimbabwe   6497\n",
       "\n",
       "[59318 rows x 2 columns]"
      ]
     },
     "execution_count": 102,
     "metadata": {},
     "output_type": "execute_result"
    }
   ],
   "source": [
    "# Get all rows for columns Age and Sex\n",
    "df.loc[:,['Country/Region','Cases']]"
   ]
  },
  {
   "cell_type": "code",
   "execution_count": 103,
   "metadata": {},
   "outputs": [
    {
     "data": {
      "text/html": [
       "<div>\n",
       "<style scoped>\n",
       "    .dataframe tbody tr th:only-of-type {\n",
       "        vertical-align: middle;\n",
       "    }\n",
       "\n",
       "    .dataframe tbody tr th {\n",
       "        vertical-align: top;\n",
       "    }\n",
       "\n",
       "    .dataframe thead th {\n",
       "        text-align: right;\n",
       "    }\n",
       "</style>\n",
       "<table border=\"1\" class=\"dataframe\">\n",
       "  <thead>\n",
       "    <tr style=\"text-align: right;\">\n",
       "      <th></th>\n",
       "      <th>Country/Region</th>\n",
       "      <th>Cases</th>\n",
       "    </tr>\n",
       "  </thead>\n",
       "  <tbody>\n",
       "    <tr>\n",
       "      <th>0</th>\n",
       "      <td>Afghanistan</td>\n",
       "      <td>0</td>\n",
       "    </tr>\n",
       "    <tr>\n",
       "      <th>1</th>\n",
       "      <td>Albania</td>\n",
       "      <td>0</td>\n",
       "    </tr>\n",
       "    <tr>\n",
       "      <th>2</th>\n",
       "      <td>Algeria</td>\n",
       "      <td>0</td>\n",
       "    </tr>\n",
       "    <tr>\n",
       "      <th>3</th>\n",
       "      <td>Andorra</td>\n",
       "      <td>0</td>\n",
       "    </tr>\n",
       "    <tr>\n",
       "      <th>4</th>\n",
       "      <td>Angola</td>\n",
       "      <td>0</td>\n",
       "    </tr>\n",
       "    <tr>\n",
       "      <th>5</th>\n",
       "      <td>Antigua and Barbuda</td>\n",
       "      <td>0</td>\n",
       "    </tr>\n",
       "  </tbody>\n",
       "</table>\n",
       "</div>"
      ],
      "text/plain": [
       "        Country/Region  Cases\n",
       "0          Afghanistan      0\n",
       "1              Albania      0\n",
       "2              Algeria      0\n",
       "3              Andorra      0\n",
       "4               Angola      0\n",
       "5  Antigua and Barbuda      0"
      ]
     },
     "execution_count": 103,
     "metadata": {},
     "output_type": "execute_result"
    }
   ],
   "source": [
    "# Get the first 5 rows for the specified columns\n",
    "df.loc[0:5,['Country/Region','Cases']]"
   ]
  },
  {
   "cell_type": "code",
   "execution_count": 104,
   "metadata": {
    "scrolled": false
   },
   "outputs": [
    {
     "data": {
      "text/html": [
       "<div>\n",
       "<style scoped>\n",
       "    .dataframe tbody tr th:only-of-type {\n",
       "        vertical-align: middle;\n",
       "    }\n",
       "\n",
       "    .dataframe tbody tr th {\n",
       "        vertical-align: top;\n",
       "    }\n",
       "\n",
       "    .dataframe thead th {\n",
       "        text-align: right;\n",
       "    }\n",
       "</style>\n",
       "<table border=\"1\" class=\"dataframe\">\n",
       "  <thead>\n",
       "    <tr style=\"text-align: right;\">\n",
       "      <th></th>\n",
       "      <th>Province/State</th>\n",
       "      <th>Country/Region</th>\n",
       "      <th>Lat</th>\n",
       "      <th>Long</th>\n",
       "      <th>Date</th>\n",
       "      <th>Cases</th>\n",
       "    </tr>\n",
       "  </thead>\n",
       "  <tbody>\n",
       "    <tr>\n",
       "      <th>0</th>\n",
       "      <td>NaN</td>\n",
       "      <td>Afghanistan</td>\n",
       "      <td>33.93911</td>\n",
       "      <td>67.709953</td>\n",
       "      <td>1/22/20</td>\n",
       "      <td>0</td>\n",
       "    </tr>\n",
       "    <tr>\n",
       "      <th>3</th>\n",
       "      <td>NaN</td>\n",
       "      <td>Andorra</td>\n",
       "      <td>42.50630</td>\n",
       "      <td>1.521800</td>\n",
       "      <td>1/22/20</td>\n",
       "      <td>0</td>\n",
       "    </tr>\n",
       "    <tr>\n",
       "      <th>5</th>\n",
       "      <td>NaN</td>\n",
       "      <td>Antigua and Barbuda</td>\n",
       "      <td>17.06080</td>\n",
       "      <td>-61.796400</td>\n",
       "      <td>1/22/20</td>\n",
       "      <td>0</td>\n",
       "    </tr>\n",
       "  </tbody>\n",
       "</table>\n",
       "</div>"
      ],
      "text/plain": [
       "  Province/State       Country/Region       Lat       Long     Date  Cases\n",
       "0            NaN          Afghanistan  33.93911  67.709953  1/22/20      0\n",
       "3            NaN              Andorra  42.50630   1.521800  1/22/20      0\n",
       "5            NaN  Antigua and Barbuda  17.06080 -61.796400  1/22/20      0"
      ]
     },
     "execution_count": 104,
     "metadata": {},
     "output_type": "execute_result"
    }
   ],
   "source": [
    "# Get row indexed 0,3, and 5 (all columns)\n",
    "df.loc[[0,3,5], :]"
   ]
  },
  {
   "cell_type": "markdown",
   "metadata": {},
   "source": [
    "Use `iloc[]` to select by index."
   ]
  },
  {
   "cell_type": "code",
   "execution_count": 105,
   "metadata": {},
   "outputs": [
    {
     "data": {
      "text/plain": [
       "0        67.709953\n",
       "1        20.168300\n",
       "2         1.659600\n",
       "3         1.521800\n",
       "4        17.873900\n",
       "           ...    \n",
       "59313    35.233200\n",
       "59314   -12.885800\n",
       "59315    48.516388\n",
       "59316    27.849332\n",
       "59317    29.154857\n",
       "Name: Long, Length: 59318, dtype: float64"
      ]
     },
     "execution_count": 105,
     "metadata": {},
     "output_type": "execute_result"
    }
   ],
   "source": [
    "# Select by position with .iloc[]\n",
    "df.iloc[:,3]"
   ]
  },
  {
   "cell_type": "code",
   "execution_count": 106,
   "metadata": {},
   "outputs": [
    {
     "data": {
      "text/html": [
       "<div>\n",
       "<style scoped>\n",
       "    .dataframe tbody tr th:only-of-type {\n",
       "        vertical-align: middle;\n",
       "    }\n",
       "\n",
       "    .dataframe tbody tr th {\n",
       "        vertical-align: top;\n",
       "    }\n",
       "\n",
       "    .dataframe thead th {\n",
       "        text-align: right;\n",
       "    }\n",
       "</style>\n",
       "<table border=\"1\" class=\"dataframe\">\n",
       "  <thead>\n",
       "    <tr style=\"text-align: right;\">\n",
       "      <th></th>\n",
       "      <th>Province/State</th>\n",
       "      <th>Country/Region</th>\n",
       "      <th>Lat</th>\n",
       "      <th>Long</th>\n",
       "    </tr>\n",
       "  </thead>\n",
       "  <tbody>\n",
       "    <tr>\n",
       "      <th>0</th>\n",
       "      <td>NaN</td>\n",
       "      <td>Afghanistan</td>\n",
       "      <td>33.93911</td>\n",
       "      <td>67.709953</td>\n",
       "    </tr>\n",
       "    <tr>\n",
       "      <th>1</th>\n",
       "      <td>NaN</td>\n",
       "      <td>Albania</td>\n",
       "      <td>41.15330</td>\n",
       "      <td>20.168300</td>\n",
       "    </tr>\n",
       "  </tbody>\n",
       "</table>\n",
       "</div>"
      ],
      "text/plain": [
       "  Province/State Country/Region       Lat       Long\n",
       "0            NaN    Afghanistan  33.93911  67.709953\n",
       "1            NaN        Albania  41.15330  20.168300"
      ]
     },
     "execution_count": 106,
     "metadata": {},
     "output_type": "execute_result"
    }
   ],
   "source": [
    "df.iloc[0:2,0:4]"
   ]
  },
  {
   "cell_type": "code",
   "execution_count": 107,
   "metadata": {},
   "outputs": [
    {
     "data": {
      "text/html": [
       "<div>\n",
       "<style scoped>\n",
       "    .dataframe tbody tr th:only-of-type {\n",
       "        vertical-align: middle;\n",
       "    }\n",
       "\n",
       "    .dataframe tbody tr th {\n",
       "        vertical-align: top;\n",
       "    }\n",
       "\n",
       "    .dataframe thead th {\n",
       "        text-align: right;\n",
       "    }\n",
       "</style>\n",
       "<table border=\"1\" class=\"dataframe\">\n",
       "  <thead>\n",
       "    <tr style=\"text-align: right;\">\n",
       "      <th></th>\n",
       "      <th>Province/State</th>\n",
       "      <th>Country/Region</th>\n",
       "      <th>Lat</th>\n",
       "      <th>Long</th>\n",
       "      <th>Date</th>\n",
       "      <th>Cases</th>\n",
       "    </tr>\n",
       "  </thead>\n",
       "  <tbody>\n",
       "    <tr>\n",
       "      <th>0</th>\n",
       "      <td>NaN</td>\n",
       "      <td>Afghanistan</td>\n",
       "      <td>33.93911</td>\n",
       "      <td>67.709953</td>\n",
       "      <td>1/22/20</td>\n",
       "      <td>0</td>\n",
       "    </tr>\n",
       "    <tr>\n",
       "      <th>3</th>\n",
       "      <td>NaN</td>\n",
       "      <td>Andorra</td>\n",
       "      <td>42.50630</td>\n",
       "      <td>1.521800</td>\n",
       "      <td>1/22/20</td>\n",
       "      <td>0</td>\n",
       "    </tr>\n",
       "  </tbody>\n",
       "</table>\n",
       "</div>"
      ],
      "text/plain": [
       "  Province/State Country/Region       Lat       Long     Date  Cases\n",
       "0            NaN    Afghanistan  33.93911  67.709953  1/22/20      0\n",
       "3            NaN        Andorra  42.50630   1.521800  1/22/20      0"
      ]
     },
     "execution_count": 107,
     "metadata": {},
     "output_type": "execute_result"
    }
   ],
   "source": [
    "# Get noncontiguous rows\n",
    "df.iloc[[0,3],:]"
   ]
  },
  {
   "cell_type": "markdown",
   "metadata": {},
   "source": [
    "### Filtering"
   ]
  },
  {
   "cell_type": "markdown",
   "metadata": {},
   "source": [
    "#### Boolean Indexing"
   ]
  },
  {
   "cell_type": "code",
   "execution_count": 108,
   "metadata": {},
   "outputs": [
    {
     "data": {
      "text/html": [
       "<div>\n",
       "<style scoped>\n",
       "    .dataframe tbody tr th:only-of-type {\n",
       "        vertical-align: middle;\n",
       "    }\n",
       "\n",
       "    .dataframe tbody tr th {\n",
       "        vertical-align: top;\n",
       "    }\n",
       "\n",
       "    .dataframe thead th {\n",
       "        text-align: right;\n",
       "    }\n",
       "</style>\n",
       "<table border=\"1\" class=\"dataframe\">\n",
       "  <thead>\n",
       "    <tr style=\"text-align: right;\">\n",
       "      <th></th>\n",
       "      <th>Province/State</th>\n",
       "      <th>Country/Region</th>\n",
       "      <th>Lat</th>\n",
       "      <th>Long</th>\n",
       "      <th>Date</th>\n",
       "      <th>Cases</th>\n",
       "    </tr>\n",
       "  </thead>\n",
       "  <tbody>\n",
       "    <tr>\n",
       "      <th>47909</th>\n",
       "      <td>NaN</td>\n",
       "      <td>Botswana</td>\n",
       "      <td>-22.3285</td>\n",
       "      <td>24.6849</td>\n",
       "      <td>7/20/20</td>\n",
       "      <td>522</td>\n",
       "    </tr>\n",
       "    <tr>\n",
       "      <th>45140</th>\n",
       "      <td>Aruba</td>\n",
       "      <td>Netherlands</td>\n",
       "      <td>12.5211</td>\n",
       "      <td>-69.9683</td>\n",
       "      <td>7/9/20</td>\n",
       "      <td>105</td>\n",
       "    </tr>\n",
       "    <tr>\n",
       "      <th>56874</th>\n",
       "      <td>NaN</td>\n",
       "      <td>Senegal</td>\n",
       "      <td>14.4974</td>\n",
       "      <td>-14.4524</td>\n",
       "      <td>8/22/20</td>\n",
       "      <td>12850</td>\n",
       "    </tr>\n",
       "    <tr>\n",
       "      <th>34998</th>\n",
       "      <td>NaN</td>\n",
       "      <td>Jordan</td>\n",
       "      <td>31.2400</td>\n",
       "      <td>36.5100</td>\n",
       "      <td>6/1/20</td>\n",
       "      <td>746</td>\n",
       "    </tr>\n",
       "    <tr>\n",
       "      <th>32154</th>\n",
       "      <td>NaN</td>\n",
       "      <td>Tajikistan</td>\n",
       "      <td>38.8610</td>\n",
       "      <td>71.2761</td>\n",
       "      <td>5/21/20</td>\n",
       "      <td>2350</td>\n",
       "    </tr>\n",
       "  </tbody>\n",
       "</table>\n",
       "</div>"
      ],
      "text/plain": [
       "      Province/State Country/Region      Lat     Long     Date  Cases\n",
       "47909            NaN       Botswana -22.3285  24.6849  7/20/20    522\n",
       "45140          Aruba    Netherlands  12.5211 -69.9683   7/9/20    105\n",
       "56874            NaN        Senegal  14.4974 -14.4524  8/22/20  12850\n",
       "34998            NaN         Jordan  31.2400  36.5100   6/1/20    746\n",
       "32154            NaN     Tajikistan  38.8610  71.2761  5/21/20   2350"
      ]
     },
     "execution_count": 108,
     "metadata": {},
     "output_type": "execute_result"
    }
   ],
   "source": [
    "df.sample(5)"
   ]
  },
  {
   "cell_type": "code",
   "execution_count": 109,
   "metadata": {},
   "outputs": [
    {
     "data": {
      "text/html": [
       "<div>\n",
       "<style scoped>\n",
       "    .dataframe tbody tr th:only-of-type {\n",
       "        vertical-align: middle;\n",
       "    }\n",
       "\n",
       "    .dataframe tbody tr th {\n",
       "        vertical-align: top;\n",
       "    }\n",
       "\n",
       "    .dataframe thead th {\n",
       "        text-align: right;\n",
       "    }\n",
       "</style>\n",
       "<table border=\"1\" class=\"dataframe\">\n",
       "  <thead>\n",
       "    <tr style=\"text-align: right;\">\n",
       "      <th></th>\n",
       "      <th>Province/State</th>\n",
       "      <th>Country/Region</th>\n",
       "      <th>Lat</th>\n",
       "      <th>Long</th>\n",
       "      <th>Date</th>\n",
       "      <th>Cases</th>\n",
       "    </tr>\n",
       "  </thead>\n",
       "  <tbody>\n",
       "    <tr>\n",
       "      <th>69</th>\n",
       "      <td>Hubei</td>\n",
       "      <td>China</td>\n",
       "      <td>30.975600</td>\n",
       "      <td>112.270700</td>\n",
       "      <td>1/22/20</td>\n",
       "      <td>444</td>\n",
       "    </tr>\n",
       "    <tr>\n",
       "      <th>335</th>\n",
       "      <td>Hubei</td>\n",
       "      <td>China</td>\n",
       "      <td>30.975600</td>\n",
       "      <td>112.270700</td>\n",
       "      <td>1/23/20</td>\n",
       "      <td>444</td>\n",
       "    </tr>\n",
       "    <tr>\n",
       "      <th>601</th>\n",
       "      <td>Hubei</td>\n",
       "      <td>China</td>\n",
       "      <td>30.975600</td>\n",
       "      <td>112.270700</td>\n",
       "      <td>1/24/20</td>\n",
       "      <td>549</td>\n",
       "    </tr>\n",
       "    <tr>\n",
       "      <th>867</th>\n",
       "      <td>Hubei</td>\n",
       "      <td>China</td>\n",
       "      <td>30.975600</td>\n",
       "      <td>112.270700</td>\n",
       "      <td>1/25/20</td>\n",
       "      <td>761</td>\n",
       "    </tr>\n",
       "    <tr>\n",
       "      <th>1125</th>\n",
       "      <td>Guangdong</td>\n",
       "      <td>China</td>\n",
       "      <td>23.341700</td>\n",
       "      <td>113.424400</td>\n",
       "      <td>1/26/20</td>\n",
       "      <td>111</td>\n",
       "    </tr>\n",
       "    <tr>\n",
       "      <th>...</th>\n",
       "      <td>...</td>\n",
       "      <td>...</td>\n",
       "      <td>...</td>\n",
       "      <td>...</td>\n",
       "      <td>...</td>\n",
       "      <td>...</td>\n",
       "    </tr>\n",
       "    <tr>\n",
       "      <th>59312</th>\n",
       "      <td>NaN</td>\n",
       "      <td>Vietnam</td>\n",
       "      <td>14.058324</td>\n",
       "      <td>108.277199</td>\n",
       "      <td>8/31/20</td>\n",
       "      <td>1044</td>\n",
       "    </tr>\n",
       "    <tr>\n",
       "      <th>59313</th>\n",
       "      <td>NaN</td>\n",
       "      <td>West Bank and Gaza</td>\n",
       "      <td>31.952200</td>\n",
       "      <td>35.233200</td>\n",
       "      <td>8/31/20</td>\n",
       "      <td>22729</td>\n",
       "    </tr>\n",
       "    <tr>\n",
       "      <th>59315</th>\n",
       "      <td>NaN</td>\n",
       "      <td>Yemen</td>\n",
       "      <td>15.552727</td>\n",
       "      <td>48.516388</td>\n",
       "      <td>8/31/20</td>\n",
       "      <td>1958</td>\n",
       "    </tr>\n",
       "    <tr>\n",
       "      <th>59316</th>\n",
       "      <td>NaN</td>\n",
       "      <td>Zambia</td>\n",
       "      <td>-13.133897</td>\n",
       "      <td>27.849332</td>\n",
       "      <td>8/31/20</td>\n",
       "      <td>12097</td>\n",
       "    </tr>\n",
       "    <tr>\n",
       "      <th>59317</th>\n",
       "      <td>NaN</td>\n",
       "      <td>Zimbabwe</td>\n",
       "      <td>-19.015438</td>\n",
       "      <td>29.154857</td>\n",
       "      <td>8/31/20</td>\n",
       "      <td>6497</td>\n",
       "    </tr>\n",
       "  </tbody>\n",
       "</table>\n",
       "<p>35480 rows × 6 columns</p>\n",
       "</div>"
      ],
      "text/plain": [
       "      Province/State      Country/Region        Lat        Long     Date  \\\n",
       "69             Hubei               China  30.975600  112.270700  1/22/20   \n",
       "335            Hubei               China  30.975600  112.270700  1/23/20   \n",
       "601            Hubei               China  30.975600  112.270700  1/24/20   \n",
       "867            Hubei               China  30.975600  112.270700  1/25/20   \n",
       "1125       Guangdong               China  23.341700  113.424400  1/26/20   \n",
       "...              ...                 ...        ...         ...      ...   \n",
       "59312            NaN             Vietnam  14.058324  108.277199  8/31/20   \n",
       "59313            NaN  West Bank and Gaza  31.952200   35.233200  8/31/20   \n",
       "59315            NaN               Yemen  15.552727   48.516388  8/31/20   \n",
       "59316            NaN              Zambia -13.133897   27.849332  8/31/20   \n",
       "59317            NaN            Zimbabwe -19.015438   29.154857  8/31/20   \n",
       "\n",
       "       Cases  \n",
       "69       444  \n",
       "335      444  \n",
       "601      549  \n",
       "867      761  \n",
       "1125     111  \n",
       "...      ...  \n",
       "59312   1044  \n",
       "59313  22729  \n",
       "59315   1958  \n",
       "59316  12097  \n",
       "59317   6497  \n",
       "\n",
       "[35480 rows x 6 columns]"
      ]
     },
     "execution_count": 109,
     "metadata": {},
     "output_type": "execute_result"
    }
   ],
   "source": [
    "# This Boolean Series acts as a filter on the DataFrame\n",
    "# Conditionally select records\n",
    "df.loc[df['Cases']>100]"
   ]
  },
  {
   "cell_type": "code",
   "execution_count": 110,
   "metadata": {},
   "outputs": [
    {
     "data": {
      "text/html": [
       "<div>\n",
       "<style scoped>\n",
       "    .dataframe tbody tr th:only-of-type {\n",
       "        vertical-align: middle;\n",
       "    }\n",
       "\n",
       "    .dataframe tbody tr th {\n",
       "        vertical-align: top;\n",
       "    }\n",
       "\n",
       "    .dataframe thead th {\n",
       "        text-align: right;\n",
       "    }\n",
       "</style>\n",
       "<table border=\"1\" class=\"dataframe\">\n",
       "  <thead>\n",
       "    <tr style=\"text-align: right;\">\n",
       "      <th></th>\n",
       "      <th>Province/State</th>\n",
       "      <th>Country/Region</th>\n",
       "      <th>Lat</th>\n",
       "      <th>Long</th>\n",
       "      <th>Date</th>\n",
       "      <th>Cases</th>\n",
       "    </tr>\n",
       "  </thead>\n",
       "  <tbody>\n",
       "    <tr>\n",
       "      <th>242</th>\n",
       "      <td>NaN</td>\n",
       "      <td>US</td>\n",
       "      <td>40.0</td>\n",
       "      <td>-100.0</td>\n",
       "      <td>1/22/20</td>\n",
       "      <td>1</td>\n",
       "    </tr>\n",
       "    <tr>\n",
       "      <th>508</th>\n",
       "      <td>NaN</td>\n",
       "      <td>US</td>\n",
       "      <td>40.0</td>\n",
       "      <td>-100.0</td>\n",
       "      <td>1/23/20</td>\n",
       "      <td>1</td>\n",
       "    </tr>\n",
       "    <tr>\n",
       "      <th>774</th>\n",
       "      <td>NaN</td>\n",
       "      <td>US</td>\n",
       "      <td>40.0</td>\n",
       "      <td>-100.0</td>\n",
       "      <td>1/24/20</td>\n",
       "      <td>2</td>\n",
       "    </tr>\n",
       "    <tr>\n",
       "      <th>1040</th>\n",
       "      <td>NaN</td>\n",
       "      <td>US</td>\n",
       "      <td>40.0</td>\n",
       "      <td>-100.0</td>\n",
       "      <td>1/25/20</td>\n",
       "      <td>2</td>\n",
       "    </tr>\n",
       "    <tr>\n",
       "      <th>1306</th>\n",
       "      <td>NaN</td>\n",
       "      <td>US</td>\n",
       "      <td>40.0</td>\n",
       "      <td>-100.0</td>\n",
       "      <td>1/26/20</td>\n",
       "      <td>5</td>\n",
       "    </tr>\n",
       "    <tr>\n",
       "      <th>...</th>\n",
       "      <td>...</td>\n",
       "      <td>...</td>\n",
       "      <td>...</td>\n",
       "      <td>...</td>\n",
       "      <td>...</td>\n",
       "      <td>...</td>\n",
       "    </tr>\n",
       "    <tr>\n",
       "      <th>58230</th>\n",
       "      <td>NaN</td>\n",
       "      <td>US</td>\n",
       "      <td>40.0</td>\n",
       "      <td>-100.0</td>\n",
       "      <td>8/27/20</td>\n",
       "      <td>5867785</td>\n",
       "    </tr>\n",
       "    <tr>\n",
       "      <th>58496</th>\n",
       "      <td>NaN</td>\n",
       "      <td>US</td>\n",
       "      <td>40.0</td>\n",
       "      <td>-100.0</td>\n",
       "      <td>8/28/20</td>\n",
       "      <td>5913941</td>\n",
       "    </tr>\n",
       "    <tr>\n",
       "      <th>58762</th>\n",
       "      <td>NaN</td>\n",
       "      <td>US</td>\n",
       "      <td>40.0</td>\n",
       "      <td>-100.0</td>\n",
       "      <td>8/29/20</td>\n",
       "      <td>5961094</td>\n",
       "    </tr>\n",
       "    <tr>\n",
       "      <th>59028</th>\n",
       "      <td>NaN</td>\n",
       "      <td>US</td>\n",
       "      <td>40.0</td>\n",
       "      <td>-100.0</td>\n",
       "      <td>8/30/20</td>\n",
       "      <td>5996431</td>\n",
       "    </tr>\n",
       "    <tr>\n",
       "      <th>59294</th>\n",
       "      <td>NaN</td>\n",
       "      <td>US</td>\n",
       "      <td>40.0</td>\n",
       "      <td>-100.0</td>\n",
       "      <td>8/31/20</td>\n",
       "      <td>6030587</td>\n",
       "    </tr>\n",
       "  </tbody>\n",
       "</table>\n",
       "<p>223 rows × 6 columns</p>\n",
       "</div>"
      ],
      "text/plain": [
       "      Province/State Country/Region   Lat   Long     Date    Cases\n",
       "242              NaN             US  40.0 -100.0  1/22/20        1\n",
       "508              NaN             US  40.0 -100.0  1/23/20        1\n",
       "774              NaN             US  40.0 -100.0  1/24/20        2\n",
       "1040             NaN             US  40.0 -100.0  1/25/20        2\n",
       "1306             NaN             US  40.0 -100.0  1/26/20        5\n",
       "...              ...            ...   ...    ...      ...      ...\n",
       "58230            NaN             US  40.0 -100.0  8/27/20  5867785\n",
       "58496            NaN             US  40.0 -100.0  8/28/20  5913941\n",
       "58762            NaN             US  40.0 -100.0  8/29/20  5961094\n",
       "59028            NaN             US  40.0 -100.0  8/30/20  5996431\n",
       "59294            NaN             US  40.0 -100.0  8/31/20  6030587\n",
       "\n",
       "[223 rows x 6 columns]"
      ]
     },
     "execution_count": 110,
     "metadata": {},
     "output_type": "execute_result"
    }
   ],
   "source": [
    "df.loc[df['Country/Region']=='US']"
   ]
  },
  {
   "cell_type": "code",
   "execution_count": 111,
   "metadata": {},
   "outputs": [
    {
     "data": {
      "text/html": [
       "<div>\n",
       "<style scoped>\n",
       "    .dataframe tbody tr th:only-of-type {\n",
       "        vertical-align: middle;\n",
       "    }\n",
       "\n",
       "    .dataframe tbody tr th {\n",
       "        vertical-align: top;\n",
       "    }\n",
       "\n",
       "    .dataframe thead th {\n",
       "        text-align: right;\n",
       "    }\n",
       "</style>\n",
       "<table border=\"1\" class=\"dataframe\">\n",
       "  <thead>\n",
       "    <tr style=\"text-align: right;\">\n",
       "      <th></th>\n",
       "      <th>Province/State</th>\n",
       "      <th>Country/Region</th>\n",
       "      <th>Lat</th>\n",
       "      <th>Long</th>\n",
       "      <th>Date</th>\n",
       "      <th>Cases</th>\n",
       "    </tr>\n",
       "  </thead>\n",
       "  <tbody>\n",
       "    <tr>\n",
       "      <th>246</th>\n",
       "      <td>Anguilla</td>\n",
       "      <td>United Kingdom</td>\n",
       "      <td>18.220600</td>\n",
       "      <td>-63.068600</td>\n",
       "      <td>1/22/20</td>\n",
       "      <td>0</td>\n",
       "    </tr>\n",
       "    <tr>\n",
       "      <th>247</th>\n",
       "      <td>Bermuda</td>\n",
       "      <td>United Kingdom</td>\n",
       "      <td>32.307800</td>\n",
       "      <td>-64.750500</td>\n",
       "      <td>1/22/20</td>\n",
       "      <td>0</td>\n",
       "    </tr>\n",
       "    <tr>\n",
       "      <th>248</th>\n",
       "      <td>British Virgin Islands</td>\n",
       "      <td>United Kingdom</td>\n",
       "      <td>18.420700</td>\n",
       "      <td>-64.640000</td>\n",
       "      <td>1/22/20</td>\n",
       "      <td>0</td>\n",
       "    </tr>\n",
       "    <tr>\n",
       "      <th>249</th>\n",
       "      <td>Cayman Islands</td>\n",
       "      <td>United Kingdom</td>\n",
       "      <td>19.313300</td>\n",
       "      <td>-81.254600</td>\n",
       "      <td>1/22/20</td>\n",
       "      <td>0</td>\n",
       "    </tr>\n",
       "    <tr>\n",
       "      <th>250</th>\n",
       "      <td>Channel Islands</td>\n",
       "      <td>United Kingdom</td>\n",
       "      <td>49.372300</td>\n",
       "      <td>-2.364400</td>\n",
       "      <td>1/22/20</td>\n",
       "      <td>0</td>\n",
       "    </tr>\n",
       "    <tr>\n",
       "      <th>...</th>\n",
       "      <td>...</td>\n",
       "      <td>...</td>\n",
       "      <td>...</td>\n",
       "      <td>...</td>\n",
       "      <td>...</td>\n",
       "      <td>...</td>\n",
       "    </tr>\n",
       "    <tr>\n",
       "      <th>59040</th>\n",
       "      <td>Montserrat</td>\n",
       "      <td>United Kingdom</td>\n",
       "      <td>16.742498</td>\n",
       "      <td>-62.187366</td>\n",
       "      <td>8/30/20</td>\n",
       "      <td>13</td>\n",
       "    </tr>\n",
       "    <tr>\n",
       "      <th>59298</th>\n",
       "      <td>Anguilla</td>\n",
       "      <td>United Kingdom</td>\n",
       "      <td>18.220600</td>\n",
       "      <td>-63.068600</td>\n",
       "      <td>8/31/20</td>\n",
       "      <td>3</td>\n",
       "    </tr>\n",
       "    <tr>\n",
       "      <th>59300</th>\n",
       "      <td>British Virgin Islands</td>\n",
       "      <td>United Kingdom</td>\n",
       "      <td>18.420700</td>\n",
       "      <td>-64.640000</td>\n",
       "      <td>8/31/20</td>\n",
       "      <td>47</td>\n",
       "    </tr>\n",
       "    <tr>\n",
       "      <th>59303</th>\n",
       "      <td>Falkland Islands (Malvinas)</td>\n",
       "      <td>United Kingdom</td>\n",
       "      <td>-51.796300</td>\n",
       "      <td>-59.523600</td>\n",
       "      <td>8/31/20</td>\n",
       "      <td>13</td>\n",
       "    </tr>\n",
       "    <tr>\n",
       "      <th>59306</th>\n",
       "      <td>Montserrat</td>\n",
       "      <td>United Kingdom</td>\n",
       "      <td>16.742498</td>\n",
       "      <td>-62.187366</td>\n",
       "      <td>8/31/20</td>\n",
       "      <td>13</td>\n",
       "    </tr>\n",
       "  </tbody>\n",
       "</table>\n",
       "<p>1546 rows × 6 columns</p>\n",
       "</div>"
      ],
      "text/plain": [
       "                    Province/State  Country/Region        Lat       Long  \\\n",
       "246                       Anguilla  United Kingdom  18.220600 -63.068600   \n",
       "247                        Bermuda  United Kingdom  32.307800 -64.750500   \n",
       "248         British Virgin Islands  United Kingdom  18.420700 -64.640000   \n",
       "249                 Cayman Islands  United Kingdom  19.313300 -81.254600   \n",
       "250                Channel Islands  United Kingdom  49.372300  -2.364400   \n",
       "...                            ...             ...        ...        ...   \n",
       "59040                   Montserrat  United Kingdom  16.742498 -62.187366   \n",
       "59298                     Anguilla  United Kingdom  18.220600 -63.068600   \n",
       "59300       British Virgin Islands  United Kingdom  18.420700 -64.640000   \n",
       "59303  Falkland Islands (Malvinas)  United Kingdom -51.796300 -59.523600   \n",
       "59306                   Montserrat  United Kingdom  16.742498 -62.187366   \n",
       "\n",
       "          Date  Cases  \n",
       "246    1/22/20      0  \n",
       "247    1/22/20      0  \n",
       "248    1/22/20      0  \n",
       "249    1/22/20      0  \n",
       "250    1/22/20      0  \n",
       "...        ...    ...  \n",
       "59040  8/30/20     13  \n",
       "59298  8/31/20      3  \n",
       "59300  8/31/20     47  \n",
       "59303  8/31/20     13  \n",
       "59306  8/31/20     13  \n",
       "\n",
       "[1546 rows x 6 columns]"
      ]
     },
     "execution_count": 111,
     "metadata": {},
     "output_type": "execute_result"
    }
   ],
   "source": [
    "# Return values based on two criteria: Sex == female and Survived == 1\n",
    "df.loc[(df['Country/Region']=='United Kingdom') & (df['Cases']<=100)]"
   ]
  },
  {
   "cell_type": "markdown",
   "metadata": {},
   "source": [
    "### Reset the index"
   ]
  },
  {
   "cell_type": "code",
   "execution_count": 112,
   "metadata": {},
   "outputs": [
    {
     "data": {
      "text/html": [
       "<div>\n",
       "<style scoped>\n",
       "    .dataframe tbody tr th:only-of-type {\n",
       "        vertical-align: middle;\n",
       "    }\n",
       "\n",
       "    .dataframe tbody tr th {\n",
       "        vertical-align: top;\n",
       "    }\n",
       "\n",
       "    .dataframe thead th {\n",
       "        text-align: right;\n",
       "    }\n",
       "</style>\n",
       "<table border=\"1\" class=\"dataframe\">\n",
       "  <thead>\n",
       "    <tr style=\"text-align: right;\">\n",
       "      <th></th>\n",
       "      <th>Province/State</th>\n",
       "      <th>Country/Region</th>\n",
       "      <th>Lat</th>\n",
       "      <th>Long</th>\n",
       "      <th>Date</th>\n",
       "      <th>Cases</th>\n",
       "    </tr>\n",
       "  </thead>\n",
       "  <tbody>\n",
       "    <tr>\n",
       "      <th>26902</th>\n",
       "      <td>NaN</td>\n",
       "      <td>Cabo Verde</td>\n",
       "      <td>16.538800</td>\n",
       "      <td>-23.041800</td>\n",
       "      <td>5/2/20</td>\n",
       "      <td>152</td>\n",
       "    </tr>\n",
       "    <tr>\n",
       "      <th>23409</th>\n",
       "      <td>NaN</td>\n",
       "      <td>Albania</td>\n",
       "      <td>41.153300</td>\n",
       "      <td>20.168300</td>\n",
       "      <td>4/19/20</td>\n",
       "      <td>562</td>\n",
       "    </tr>\n",
       "    <tr>\n",
       "      <th>33516</th>\n",
       "      <td>NaN</td>\n",
       "      <td>Afghanistan</td>\n",
       "      <td>33.939110</td>\n",
       "      <td>67.709953</td>\n",
       "      <td>5/27/20</td>\n",
       "      <td>12456</td>\n",
       "    </tr>\n",
       "    <tr>\n",
       "      <th>52674</th>\n",
       "      <td>NaN</td>\n",
       "      <td>Argentina</td>\n",
       "      <td>-38.416100</td>\n",
       "      <td>-63.616700</td>\n",
       "      <td>8/7/20</td>\n",
       "      <td>235677</td>\n",
       "    </tr>\n",
       "    <tr>\n",
       "      <th>12914</th>\n",
       "      <td>NaN</td>\n",
       "      <td>Iraq</td>\n",
       "      <td>33.223191</td>\n",
       "      <td>43.679291</td>\n",
       "      <td>3/10/20</td>\n",
       "      <td>71</td>\n",
       "    </tr>\n",
       "  </tbody>\n",
       "</table>\n",
       "</div>"
      ],
      "text/plain": [
       "      Province/State Country/Region        Lat       Long     Date   Cases\n",
       "26902            NaN     Cabo Verde  16.538800 -23.041800   5/2/20     152\n",
       "23409            NaN        Albania  41.153300  20.168300  4/19/20     562\n",
       "33516            NaN    Afghanistan  33.939110  67.709953  5/27/20   12456\n",
       "52674            NaN      Argentina -38.416100 -63.616700   8/7/20  235677\n",
       "12914            NaN           Iraq  33.223191  43.679291  3/10/20      71"
      ]
     },
     "execution_count": 112,
     "metadata": {},
     "output_type": "execute_result"
    }
   ],
   "source": [
    "tmp = df.sample(5).copy()\n",
    "tmp"
   ]
  },
  {
   "cell_type": "code",
   "execution_count": 113,
   "metadata": {},
   "outputs": [
    {
     "data": {
      "text/html": [
       "<div>\n",
       "<style scoped>\n",
       "    .dataframe tbody tr th:only-of-type {\n",
       "        vertical-align: middle;\n",
       "    }\n",
       "\n",
       "    .dataframe tbody tr th {\n",
       "        vertical-align: top;\n",
       "    }\n",
       "\n",
       "    .dataframe thead th {\n",
       "        text-align: right;\n",
       "    }\n",
       "</style>\n",
       "<table border=\"1\" class=\"dataframe\">\n",
       "  <thead>\n",
       "    <tr style=\"text-align: right;\">\n",
       "      <th></th>\n",
       "      <th>Province/State</th>\n",
       "      <th>Country/Region</th>\n",
       "      <th>Lat</th>\n",
       "      <th>Long</th>\n",
       "      <th>Date</th>\n",
       "      <th>Cases</th>\n",
       "    </tr>\n",
       "  </thead>\n",
       "  <tbody>\n",
       "    <tr>\n",
       "      <th>0</th>\n",
       "      <td>NaN</td>\n",
       "      <td>Cabo Verde</td>\n",
       "      <td>16.538800</td>\n",
       "      <td>-23.041800</td>\n",
       "      <td>5/2/20</td>\n",
       "      <td>152</td>\n",
       "    </tr>\n",
       "    <tr>\n",
       "      <th>1</th>\n",
       "      <td>NaN</td>\n",
       "      <td>Albania</td>\n",
       "      <td>41.153300</td>\n",
       "      <td>20.168300</td>\n",
       "      <td>4/19/20</td>\n",
       "      <td>562</td>\n",
       "    </tr>\n",
       "    <tr>\n",
       "      <th>2</th>\n",
       "      <td>NaN</td>\n",
       "      <td>Afghanistan</td>\n",
       "      <td>33.939110</td>\n",
       "      <td>67.709953</td>\n",
       "      <td>5/27/20</td>\n",
       "      <td>12456</td>\n",
       "    </tr>\n",
       "    <tr>\n",
       "      <th>3</th>\n",
       "      <td>NaN</td>\n",
       "      <td>Argentina</td>\n",
       "      <td>-38.416100</td>\n",
       "      <td>-63.616700</td>\n",
       "      <td>8/7/20</td>\n",
       "      <td>235677</td>\n",
       "    </tr>\n",
       "    <tr>\n",
       "      <th>4</th>\n",
       "      <td>NaN</td>\n",
       "      <td>Iraq</td>\n",
       "      <td>33.223191</td>\n",
       "      <td>43.679291</td>\n",
       "      <td>3/10/20</td>\n",
       "      <td>71</td>\n",
       "    </tr>\n",
       "  </tbody>\n",
       "</table>\n",
       "</div>"
      ],
      "text/plain": [
       "  Province/State Country/Region        Lat       Long     Date   Cases\n",
       "0            NaN     Cabo Verde  16.538800 -23.041800   5/2/20     152\n",
       "1            NaN        Albania  41.153300  20.168300  4/19/20     562\n",
       "2            NaN    Afghanistan  33.939110  67.709953  5/27/20   12456\n",
       "3            NaN      Argentina -38.416100 -63.616700   8/7/20  235677\n",
       "4            NaN           Iraq  33.223191  43.679291  3/10/20      71"
      ]
     },
     "execution_count": 113,
     "metadata": {},
     "output_type": "execute_result"
    }
   ],
   "source": [
    "tmp.reset_index(drop=True, inplace=True)\n",
    "tmp"
   ]
  },
  {
   "cell_type": "markdown",
   "metadata": {},
   "source": [
    "### Dropping entries\n",
    "The `drop()` method creates a new object without the specified entries."
   ]
  },
  {
   "cell_type": "code",
   "execution_count": 114,
   "metadata": {},
   "outputs": [
    {
     "data": {
      "text/html": [
       "<div>\n",
       "<style scoped>\n",
       "    .dataframe tbody tr th:only-of-type {\n",
       "        vertical-align: middle;\n",
       "    }\n",
       "\n",
       "    .dataframe tbody tr th {\n",
       "        vertical-align: top;\n",
       "    }\n",
       "\n",
       "    .dataframe thead th {\n",
       "        text-align: right;\n",
       "    }\n",
       "</style>\n",
       "<table border=\"1\" class=\"dataframe\">\n",
       "  <thead>\n",
       "    <tr style=\"text-align: right;\">\n",
       "      <th></th>\n",
       "      <th>Province/State</th>\n",
       "      <th>Country/Region</th>\n",
       "      <th>Lat</th>\n",
       "      <th>Long</th>\n",
       "      <th>Date</th>\n",
       "      <th>Cases</th>\n",
       "    </tr>\n",
       "  </thead>\n",
       "  <tbody>\n",
       "    <tr>\n",
       "      <th>0</th>\n",
       "      <td>NaN</td>\n",
       "      <td>Cabo Verde</td>\n",
       "      <td>16.53880</td>\n",
       "      <td>-23.041800</td>\n",
       "      <td>5/2/20</td>\n",
       "      <td>152</td>\n",
       "    </tr>\n",
       "    <tr>\n",
       "      <th>2</th>\n",
       "      <td>NaN</td>\n",
       "      <td>Afghanistan</td>\n",
       "      <td>33.93911</td>\n",
       "      <td>67.709953</td>\n",
       "      <td>5/27/20</td>\n",
       "      <td>12456</td>\n",
       "    </tr>\n",
       "    <tr>\n",
       "      <th>3</th>\n",
       "      <td>NaN</td>\n",
       "      <td>Argentina</td>\n",
       "      <td>-38.41610</td>\n",
       "      <td>-63.616700</td>\n",
       "      <td>8/7/20</td>\n",
       "      <td>235677</td>\n",
       "    </tr>\n",
       "  </tbody>\n",
       "</table>\n",
       "</div>"
      ],
      "text/plain": [
       "  Province/State Country/Region       Lat       Long     Date   Cases\n",
       "0            NaN     Cabo Verde  16.53880 -23.041800   5/2/20     152\n",
       "2            NaN    Afghanistan  33.93911  67.709953  5/27/20   12456\n",
       "3            NaN      Argentina -38.41610 -63.616700   8/7/20  235677"
      ]
     },
     "execution_count": 114,
     "metadata": {},
     "output_type": "execute_result"
    }
   ],
   "source": [
    "tmp.drop([1,4]) # drops the rows at index 1 and 4"
   ]
  },
  {
   "cell_type": "code",
   "execution_count": 115,
   "metadata": {},
   "outputs": [
    {
     "data": {
      "text/html": [
       "<div>\n",
       "<style scoped>\n",
       "    .dataframe tbody tr th:only-of-type {\n",
       "        vertical-align: middle;\n",
       "    }\n",
       "\n",
       "    .dataframe tbody tr th {\n",
       "        vertical-align: top;\n",
       "    }\n",
       "\n",
       "    .dataframe thead th {\n",
       "        text-align: right;\n",
       "    }\n",
       "</style>\n",
       "<table border=\"1\" class=\"dataframe\">\n",
       "  <thead>\n",
       "    <tr style=\"text-align: right;\">\n",
       "      <th></th>\n",
       "      <th>Country/Region</th>\n",
       "      <th>Lat</th>\n",
       "      <th>Long</th>\n",
       "      <th>Date</th>\n",
       "      <th>Cases</th>\n",
       "    </tr>\n",
       "  </thead>\n",
       "  <tbody>\n",
       "    <tr>\n",
       "      <th>0</th>\n",
       "      <td>Afghanistan</td>\n",
       "      <td>33.939110</td>\n",
       "      <td>67.709953</td>\n",
       "      <td>1/22/20</td>\n",
       "      <td>0</td>\n",
       "    </tr>\n",
       "    <tr>\n",
       "      <th>1</th>\n",
       "      <td>Albania</td>\n",
       "      <td>41.153300</td>\n",
       "      <td>20.168300</td>\n",
       "      <td>1/22/20</td>\n",
       "      <td>0</td>\n",
       "    </tr>\n",
       "    <tr>\n",
       "      <th>2</th>\n",
       "      <td>Algeria</td>\n",
       "      <td>28.033900</td>\n",
       "      <td>1.659600</td>\n",
       "      <td>1/22/20</td>\n",
       "      <td>0</td>\n",
       "    </tr>\n",
       "    <tr>\n",
       "      <th>3</th>\n",
       "      <td>Andorra</td>\n",
       "      <td>42.506300</td>\n",
       "      <td>1.521800</td>\n",
       "      <td>1/22/20</td>\n",
       "      <td>0</td>\n",
       "    </tr>\n",
       "    <tr>\n",
       "      <th>4</th>\n",
       "      <td>Angola</td>\n",
       "      <td>-11.202700</td>\n",
       "      <td>17.873900</td>\n",
       "      <td>1/22/20</td>\n",
       "      <td>0</td>\n",
       "    </tr>\n",
       "    <tr>\n",
       "      <th>...</th>\n",
       "      <td>...</td>\n",
       "      <td>...</td>\n",
       "      <td>...</td>\n",
       "      <td>...</td>\n",
       "      <td>...</td>\n",
       "    </tr>\n",
       "    <tr>\n",
       "      <th>59313</th>\n",
       "      <td>West Bank and Gaza</td>\n",
       "      <td>31.952200</td>\n",
       "      <td>35.233200</td>\n",
       "      <td>8/31/20</td>\n",
       "      <td>22729</td>\n",
       "    </tr>\n",
       "    <tr>\n",
       "      <th>59314</th>\n",
       "      <td>Western Sahara</td>\n",
       "      <td>24.215500</td>\n",
       "      <td>-12.885800</td>\n",
       "      <td>8/31/20</td>\n",
       "      <td>10</td>\n",
       "    </tr>\n",
       "    <tr>\n",
       "      <th>59315</th>\n",
       "      <td>Yemen</td>\n",
       "      <td>15.552727</td>\n",
       "      <td>48.516388</td>\n",
       "      <td>8/31/20</td>\n",
       "      <td>1958</td>\n",
       "    </tr>\n",
       "    <tr>\n",
       "      <th>59316</th>\n",
       "      <td>Zambia</td>\n",
       "      <td>-13.133897</td>\n",
       "      <td>27.849332</td>\n",
       "      <td>8/31/20</td>\n",
       "      <td>12097</td>\n",
       "    </tr>\n",
       "    <tr>\n",
       "      <th>59317</th>\n",
       "      <td>Zimbabwe</td>\n",
       "      <td>-19.015438</td>\n",
       "      <td>29.154857</td>\n",
       "      <td>8/31/20</td>\n",
       "      <td>6497</td>\n",
       "    </tr>\n",
       "  </tbody>\n",
       "</table>\n",
       "<p>59318 rows × 5 columns</p>\n",
       "</div>"
      ],
      "text/plain": [
       "           Country/Region        Lat       Long     Date  Cases\n",
       "0             Afghanistan  33.939110  67.709953  1/22/20      0\n",
       "1                 Albania  41.153300  20.168300  1/22/20      0\n",
       "2                 Algeria  28.033900   1.659600  1/22/20      0\n",
       "3                 Andorra  42.506300   1.521800  1/22/20      0\n",
       "4                  Angola -11.202700  17.873900  1/22/20      0\n",
       "...                   ...        ...        ...      ...    ...\n",
       "59313  West Bank and Gaza  31.952200  35.233200  8/31/20  22729\n",
       "59314      Western Sahara  24.215500 -12.885800  8/31/20     10\n",
       "59315               Yemen  15.552727  48.516388  8/31/20   1958\n",
       "59316              Zambia -13.133897  27.849332  8/31/20  12097\n",
       "59317            Zimbabwe -19.015438  29.154857  8/31/20   6497\n",
       "\n",
       "[59318 rows x 5 columns]"
      ]
     },
     "execution_count": 115,
     "metadata": {},
     "output_type": "execute_result"
    }
   ],
   "source": [
    "df.drop(['Province/State'], axis=1) # drops the 'Ticket' column"
   ]
  },
  {
   "cell_type": "markdown",
   "metadata": {},
   "source": [
    "### Sorting and Ranking\n",
    "\n",
    "#### Sorting\n",
    "* Use `sort_index` to sort lexicographically by row or column index\n",
    "* Use `sort_values` to sort by the values in one or more columns.\n",
    "\n",
    "The data is sorted in ascending order by default. Use the optional parameter-value `ascending = True` to sort in descending order."
   ]
  },
  {
   "cell_type": "code",
   "execution_count": 116,
   "metadata": {},
   "outputs": [
    {
     "data": {
      "text/html": [
       "<div>\n",
       "<style scoped>\n",
       "    .dataframe tbody tr th:only-of-type {\n",
       "        vertical-align: middle;\n",
       "    }\n",
       "\n",
       "    .dataframe tbody tr th {\n",
       "        vertical-align: top;\n",
       "    }\n",
       "\n",
       "    .dataframe thead th {\n",
       "        text-align: right;\n",
       "    }\n",
       "</style>\n",
       "<table border=\"1\" class=\"dataframe\">\n",
       "  <thead>\n",
       "    <tr style=\"text-align: right;\">\n",
       "      <th></th>\n",
       "      <th>Province/State</th>\n",
       "      <th>Country/Region</th>\n",
       "      <th>Lat</th>\n",
       "      <th>Long</th>\n",
       "      <th>Date</th>\n",
       "      <th>Cases</th>\n",
       "    </tr>\n",
       "  </thead>\n",
       "  <tbody>\n",
       "    <tr>\n",
       "      <th>59317</th>\n",
       "      <td>NaN</td>\n",
       "      <td>Zimbabwe</td>\n",
       "      <td>-19.015438</td>\n",
       "      <td>29.154857</td>\n",
       "      <td>8/31/20</td>\n",
       "      <td>6497</td>\n",
       "    </tr>\n",
       "    <tr>\n",
       "      <th>59316</th>\n",
       "      <td>NaN</td>\n",
       "      <td>Zambia</td>\n",
       "      <td>-13.133897</td>\n",
       "      <td>27.849332</td>\n",
       "      <td>8/31/20</td>\n",
       "      <td>12097</td>\n",
       "    </tr>\n",
       "    <tr>\n",
       "      <th>59315</th>\n",
       "      <td>NaN</td>\n",
       "      <td>Yemen</td>\n",
       "      <td>15.552727</td>\n",
       "      <td>48.516388</td>\n",
       "      <td>8/31/20</td>\n",
       "      <td>1958</td>\n",
       "    </tr>\n",
       "    <tr>\n",
       "      <th>59314</th>\n",
       "      <td>NaN</td>\n",
       "      <td>Western Sahara</td>\n",
       "      <td>24.215500</td>\n",
       "      <td>-12.885800</td>\n",
       "      <td>8/31/20</td>\n",
       "      <td>10</td>\n",
       "    </tr>\n",
       "    <tr>\n",
       "      <th>59313</th>\n",
       "      <td>NaN</td>\n",
       "      <td>West Bank and Gaza</td>\n",
       "      <td>31.952200</td>\n",
       "      <td>35.233200</td>\n",
       "      <td>8/31/20</td>\n",
       "      <td>22729</td>\n",
       "    </tr>\n",
       "  </tbody>\n",
       "</table>\n",
       "</div>"
      ],
      "text/plain": [
       "      Province/State      Country/Region        Lat       Long     Date  Cases\n",
       "59317            NaN            Zimbabwe -19.015438  29.154857  8/31/20   6497\n",
       "59316            NaN              Zambia -13.133897  27.849332  8/31/20  12097\n",
       "59315            NaN               Yemen  15.552727  48.516388  8/31/20   1958\n",
       "59314            NaN      Western Sahara  24.215500 -12.885800  8/31/20     10\n",
       "59313            NaN  West Bank and Gaza  31.952200  35.233200  8/31/20  22729"
      ]
     },
     "execution_count": 116,
     "metadata": {},
     "output_type": "execute_result"
    }
   ],
   "source": [
    "df.sort_index(axis=0, ascending=False).head()"
   ]
  },
  {
   "cell_type": "code",
   "execution_count": 117,
   "metadata": {},
   "outputs": [
    {
     "data": {
      "text/html": [
       "<div>\n",
       "<style scoped>\n",
       "    .dataframe tbody tr th:only-of-type {\n",
       "        vertical-align: middle;\n",
       "    }\n",
       "\n",
       "    .dataframe tbody tr th {\n",
       "        vertical-align: top;\n",
       "    }\n",
       "\n",
       "    .dataframe thead th {\n",
       "        text-align: right;\n",
       "    }\n",
       "</style>\n",
       "<table border=\"1\" class=\"dataframe\">\n",
       "  <thead>\n",
       "    <tr style=\"text-align: right;\">\n",
       "      <th></th>\n",
       "      <th>Province/State</th>\n",
       "      <th>Country/Region</th>\n",
       "      <th>Lat</th>\n",
       "      <th>Long</th>\n",
       "      <th>Date</th>\n",
       "      <th>Cases</th>\n",
       "    </tr>\n",
       "  </thead>\n",
       "  <tbody>\n",
       "    <tr>\n",
       "      <th>59294</th>\n",
       "      <td>NaN</td>\n",
       "      <td>US</td>\n",
       "      <td>40.0</td>\n",
       "      <td>-100.0</td>\n",
       "      <td>8/31/20</td>\n",
       "      <td>6030587</td>\n",
       "    </tr>\n",
       "    <tr>\n",
       "      <th>59028</th>\n",
       "      <td>NaN</td>\n",
       "      <td>US</td>\n",
       "      <td>40.0</td>\n",
       "      <td>-100.0</td>\n",
       "      <td>8/30/20</td>\n",
       "      <td>5996431</td>\n",
       "    </tr>\n",
       "    <tr>\n",
       "      <th>58762</th>\n",
       "      <td>NaN</td>\n",
       "      <td>US</td>\n",
       "      <td>40.0</td>\n",
       "      <td>-100.0</td>\n",
       "      <td>8/29/20</td>\n",
       "      <td>5961094</td>\n",
       "    </tr>\n",
       "    <tr>\n",
       "      <th>58496</th>\n",
       "      <td>NaN</td>\n",
       "      <td>US</td>\n",
       "      <td>40.0</td>\n",
       "      <td>-100.0</td>\n",
       "      <td>8/28/20</td>\n",
       "      <td>5913941</td>\n",
       "    </tr>\n",
       "    <tr>\n",
       "      <th>58230</th>\n",
       "      <td>NaN</td>\n",
       "      <td>US</td>\n",
       "      <td>40.0</td>\n",
       "      <td>-100.0</td>\n",
       "      <td>8/27/20</td>\n",
       "      <td>5867785</td>\n",
       "    </tr>\n",
       "    <tr>\n",
       "      <th>57964</th>\n",
       "      <td>NaN</td>\n",
       "      <td>US</td>\n",
       "      <td>40.0</td>\n",
       "      <td>-100.0</td>\n",
       "      <td>8/26/20</td>\n",
       "      <td>5821819</td>\n",
       "    </tr>\n",
       "    <tr>\n",
       "      <th>57698</th>\n",
       "      <td>NaN</td>\n",
       "      <td>US</td>\n",
       "      <td>40.0</td>\n",
       "      <td>-100.0</td>\n",
       "      <td>8/25/20</td>\n",
       "      <td>5777710</td>\n",
       "    </tr>\n",
       "    <tr>\n",
       "      <th>57432</th>\n",
       "      <td>NaN</td>\n",
       "      <td>US</td>\n",
       "      <td>40.0</td>\n",
       "      <td>-100.0</td>\n",
       "      <td>8/24/20</td>\n",
       "      <td>5739536</td>\n",
       "    </tr>\n",
       "    <tr>\n",
       "      <th>57166</th>\n",
       "      <td>NaN</td>\n",
       "      <td>US</td>\n",
       "      <td>40.0</td>\n",
       "      <td>-100.0</td>\n",
       "      <td>8/23/20</td>\n",
       "      <td>5701645</td>\n",
       "    </tr>\n",
       "    <tr>\n",
       "      <th>56900</th>\n",
       "      <td>NaN</td>\n",
       "      <td>US</td>\n",
       "      <td>40.0</td>\n",
       "      <td>-100.0</td>\n",
       "      <td>8/22/20</td>\n",
       "      <td>5667070</td>\n",
       "    </tr>\n",
       "  </tbody>\n",
       "</table>\n",
       "</div>"
      ],
      "text/plain": [
       "      Province/State Country/Region   Lat   Long     Date    Cases\n",
       "59294            NaN             US  40.0 -100.0  8/31/20  6030587\n",
       "59028            NaN             US  40.0 -100.0  8/30/20  5996431\n",
       "58762            NaN             US  40.0 -100.0  8/29/20  5961094\n",
       "58496            NaN             US  40.0 -100.0  8/28/20  5913941\n",
       "58230            NaN             US  40.0 -100.0  8/27/20  5867785\n",
       "57964            NaN             US  40.0 -100.0  8/26/20  5821819\n",
       "57698            NaN             US  40.0 -100.0  8/25/20  5777710\n",
       "57432            NaN             US  40.0 -100.0  8/24/20  5739536\n",
       "57166            NaN             US  40.0 -100.0  8/23/20  5701645\n",
       "56900            NaN             US  40.0 -100.0  8/22/20  5667070"
      ]
     },
     "execution_count": 117,
     "metadata": {},
     "output_type": "execute_result"
    }
   ],
   "source": [
    "df.sort_values(by=['Cases', 'Date'], ascending=[False, True]).head(10)"
   ]
  },
  {
   "cell_type": "markdown",
   "metadata": {},
   "source": [
    "**Ranking** assigns ranks from one through the number of valid data points in an array. By default, equal values are a rank that is the average of the ranks of those values. This can be adjusted with the `method` parameter.\n",
    "\n",
    "Example from [pandas docs](https://pandas.pydata.org/pandas-docs/stable/reference/api/pandas.DataFrame.rank.html)."
   ]
  },
  {
   "cell_type": "code",
   "execution_count": 118,
   "metadata": {},
   "outputs": [
    {
     "data": {
      "text/html": [
       "<div>\n",
       "<style scoped>\n",
       "    .dataframe tbody tr th:only-of-type {\n",
       "        vertical-align: middle;\n",
       "    }\n",
       "\n",
       "    .dataframe tbody tr th {\n",
       "        vertical-align: top;\n",
       "    }\n",
       "\n",
       "    .dataframe thead th {\n",
       "        text-align: right;\n",
       "    }\n",
       "</style>\n",
       "<table border=\"1\" class=\"dataframe\">\n",
       "  <thead>\n",
       "    <tr style=\"text-align: right;\">\n",
       "      <th></th>\n",
       "      <th>Animal</th>\n",
       "      <th>Number_legs</th>\n",
       "    </tr>\n",
       "  </thead>\n",
       "  <tbody>\n",
       "    <tr>\n",
       "      <th>0</th>\n",
       "      <td>cat</td>\n",
       "      <td>4.0</td>\n",
       "    </tr>\n",
       "    <tr>\n",
       "      <th>1</th>\n",
       "      <td>penguin</td>\n",
       "      <td>2.0</td>\n",
       "    </tr>\n",
       "    <tr>\n",
       "      <th>2</th>\n",
       "      <td>dog</td>\n",
       "      <td>4.0</td>\n",
       "    </tr>\n",
       "    <tr>\n",
       "      <th>3</th>\n",
       "      <td>spider</td>\n",
       "      <td>8.0</td>\n",
       "    </tr>\n",
       "    <tr>\n",
       "      <th>4</th>\n",
       "      <td>snake</td>\n",
       "      <td>NaN</td>\n",
       "    </tr>\n",
       "  </tbody>\n",
       "</table>\n",
       "</div>"
      ],
      "text/plain": [
       "    Animal  Number_legs\n",
       "0      cat          4.0\n",
       "1  penguin          2.0\n",
       "2      dog          4.0\n",
       "3   spider          8.0\n",
       "4    snake          NaN"
      ]
     },
     "execution_count": 118,
     "metadata": {},
     "output_type": "execute_result"
    }
   ],
   "source": [
    "tmp = pd.DataFrame(data={'Animal': ['cat', 'penguin', 'dog', 'spider', 'snake'],\n",
    "                         'Number_legs': [4, 2, 4, 8, np.nan]})\n",
    "tmp"
   ]
  },
  {
   "cell_type": "code",
   "execution_count": 119,
   "metadata": {},
   "outputs": [
    {
     "data": {
      "text/html": [
       "<div>\n",
       "<style scoped>\n",
       "    .dataframe tbody tr th:only-of-type {\n",
       "        vertical-align: middle;\n",
       "    }\n",
       "\n",
       "    .dataframe tbody tr th {\n",
       "        vertical-align: top;\n",
       "    }\n",
       "\n",
       "    .dataframe thead th {\n",
       "        text-align: right;\n",
       "    }\n",
       "</style>\n",
       "<table border=\"1\" class=\"dataframe\">\n",
       "  <thead>\n",
       "    <tr style=\"text-align: right;\">\n",
       "      <th></th>\n",
       "      <th>Animal</th>\n",
       "      <th>Number_legs</th>\n",
       "      <th>default_rank</th>\n",
       "      <th>max_rank</th>\n",
       "      <th>NA_bottom</th>\n",
       "      <th>pct_rank</th>\n",
       "    </tr>\n",
       "  </thead>\n",
       "  <tbody>\n",
       "    <tr>\n",
       "      <th>0</th>\n",
       "      <td>cat</td>\n",
       "      <td>4.0</td>\n",
       "      <td>2.5</td>\n",
       "      <td>3.0</td>\n",
       "      <td>2.5</td>\n",
       "      <td>0.625</td>\n",
       "    </tr>\n",
       "    <tr>\n",
       "      <th>1</th>\n",
       "      <td>penguin</td>\n",
       "      <td>2.0</td>\n",
       "      <td>1.0</td>\n",
       "      <td>1.0</td>\n",
       "      <td>1.0</td>\n",
       "      <td>0.250</td>\n",
       "    </tr>\n",
       "    <tr>\n",
       "      <th>2</th>\n",
       "      <td>dog</td>\n",
       "      <td>4.0</td>\n",
       "      <td>2.5</td>\n",
       "      <td>3.0</td>\n",
       "      <td>2.5</td>\n",
       "      <td>0.625</td>\n",
       "    </tr>\n",
       "    <tr>\n",
       "      <th>3</th>\n",
       "      <td>spider</td>\n",
       "      <td>8.0</td>\n",
       "      <td>4.0</td>\n",
       "      <td>4.0</td>\n",
       "      <td>4.0</td>\n",
       "      <td>1.000</td>\n",
       "    </tr>\n",
       "    <tr>\n",
       "      <th>4</th>\n",
       "      <td>snake</td>\n",
       "      <td>NaN</td>\n",
       "      <td>NaN</td>\n",
       "      <td>NaN</td>\n",
       "      <td>5.0</td>\n",
       "      <td>NaN</td>\n",
       "    </tr>\n",
       "  </tbody>\n",
       "</table>\n",
       "</div>"
      ],
      "text/plain": [
       "    Animal  Number_legs  default_rank  max_rank  NA_bottom  pct_rank\n",
       "0      cat          4.0           2.5       3.0        2.5     0.625\n",
       "1  penguin          2.0           1.0       1.0        1.0     0.250\n",
       "2      dog          4.0           2.5       3.0        2.5     0.625\n",
       "3   spider          8.0           4.0       4.0        4.0     1.000\n",
       "4    snake          NaN           NaN       NaN        5.0       NaN"
      ]
     },
     "execution_count": 119,
     "metadata": {},
     "output_type": "execute_result"
    }
   ],
   "source": [
    "tmp['default_rank'] = tmp['Number_legs'].rank()\n",
    "tmp['max_rank'] = tmp['Number_legs'].rank(method='max') # highest rank in the group\n",
    "tmp['NA_bottom'] = tmp['Number_legs'].rank(na_option='bottom')\n",
    "tmp['pct_rank'] = tmp['Number_legs'].rank(pct=True) # displays rankings in percentile form\n",
    "tmp"
   ]
  },
  {
   "cell_type": "markdown",
   "metadata": {},
   "source": [
    "## Operations\n",
    "Pandas inherits much of the NumPy functionality, including **ufuncs** (Universal Functions). However, there are two important items to note.\n",
    "1. In pandas, ufuncs will preserve index and column labels for unary operations (negation, trig functions, etc.). \n",
    "2. Pandas automatically aligns indices for binary operations (addition, multiplication, etc.).\n",
    "\n",
    "### Unary Ufuncs"
   ]
  },
  {
   "cell_type": "code",
   "execution_count": 120,
   "metadata": {},
   "outputs": [
    {
     "data": {
      "text/plain": [
       "a    4\n",
       "b    3\n",
       "c   -5\n",
       "d    8\n",
       "dtype: int64"
      ]
     },
     "execution_count": 120,
     "metadata": {},
     "output_type": "execute_result"
    }
   ],
   "source": [
    "s = pd.Series([4,3,-5,8], index=['a','b','c','d'])\n",
    "s"
   ]
  },
  {
   "cell_type": "code",
   "execution_count": 121,
   "metadata": {},
   "outputs": [
    {
     "data": {
      "text/plain": [
       "a    4\n",
       "b    3\n",
       "c    5\n",
       "d    8\n",
       "dtype: int64"
      ]
     },
     "execution_count": 121,
     "metadata": {},
     "output_type": "execute_result"
    }
   ],
   "source": [
    "s.abs()"
   ]
  },
  {
   "cell_type": "code",
   "execution_count": 122,
   "metadata": {},
   "outputs": [
    {
     "data": {
      "text/plain": [
       "a     64\n",
       "b     27\n",
       "c   -125\n",
       "d    512\n",
       "dtype: int64"
      ]
     },
     "execution_count": 122,
     "metadata": {},
     "output_type": "execute_result"
    }
   ],
   "source": [
    "s.pow(3) # s^3"
   ]
  },
  {
   "cell_type": "markdown",
   "metadata": {},
   "source": [
    "### Binary ufuncs\n",
    "Arithmetic operations between pandas objects and scalars or arrays and other pandas objects of the same size work as expected."
   ]
  },
  {
   "cell_type": "code",
   "execution_count": 123,
   "metadata": {},
   "outputs": [
    {
     "data": {
      "text/plain": [
       "a    5\n",
       "b    4\n",
       "c   -4\n",
       "d    9\n",
       "dtype: int64"
      ]
     },
     "execution_count": 123,
     "metadata": {},
     "output_type": "execute_result"
    }
   ],
   "source": [
    "s + 1"
   ]
  },
  {
   "cell_type": "markdown",
   "metadata": {},
   "source": [
    "When two Series are used in an arithmetic operation, pandas aligns the indices to execute the operation. \n",
    "\n",
    "In the example below, there are non-overlapping indices. The result is the union of the index pairs."
   ]
  },
  {
   "cell_type": "code",
   "execution_count": 124,
   "metadata": {},
   "outputs": [
    {
     "data": {
      "text/plain": [
       "a     4.0\n",
       "b     6.0\n",
       "c   -15.0\n",
       "d     NaN\n",
       "e     NaN\n",
       "dtype: float64"
      ]
     },
     "execution_count": 124,
     "metadata": {},
     "output_type": "execute_result"
    }
   ],
   "source": [
    "s * pd.Series({'a':1, 'b':2,'c':3, 'e':4})"
   ]
  },
  {
   "cell_type": "markdown",
   "metadata": {},
   "source": [
    "To specify a value to use instead of `NaN`, use the corresponding ufunc and the `fill_value` parameter."
   ]
  },
  {
   "cell_type": "code",
   "execution_count": 125,
   "metadata": {},
   "outputs": [
    {
     "data": {
      "text/plain": [
       "a     4.0\n",
       "b     6.0\n",
       "c   -15.0\n",
       "d     0.0\n",
       "e     0.0\n",
       "dtype: float64"
      ]
     },
     "execution_count": 125,
     "metadata": {},
     "output_type": "execute_result"
    }
   ],
   "source": [
    "s.mul(pd.Series({'a':1, 'b':2,'c':3, 'e':4}), fill_value=0)"
   ]
  },
  {
   "cell_type": "markdown",
   "metadata": {},
   "source": [
    "### Descriptive statistics"
   ]
  },
  {
   "cell_type": "code",
   "execution_count": 126,
   "metadata": {},
   "outputs": [
    {
     "name": "stdout",
     "output_type": "stream",
     "text": [
      "::\n",
      "\n",
      "    Number of observations - 944\n",
      "    Number of variables - 10\n",
      "\n",
      "    Variables name definitions::\n",
      "\n",
      "            popul - Census place population in 1000s\n",
      "            TVnews - Number of times per week that respondent watches TV news.\n",
      "            PID - Party identification of respondent.\n",
      "                0 - Strong Democrat\n",
      "                1 - Weak Democrat\n",
      "                2 - Independent-Democrat\n",
      "                3 - Independent-Indpendent\n",
      "                4 - Independent-Republican\n",
      "                5 - Weak Republican\n",
      "                6 - Strong Republican\n",
      "            age : Age of respondent.\n",
      "            educ - Education level of respondent\n",
      "                1 - 1-8 grades\n",
      "                2 - Some high school\n",
      "                3 - High school graduate\n",
      "                4 - Some college\n",
      "                5 - College degree\n",
      "                6 - Master's degree\n",
      "                7 - PhD\n",
      "            income - Income of household\n",
      "                1  - None or less than $2,999\n",
      "                2  - $3,000-$4,999\n",
      "                3  - $5,000-$6,999\n",
      "                4  - $7,000-$8,999\n",
      "                5  - $9,000-$9,999\n",
      "                6  - $10,000-$10,999\n",
      "                7  - $11,000-$11,999\n",
      "                8  - $12,000-$12,999\n",
      "                9  - $13,000-$13,999\n",
      "                10 - $14,000-$14.999\n",
      "                11 - $15,000-$16,999\n",
      "                12 - $17,000-$19,999\n",
      "                13 - $20,000-$21,999\n",
      "                14 - $22,000-$24,999\n",
      "                15 - $25,000-$29,999\n",
      "                16 - $30,000-$34,999\n",
      "                17 - $35,000-$39,999\n",
      "                18 - $40,000-$44,999\n",
      "                19 - $45,000-$49,999\n",
      "                20 - $50,000-$59,999\n",
      "                21 - $60,000-$74,999\n",
      "                22 - $75,000-89,999\n",
      "                23 - $90,000-$104,999\n",
      "                24 - $105,000 and over\n",
      "            vote - Expected vote\n",
      "                0 - Clinton\n",
      "                1 - Dole\n",
      "            The following 3 variables all take the values:\n",
      "                1 - Extremely liberal\n",
      "                2 - Liberal\n",
      "                3 - Slightly liberal\n",
      "                4 - Moderate\n",
      "                5 - Slightly conservative\n",
      "                6 - Conservative\n",
      "                7 - Extremely Conservative\n",
      "            selfLR - Respondent's self-reported political leanings from \"Left\"\n",
      "                to \"Right\".\n",
      "            ClinLR - Respondents impression of Bill Clinton's political\n",
      "                leanings from \"Left\" to \"Right\".\n",
      "            DoleLR  - Respondents impression of Bob Dole's political leanings\n",
      "                from \"Left\" to \"Right\".\n",
      "            logpopul - log(popul + .1)\n",
      "\n"
     ]
    }
   ],
   "source": [
    "# import statsmodels.api as sm\n",
    "print(sm.datasets.anes96.NOTE)\n",
    "# data = sm.datasets.anes96.load_pandas()\n",
    "# anes = data.data"
   ]
  },
  {
   "cell_type": "code",
   "execution_count": 127,
   "metadata": {},
   "outputs": [
    {
     "data": {
      "text/html": [
       "<div>\n",
       "<style scoped>\n",
       "    .dataframe tbody tr th:only-of-type {\n",
       "        vertical-align: middle;\n",
       "    }\n",
       "\n",
       "    .dataframe tbody tr th {\n",
       "        vertical-align: top;\n",
       "    }\n",
       "\n",
       "    .dataframe thead th {\n",
       "        text-align: right;\n",
       "    }\n",
       "</style>\n",
       "<table border=\"1\" class=\"dataframe\">\n",
       "  <thead>\n",
       "    <tr style=\"text-align: right;\">\n",
       "      <th></th>\n",
       "      <th>popul</th>\n",
       "      <th>TVnews</th>\n",
       "      <th>selfLR</th>\n",
       "      <th>ClinLR</th>\n",
       "      <th>DoleLR</th>\n",
       "      <th>PID</th>\n",
       "      <th>age</th>\n",
       "      <th>educ</th>\n",
       "      <th>income</th>\n",
       "      <th>vote</th>\n",
       "      <th>logpopul</th>\n",
       "    </tr>\n",
       "  </thead>\n",
       "  <tbody>\n",
       "    <tr>\n",
       "      <th>404</th>\n",
       "      <td>0.0</td>\n",
       "      <td>7.0</td>\n",
       "      <td>4.0</td>\n",
       "      <td>3.0</td>\n",
       "      <td>5.0</td>\n",
       "      <td>0.0</td>\n",
       "      <td>1.398560</td>\n",
       "      <td>3.0</td>\n",
       "      <td>16.0</td>\n",
       "      <td>0.0</td>\n",
       "      <td>-2.302585</td>\n",
       "    </tr>\n",
       "    <tr>\n",
       "      <th>553</th>\n",
       "      <td>35.0</td>\n",
       "      <td>0.0</td>\n",
       "      <td>3.0</td>\n",
       "      <td>4.0</td>\n",
       "      <td>6.0</td>\n",
       "      <td>1.0</td>\n",
       "      <td>-0.672788</td>\n",
       "      <td>7.0</td>\n",
       "      <td>19.0</td>\n",
       "      <td>0.0</td>\n",
       "      <td>3.558201</td>\n",
       "    </tr>\n",
       "    <tr>\n",
       "      <th>662</th>\n",
       "      <td>190.0</td>\n",
       "      <td>1.0</td>\n",
       "      <td>6.0</td>\n",
       "      <td>2.0</td>\n",
       "      <td>6.0</td>\n",
       "      <td>6.0</td>\n",
       "      <td>-0.733710</td>\n",
       "      <td>3.0</td>\n",
       "      <td>20.0</td>\n",
       "      <td>1.0</td>\n",
       "      <td>5.247550</td>\n",
       "    </tr>\n",
       "    <tr>\n",
       "      <th>787</th>\n",
       "      <td>0.0</td>\n",
       "      <td>1.0</td>\n",
       "      <td>6.0</td>\n",
       "      <td>2.0</td>\n",
       "      <td>5.0</td>\n",
       "      <td>6.0</td>\n",
       "      <td>-0.733710</td>\n",
       "      <td>7.0</td>\n",
       "      <td>22.0</td>\n",
       "      <td>1.0</td>\n",
       "      <td>-2.302585</td>\n",
       "    </tr>\n",
       "    <tr>\n",
       "      <th>224</th>\n",
       "      <td>170.0</td>\n",
       "      <td>2.0</td>\n",
       "      <td>4.0</td>\n",
       "      <td>4.0</td>\n",
       "      <td>4.0</td>\n",
       "      <td>0.0</td>\n",
       "      <td>0.362886</td>\n",
       "      <td>3.0</td>\n",
       "      <td>13.0</td>\n",
       "      <td>1.0</td>\n",
       "      <td>5.136386</td>\n",
       "    </tr>\n",
       "    <tr>\n",
       "      <th>363</th>\n",
       "      <td>640.0</td>\n",
       "      <td>5.0</td>\n",
       "      <td>4.0</td>\n",
       "      <td>4.0</td>\n",
       "      <td>6.0</td>\n",
       "      <td>0.0</td>\n",
       "      <td>-1.403852</td>\n",
       "      <td>6.0</td>\n",
       "      <td>16.0</td>\n",
       "      <td>0.0</td>\n",
       "      <td>6.461624</td>\n",
       "    </tr>\n",
       "    <tr>\n",
       "      <th>24</th>\n",
       "      <td>19.0</td>\n",
       "      <td>0.0</td>\n",
       "      <td>4.0</td>\n",
       "      <td>2.0</td>\n",
       "      <td>2.0</td>\n",
       "      <td>1.0</td>\n",
       "      <td>-0.124490</td>\n",
       "      <td>3.0</td>\n",
       "      <td>2.0</td>\n",
       "      <td>0.0</td>\n",
       "      <td>2.949688</td>\n",
       "    </tr>\n",
       "    <tr>\n",
       "      <th>149</th>\n",
       "      <td>5.0</td>\n",
       "      <td>7.0</td>\n",
       "      <td>4.0</td>\n",
       "      <td>4.0</td>\n",
       "      <td>7.0</td>\n",
       "      <td>0.0</td>\n",
       "      <td>1.398560</td>\n",
       "      <td>3.0</td>\n",
       "      <td>10.0</td>\n",
       "      <td>0.0</td>\n",
       "      <td>1.629241</td>\n",
       "    </tr>\n",
       "    <tr>\n",
       "      <th>674</th>\n",
       "      <td>110.0</td>\n",
       "      <td>6.0</td>\n",
       "      <td>6.0</td>\n",
       "      <td>2.0</td>\n",
       "      <td>6.0</td>\n",
       "      <td>6.0</td>\n",
       "      <td>-0.794632</td>\n",
       "      <td>7.0</td>\n",
       "      <td>21.0</td>\n",
       "      <td>1.0</td>\n",
       "      <td>4.701389</td>\n",
       "    </tr>\n",
       "    <tr>\n",
       "      <th>936</th>\n",
       "      <td>0.0</td>\n",
       "      <td>7.0</td>\n",
       "      <td>6.0</td>\n",
       "      <td>2.0</td>\n",
       "      <td>6.0</td>\n",
       "      <td>6.0</td>\n",
       "      <td>-0.368178</td>\n",
       "      <td>4.0</td>\n",
       "      <td>24.0</td>\n",
       "      <td>1.0</td>\n",
       "      <td>-2.302585</td>\n",
       "    </tr>\n",
       "  </tbody>\n",
       "</table>\n",
       "</div>"
      ],
      "text/plain": [
       "     popul  TVnews  selfLR  ClinLR  DoleLR  PID       age  educ  income  vote  \\\n",
       "404    0.0     7.0     4.0     3.0     5.0  0.0  1.398560   3.0    16.0   0.0   \n",
       "553   35.0     0.0     3.0     4.0     6.0  1.0 -0.672788   7.0    19.0   0.0   \n",
       "662  190.0     1.0     6.0     2.0     6.0  6.0 -0.733710   3.0    20.0   1.0   \n",
       "787    0.0     1.0     6.0     2.0     5.0  6.0 -0.733710   7.0    22.0   1.0   \n",
       "224  170.0     2.0     4.0     4.0     4.0  0.0  0.362886   3.0    13.0   1.0   \n",
       "363  640.0     5.0     4.0     4.0     6.0  0.0 -1.403852   6.0    16.0   0.0   \n",
       "24    19.0     0.0     4.0     2.0     2.0  1.0 -0.124490   3.0     2.0   0.0   \n",
       "149    5.0     7.0     4.0     4.0     7.0  0.0  1.398560   3.0    10.0   0.0   \n",
       "674  110.0     6.0     6.0     2.0     6.0  6.0 -0.794632   7.0    21.0   1.0   \n",
       "936    0.0     7.0     6.0     2.0     6.0  6.0 -0.368178   4.0    24.0   1.0   \n",
       "\n",
       "     logpopul  \n",
       "404 -2.302585  \n",
       "553  3.558201  \n",
       "662  5.247550  \n",
       "787 -2.302585  \n",
       "224  5.136386  \n",
       "363  6.461624  \n",
       "24   2.949688  \n",
       "149  1.629241  \n",
       "674  4.701389  \n",
       "936 -2.302585  "
      ]
     },
     "execution_count": 127,
     "metadata": {},
     "output_type": "execute_result"
    }
   ],
   "source": [
    "anes.sample(10)"
   ]
  },
  {
   "cell_type": "markdown",
   "metadata": {},
   "source": [
    "See a quick statistical summary of numeric columns with `describe()`."
   ]
  },
  {
   "cell_type": "code",
   "execution_count": 128,
   "metadata": {},
   "outputs": [
    {
     "data": {
      "text/html": [
       "<div>\n",
       "<style scoped>\n",
       "    .dataframe tbody tr th:only-of-type {\n",
       "        vertical-align: middle;\n",
       "    }\n",
       "\n",
       "    .dataframe tbody tr th {\n",
       "        vertical-align: top;\n",
       "    }\n",
       "\n",
       "    .dataframe thead th {\n",
       "        text-align: right;\n",
       "    }\n",
       "</style>\n",
       "<table border=\"1\" class=\"dataframe\">\n",
       "  <thead>\n",
       "    <tr style=\"text-align: right;\">\n",
       "      <th></th>\n",
       "      <th>popul</th>\n",
       "      <th>TVnews</th>\n",
       "      <th>selfLR</th>\n",
       "      <th>ClinLR</th>\n",
       "      <th>DoleLR</th>\n",
       "      <th>PID</th>\n",
       "      <th>age</th>\n",
       "      <th>educ</th>\n",
       "      <th>income</th>\n",
       "      <th>vote</th>\n",
       "      <th>logpopul</th>\n",
       "    </tr>\n",
       "  </thead>\n",
       "  <tbody>\n",
       "    <tr>\n",
       "      <th>count</th>\n",
       "      <td>944.000000</td>\n",
       "      <td>944.000000</td>\n",
       "      <td>944.000000</td>\n",
       "      <td>944.000000</td>\n",
       "      <td>944.000000</td>\n",
       "      <td>944.000000</td>\n",
       "      <td>9.440000e+02</td>\n",
       "      <td>944.000000</td>\n",
       "      <td>944.000000</td>\n",
       "      <td>944.000000</td>\n",
       "      <td>944.000000</td>\n",
       "    </tr>\n",
       "    <tr>\n",
       "      <th>mean</th>\n",
       "      <td>306.381356</td>\n",
       "      <td>3.727754</td>\n",
       "      <td>4.325212</td>\n",
       "      <td>2.939619</td>\n",
       "      <td>5.394068</td>\n",
       "      <td>2.842161</td>\n",
       "      <td>-1.300749e-16</td>\n",
       "      <td>4.565678</td>\n",
       "      <td>16.331568</td>\n",
       "      <td>0.416314</td>\n",
       "      <td>2.472307</td>\n",
       "    </tr>\n",
       "    <tr>\n",
       "      <th>std</th>\n",
       "      <td>1082.606745</td>\n",
       "      <td>2.677235</td>\n",
       "      <td>1.438436</td>\n",
       "      <td>1.383725</td>\n",
       "      <td>1.269349</td>\n",
       "      <td>2.273337</td>\n",
       "      <td>1.000530e+00</td>\n",
       "      <td>1.599287</td>\n",
       "      <td>5.974781</td>\n",
       "      <td>0.493208</td>\n",
       "      <td>3.187043</td>\n",
       "    </tr>\n",
       "    <tr>\n",
       "      <th>min</th>\n",
       "      <td>0.000000</td>\n",
       "      <td>0.000000</td>\n",
       "      <td>1.000000</td>\n",
       "      <td>1.000000</td>\n",
       "      <td>1.000000</td>\n",
       "      <td>0.000000</td>\n",
       "      <td>-1.708462e+00</td>\n",
       "      <td>1.000000</td>\n",
       "      <td>1.000000</td>\n",
       "      <td>0.000000</td>\n",
       "      <td>-2.302585</td>\n",
       "    </tr>\n",
       "    <tr>\n",
       "      <th>25%</th>\n",
       "      <td>1.000000</td>\n",
       "      <td>1.000000</td>\n",
       "      <td>3.000000</td>\n",
       "      <td>2.000000</td>\n",
       "      <td>5.000000</td>\n",
       "      <td>1.000000</td>\n",
       "      <td>-7.946321e-01</td>\n",
       "      <td>3.000000</td>\n",
       "      <td>14.000000</td>\n",
       "      <td>0.000000</td>\n",
       "      <td>0.095310</td>\n",
       "    </tr>\n",
       "    <tr>\n",
       "      <th>50%</th>\n",
       "      <td>22.000000</td>\n",
       "      <td>3.000000</td>\n",
       "      <td>4.000000</td>\n",
       "      <td>3.000000</td>\n",
       "      <td>6.000000</td>\n",
       "      <td>2.000000</td>\n",
       "      <td>-1.854120e-01</td>\n",
       "      <td>4.000000</td>\n",
       "      <td>17.000000</td>\n",
       "      <td>0.000000</td>\n",
       "      <td>3.095578</td>\n",
       "    </tr>\n",
       "    <tr>\n",
       "      <th>75%</th>\n",
       "      <td>110.000000</td>\n",
       "      <td>7.000000</td>\n",
       "      <td>6.000000</td>\n",
       "      <td>4.000000</td>\n",
       "      <td>6.000000</td>\n",
       "      <td>5.000000</td>\n",
       "      <td>6.674961e-01</td>\n",
       "      <td>6.000000</td>\n",
       "      <td>21.000000</td>\n",
       "      <td>1.000000</td>\n",
       "      <td>4.701389</td>\n",
       "    </tr>\n",
       "    <tr>\n",
       "      <th>max</th>\n",
       "      <td>7300.000000</td>\n",
       "      <td>7.000000</td>\n",
       "      <td>7.000000</td>\n",
       "      <td>7.000000</td>\n",
       "      <td>7.000000</td>\n",
       "      <td>6.000000</td>\n",
       "      <td>2.677922e+00</td>\n",
       "      <td>7.000000</td>\n",
       "      <td>24.000000</td>\n",
       "      <td>1.000000</td>\n",
       "      <td>8.895643</td>\n",
       "    </tr>\n",
       "  </tbody>\n",
       "</table>\n",
       "</div>"
      ],
      "text/plain": [
       "             popul      TVnews      selfLR      ClinLR      DoleLR  \\\n",
       "count   944.000000  944.000000  944.000000  944.000000  944.000000   \n",
       "mean    306.381356    3.727754    4.325212    2.939619    5.394068   \n",
       "std    1082.606745    2.677235    1.438436    1.383725    1.269349   \n",
       "min       0.000000    0.000000    1.000000    1.000000    1.000000   \n",
       "25%       1.000000    1.000000    3.000000    2.000000    5.000000   \n",
       "50%      22.000000    3.000000    4.000000    3.000000    6.000000   \n",
       "75%     110.000000    7.000000    6.000000    4.000000    6.000000   \n",
       "max    7300.000000    7.000000    7.000000    7.000000    7.000000   \n",
       "\n",
       "              PID           age        educ      income        vote  \\\n",
       "count  944.000000  9.440000e+02  944.000000  944.000000  944.000000   \n",
       "mean     2.842161 -1.300749e-16    4.565678   16.331568    0.416314   \n",
       "std      2.273337  1.000530e+00    1.599287    5.974781    0.493208   \n",
       "min      0.000000 -1.708462e+00    1.000000    1.000000    0.000000   \n",
       "25%      1.000000 -7.946321e-01    3.000000   14.000000    0.000000   \n",
       "50%      2.000000 -1.854120e-01    4.000000   17.000000    0.000000   \n",
       "75%      5.000000  6.674961e-01    6.000000   21.000000    1.000000   \n",
       "max      6.000000  2.677922e+00    7.000000   24.000000    1.000000   \n",
       "\n",
       "         logpopul  \n",
       "count  944.000000  \n",
       "mean     2.472307  \n",
       "std      3.187043  \n",
       "min     -2.302585  \n",
       "25%      0.095310  \n",
       "50%      3.095578  \n",
       "75%      4.701389  \n",
       "max      8.895643  "
      ]
     },
     "execution_count": 128,
     "metadata": {},
     "output_type": "execute_result"
    }
   ],
   "source": [
    "anes.describe()"
   ]
  },
  {
   "cell_type": "code",
   "execution_count": 129,
   "metadata": {},
   "outputs": [
    {
     "data": {
      "text/plain": [
       "306.3813559322034"
      ]
     },
     "execution_count": 129,
     "metadata": {},
     "output_type": "execute_result"
    }
   ],
   "source": [
    "# View the mean, standard deviation, median, min, max, and more...\n",
    "anes.loc[:,'popul'].mean()"
   ]
  },
  {
   "cell_type": "code",
   "execution_count": 130,
   "metadata": {},
   "outputs": [
    {
     "data": {
      "text/plain": [
       "1082.606745077667"
      ]
     },
     "execution_count": 130,
     "metadata": {},
     "output_type": "execute_result"
    }
   ],
   "source": [
    "anes.loc[:,'popul'].std()"
   ]
  },
  {
   "cell_type": "code",
   "execution_count": 131,
   "metadata": {},
   "outputs": [
    {
     "data": {
      "text/plain": [
       "popul     22.0\n",
       "TVnews     3.0\n",
       "dtype: float64"
      ]
     },
     "execution_count": 131,
     "metadata": {},
     "output_type": "execute_result"
    }
   ],
   "source": [
    "anes.loc[:, ['popul','TVnews']].median()"
   ]
  },
  {
   "cell_type": "code",
   "execution_count": 132,
   "metadata": {},
   "outputs": [
    {
     "data": {
      "text/plain": [
       "popul       0.000000\n",
       "TVnews      0.000000\n",
       "selfLR      1.000000\n",
       "ClinLR      1.000000\n",
       "DoleLR      1.000000\n",
       "PID         0.000000\n",
       "age        -1.708462\n",
       "educ        1.000000\n",
       "income      1.000000\n",
       "vote        0.000000\n",
       "logpopul   -2.302585\n",
       "dtype: float64"
      ]
     },
     "execution_count": 132,
     "metadata": {},
     "output_type": "execute_result"
    }
   ],
   "source": [
    "anes.min()"
   ]
  },
  {
   "cell_type": "markdown",
   "metadata": {},
   "source": [
    "### Correlation and Covariance\n",
    "Use the `cov()` function to retrieve the covariance or covariance matrix. Use the `corr()` function to return the correlation matrix."
   ]
  },
  {
   "cell_type": "code",
   "execution_count": 133,
   "metadata": {},
   "outputs": [
    {
     "data": {
      "text/plain": [
       "-102.49318798641191"
      ]
     },
     "execution_count": 133,
     "metadata": {},
     "output_type": "execute_result"
    }
   ],
   "source": [
    "anes['popul'].cov(anes['selfLR'])"
   ]
  },
  {
   "cell_type": "code",
   "execution_count": 134,
   "metadata": {},
   "outputs": [
    {
     "data": {
      "text/html": [
       "<div>\n",
       "<style scoped>\n",
       "    .dataframe tbody tr th:only-of-type {\n",
       "        vertical-align: middle;\n",
       "    }\n",
       "\n",
       "    .dataframe tbody tr th {\n",
       "        vertical-align: top;\n",
       "    }\n",
       "\n",
       "    .dataframe thead th {\n",
       "        text-align: right;\n",
       "    }\n",
       "</style>\n",
       "<table border=\"1\" class=\"dataframe\">\n",
       "  <thead>\n",
       "    <tr style=\"text-align: right;\">\n",
       "      <th></th>\n",
       "      <th>popul</th>\n",
       "      <th>TVnews</th>\n",
       "      <th>selfLR</th>\n",
       "      <th>ClinLR</th>\n",
       "      <th>DoleLR</th>\n",
       "      <th>PID</th>\n",
       "      <th>age</th>\n",
       "      <th>educ</th>\n",
       "      <th>income</th>\n",
       "      <th>vote</th>\n",
       "      <th>logpopul</th>\n",
       "    </tr>\n",
       "  </thead>\n",
       "  <tbody>\n",
       "    <tr>\n",
       "      <th>popul</th>\n",
       "      <td>1.172037e+06</td>\n",
       "      <td>59.292692</td>\n",
       "      <td>-102.493188</td>\n",
       "      <td>29.140761</td>\n",
       "      <td>35.232381</td>\n",
       "      <td>-220.493296</td>\n",
       "      <td>-47.356275</td>\n",
       "      <td>-6.699517</td>\n",
       "      <td>-116.488191</td>\n",
       "      <td>-39.013651</td>\n",
       "      <td>1603.573237</td>\n",
       "    </tr>\n",
       "    <tr>\n",
       "      <th>TVnews</th>\n",
       "      <td>5.929269e+01</td>\n",
       "      <td>7.167585</td>\n",
       "      <td>-0.041803</td>\n",
       "      <td>0.007934</td>\n",
       "      <td>-0.047428</td>\n",
       "      <td>-0.318732</td>\n",
       "      <td>1.094991</td>\n",
       "      <td>-0.248803</td>\n",
       "      <td>-1.000835</td>\n",
       "      <td>-0.019096</td>\n",
       "      <td>-0.013524</td>\n",
       "    </tr>\n",
       "    <tr>\n",
       "      <th>selfLR</th>\n",
       "      <td>-1.024932e+02</td>\n",
       "      <td>-0.041803</td>\n",
       "      <td>2.069099</td>\n",
       "      <td>-0.312262</td>\n",
       "      <td>-0.164347</td>\n",
       "      <td>2.022754</td>\n",
       "      <td>0.136229</td>\n",
       "      <td>-0.243545</td>\n",
       "      <td>0.295025</td>\n",
       "      <td>0.413777</td>\n",
       "      <td>-0.534240</td>\n",
       "    </tr>\n",
       "    <tr>\n",
       "      <th>ClinLR</th>\n",
       "      <td>2.914076e+01</td>\n",
       "      <td>0.007934</td>\n",
       "      <td>-0.312262</td>\n",
       "      <td>1.914696</td>\n",
       "      <td>-0.619871</td>\n",
       "      <td>-1.256624</td>\n",
       "      <td>-0.045063</td>\n",
       "      <td>-0.456794</td>\n",
       "      <td>-1.861188</td>\n",
       "      <td>-0.318420</td>\n",
       "      <td>0.491234</td>\n",
       "    </tr>\n",
       "    <tr>\n",
       "      <th>DoleLR</th>\n",
       "      <td>3.523238e+01</td>\n",
       "      <td>-0.047428</td>\n",
       "      <td>-0.164347</td>\n",
       "      <td>-0.619871</td>\n",
       "      <td>1.611248</td>\n",
       "      <td>0.138617</td>\n",
       "      <td>-0.034250</td>\n",
       "      <td>0.377060</td>\n",
       "      <td>1.091895</td>\n",
       "      <td>0.011804</td>\n",
       "      <td>0.184814</td>\n",
       "    </tr>\n",
       "    <tr>\n",
       "      <th>PID</th>\n",
       "      <td>-2.204933e+02</td>\n",
       "      <td>-0.318732</td>\n",
       "      <td>2.022754</td>\n",
       "      <td>-1.256624</td>\n",
       "      <td>0.138617</td>\n",
       "      <td>5.168061</td>\n",
       "      <td>0.018249</td>\n",
       "      <td>0.376761</td>\n",
       "      <td>2.838180</td>\n",
       "      <td>0.893988</td>\n",
       "      <td>-1.224058</td>\n",
       "    </tr>\n",
       "    <tr>\n",
       "      <th>age</th>\n",
       "      <td>-4.735627e+01</td>\n",
       "      <td>1.094991</td>\n",
       "      <td>0.136229</td>\n",
       "      <td>-0.045063</td>\n",
       "      <td>-0.034250</td>\n",
       "      <td>0.018249</td>\n",
       "      <td>1.001060</td>\n",
       "      <td>-0.254166</td>\n",
       "      <td>-0.469261</td>\n",
       "      <td>0.026483</td>\n",
       "      <td>-0.073819</td>\n",
       "    </tr>\n",
       "    <tr>\n",
       "      <th>educ</th>\n",
       "      <td>-6.699517e+00</td>\n",
       "      <td>-0.248803</td>\n",
       "      <td>-0.243545</td>\n",
       "      <td>-0.456794</td>\n",
       "      <td>0.377060</td>\n",
       "      <td>0.376761</td>\n",
       "      <td>-0.254166</td>\n",
       "      <td>2.557718</td>\n",
       "      <td>3.561975</td>\n",
       "      <td>0.067538</td>\n",
       "      <td>-0.079417</td>\n",
       "    </tr>\n",
       "    <tr>\n",
       "      <th>income</th>\n",
       "      <td>-1.164882e+02</td>\n",
       "      <td>-1.000835</td>\n",
       "      <td>0.295025</td>\n",
       "      <td>-1.861188</td>\n",
       "      <td>1.091895</td>\n",
       "      <td>2.838180</td>\n",
       "      <td>-0.469261</td>\n",
       "      <td>3.561975</td>\n",
       "      <td>35.698006</td>\n",
       "      <td>0.560651</td>\n",
       "      <td>-1.618909</td>\n",
       "    </tr>\n",
       "    <tr>\n",
       "      <th>vote</th>\n",
       "      <td>-3.901365e+01</td>\n",
       "      <td>-0.019096</td>\n",
       "      <td>0.413777</td>\n",
       "      <td>-0.318420</td>\n",
       "      <td>0.011804</td>\n",
       "      <td>0.893988</td>\n",
       "      <td>0.026483</td>\n",
       "      <td>0.067538</td>\n",
       "      <td>0.560651</td>\n",
       "      <td>0.243254</td>\n",
       "      <td>-0.270326</td>\n",
       "    </tr>\n",
       "    <tr>\n",
       "      <th>logpopul</th>\n",
       "      <td>1.603573e+03</td>\n",
       "      <td>-0.013524</td>\n",
       "      <td>-0.534240</td>\n",
       "      <td>0.491234</td>\n",
       "      <td>0.184814</td>\n",
       "      <td>-1.224058</td>\n",
       "      <td>-0.073819</td>\n",
       "      <td>-0.079417</td>\n",
       "      <td>-1.618909</td>\n",
       "      <td>-0.270326</td>\n",
       "      <td>10.157246</td>\n",
       "    </tr>\n",
       "  </tbody>\n",
       "</table>\n",
       "</div>"
      ],
      "text/plain": [
       "                 popul     TVnews      selfLR     ClinLR     DoleLR  \\\n",
       "popul     1.172037e+06  59.292692 -102.493188  29.140761  35.232381   \n",
       "TVnews    5.929269e+01   7.167585   -0.041803   0.007934  -0.047428   \n",
       "selfLR   -1.024932e+02  -0.041803    2.069099  -0.312262  -0.164347   \n",
       "ClinLR    2.914076e+01   0.007934   -0.312262   1.914696  -0.619871   \n",
       "DoleLR    3.523238e+01  -0.047428   -0.164347  -0.619871   1.611248   \n",
       "PID      -2.204933e+02  -0.318732    2.022754  -1.256624   0.138617   \n",
       "age      -4.735627e+01   1.094991    0.136229  -0.045063  -0.034250   \n",
       "educ     -6.699517e+00  -0.248803   -0.243545  -0.456794   0.377060   \n",
       "income   -1.164882e+02  -1.000835    0.295025  -1.861188   1.091895   \n",
       "vote     -3.901365e+01  -0.019096    0.413777  -0.318420   0.011804   \n",
       "logpopul  1.603573e+03  -0.013524   -0.534240   0.491234   0.184814   \n",
       "\n",
       "                 PID        age      educ      income       vote     logpopul  \n",
       "popul    -220.493296 -47.356275 -6.699517 -116.488191 -39.013651  1603.573237  \n",
       "TVnews     -0.318732   1.094991 -0.248803   -1.000835  -0.019096    -0.013524  \n",
       "selfLR      2.022754   0.136229 -0.243545    0.295025   0.413777    -0.534240  \n",
       "ClinLR     -1.256624  -0.045063 -0.456794   -1.861188  -0.318420     0.491234  \n",
       "DoleLR      0.138617  -0.034250  0.377060    1.091895   0.011804     0.184814  \n",
       "PID         5.168061   0.018249  0.376761    2.838180   0.893988    -1.224058  \n",
       "age         0.018249   1.001060 -0.254166   -0.469261   0.026483    -0.073819  \n",
       "educ        0.376761  -0.254166  2.557718    3.561975   0.067538    -0.079417  \n",
       "income      2.838180  -0.469261  3.561975   35.698006   0.560651    -1.618909  \n",
       "vote        0.893988   0.026483  0.067538    0.560651   0.243254    -0.270326  \n",
       "logpopul   -1.224058  -0.073819 -0.079417   -1.618909  -0.270326    10.157246  "
      ]
     },
     "execution_count": 134,
     "metadata": {},
     "output_type": "execute_result"
    }
   ],
   "source": [
    "anes.cov()"
   ]
  },
  {
   "cell_type": "code",
   "execution_count": 135,
   "metadata": {},
   "outputs": [
    {
     "data": {
      "text/html": [
       "<div>\n",
       "<style scoped>\n",
       "    .dataframe tbody tr th:only-of-type {\n",
       "        vertical-align: middle;\n",
       "    }\n",
       "\n",
       "    .dataframe tbody tr th {\n",
       "        vertical-align: top;\n",
       "    }\n",
       "\n",
       "    .dataframe thead th {\n",
       "        text-align: right;\n",
       "    }\n",
       "</style>\n",
       "<table border=\"1\" class=\"dataframe\">\n",
       "  <thead>\n",
       "    <tr style=\"text-align: right;\">\n",
       "      <th></th>\n",
       "      <th>popul</th>\n",
       "      <th>TVnews</th>\n",
       "      <th>selfLR</th>\n",
       "      <th>ClinLR</th>\n",
       "      <th>DoleLR</th>\n",
       "      <th>PID</th>\n",
       "      <th>age</th>\n",
       "      <th>educ</th>\n",
       "      <th>income</th>\n",
       "      <th>vote</th>\n",
       "      <th>logpopul</th>\n",
       "    </tr>\n",
       "  </thead>\n",
       "  <tbody>\n",
       "    <tr>\n",
       "      <th>popul</th>\n",
       "      <td>1.000000</td>\n",
       "      <td>0.020457</td>\n",
       "      <td>-0.065816</td>\n",
       "      <td>0.019453</td>\n",
       "      <td>0.025638</td>\n",
       "      <td>-0.089590</td>\n",
       "      <td>-0.043720</td>\n",
       "      <td>-0.003869</td>\n",
       "      <td>-0.018009</td>\n",
       "      <td>-0.073066</td>\n",
       "      <td>0.464761</td>\n",
       "    </tr>\n",
       "    <tr>\n",
       "      <th>TVnews</th>\n",
       "      <td>0.020457</td>\n",
       "      <td>1.000000</td>\n",
       "      <td>-0.010855</td>\n",
       "      <td>0.002142</td>\n",
       "      <td>-0.013956</td>\n",
       "      <td>-0.052369</td>\n",
       "      <td>0.408784</td>\n",
       "      <td>-0.058109</td>\n",
       "      <td>-0.062568</td>\n",
       "      <td>-0.014462</td>\n",
       "      <td>-0.001585</td>\n",
       "    </tr>\n",
       "    <tr>\n",
       "      <th>selfLR</th>\n",
       "      <td>-0.065816</td>\n",
       "      <td>-0.010855</td>\n",
       "      <td>1.000000</td>\n",
       "      <td>-0.156884</td>\n",
       "      <td>-0.090010</td>\n",
       "      <td>0.618570</td>\n",
       "      <td>0.094656</td>\n",
       "      <td>-0.105868</td>\n",
       "      <td>0.034328</td>\n",
       "      <td>0.583238</td>\n",
       "      <td>-0.116535</td>\n",
       "    </tr>\n",
       "    <tr>\n",
       "      <th>ClinLR</th>\n",
       "      <td>0.019453</td>\n",
       "      <td>0.002142</td>\n",
       "      <td>-0.156884</td>\n",
       "      <td>1.000000</td>\n",
       "      <td>-0.352915</td>\n",
       "      <td>-0.399477</td>\n",
       "      <td>-0.032549</td>\n",
       "      <td>-0.206416</td>\n",
       "      <td>-0.225122</td>\n",
       "      <td>-0.466574</td>\n",
       "      <td>0.111391</td>\n",
       "    </tr>\n",
       "    <tr>\n",
       "      <th>DoleLR</th>\n",
       "      <td>0.025638</td>\n",
       "      <td>-0.013956</td>\n",
       "      <td>-0.090010</td>\n",
       "      <td>-0.352915</td>\n",
       "      <td>1.000000</td>\n",
       "      <td>0.048037</td>\n",
       "      <td>-0.026968</td>\n",
       "      <td>0.185739</td>\n",
       "      <td>0.143972</td>\n",
       "      <td>0.018855</td>\n",
       "      <td>0.045684</td>\n",
       "    </tr>\n",
       "    <tr>\n",
       "      <th>PID</th>\n",
       "      <td>-0.089590</td>\n",
       "      <td>-0.052369</td>\n",
       "      <td>0.618570</td>\n",
       "      <td>-0.399477</td>\n",
       "      <td>0.048037</td>\n",
       "      <td>1.000000</td>\n",
       "      <td>0.008023</td>\n",
       "      <td>0.103628</td>\n",
       "      <td>0.208956</td>\n",
       "      <td>0.797329</td>\n",
       "      <td>-0.168947</td>\n",
       "    </tr>\n",
       "    <tr>\n",
       "      <th>age</th>\n",
       "      <td>-0.043720</td>\n",
       "      <td>0.408784</td>\n",
       "      <td>0.094656</td>\n",
       "      <td>-0.032549</td>\n",
       "      <td>-0.026968</td>\n",
       "      <td>0.008023</td>\n",
       "      <td>1.000000</td>\n",
       "      <td>-0.158841</td>\n",
       "      <td>-0.078499</td>\n",
       "      <td>0.053668</td>\n",
       "      <td>-0.023150</td>\n",
       "    </tr>\n",
       "    <tr>\n",
       "      <th>educ</th>\n",
       "      <td>-0.003869</td>\n",
       "      <td>-0.058109</td>\n",
       "      <td>-0.105868</td>\n",
       "      <td>-0.206416</td>\n",
       "      <td>0.185739</td>\n",
       "      <td>0.103628</td>\n",
       "      <td>-0.158841</td>\n",
       "      <td>1.000000</td>\n",
       "      <td>0.372771</td>\n",
       "      <td>0.085624</td>\n",
       "      <td>-0.015581</td>\n",
       "    </tr>\n",
       "    <tr>\n",
       "      <th>income</th>\n",
       "      <td>-0.018009</td>\n",
       "      <td>-0.062568</td>\n",
       "      <td>0.034328</td>\n",
       "      <td>-0.225122</td>\n",
       "      <td>0.143972</td>\n",
       "      <td>0.208956</td>\n",
       "      <td>-0.078499</td>\n",
       "      <td>0.372771</td>\n",
       "      <td>1.000000</td>\n",
       "      <td>0.190257</td>\n",
       "      <td>-0.085018</td>\n",
       "    </tr>\n",
       "    <tr>\n",
       "      <th>vote</th>\n",
       "      <td>-0.073066</td>\n",
       "      <td>-0.014462</td>\n",
       "      <td>0.583238</td>\n",
       "      <td>-0.466574</td>\n",
       "      <td>0.018855</td>\n",
       "      <td>0.797329</td>\n",
       "      <td>0.053668</td>\n",
       "      <td>0.085624</td>\n",
       "      <td>0.190257</td>\n",
       "      <td>1.000000</td>\n",
       "      <td>-0.171977</td>\n",
       "    </tr>\n",
       "    <tr>\n",
       "      <th>logpopul</th>\n",
       "      <td>0.464761</td>\n",
       "      <td>-0.001585</td>\n",
       "      <td>-0.116535</td>\n",
       "      <td>0.111391</td>\n",
       "      <td>0.045684</td>\n",
       "      <td>-0.168947</td>\n",
       "      <td>-0.023150</td>\n",
       "      <td>-0.015581</td>\n",
       "      <td>-0.085018</td>\n",
       "      <td>-0.171977</td>\n",
       "      <td>1.000000</td>\n",
       "    </tr>\n",
       "  </tbody>\n",
       "</table>\n",
       "</div>"
      ],
      "text/plain": [
       "             popul    TVnews    selfLR    ClinLR    DoleLR       PID  \\\n",
       "popul     1.000000  0.020457 -0.065816  0.019453  0.025638 -0.089590   \n",
       "TVnews    0.020457  1.000000 -0.010855  0.002142 -0.013956 -0.052369   \n",
       "selfLR   -0.065816 -0.010855  1.000000 -0.156884 -0.090010  0.618570   \n",
       "ClinLR    0.019453  0.002142 -0.156884  1.000000 -0.352915 -0.399477   \n",
       "DoleLR    0.025638 -0.013956 -0.090010 -0.352915  1.000000  0.048037   \n",
       "PID      -0.089590 -0.052369  0.618570 -0.399477  0.048037  1.000000   \n",
       "age      -0.043720  0.408784  0.094656 -0.032549 -0.026968  0.008023   \n",
       "educ     -0.003869 -0.058109 -0.105868 -0.206416  0.185739  0.103628   \n",
       "income   -0.018009 -0.062568  0.034328 -0.225122  0.143972  0.208956   \n",
       "vote     -0.073066 -0.014462  0.583238 -0.466574  0.018855  0.797329   \n",
       "logpopul  0.464761 -0.001585 -0.116535  0.111391  0.045684 -0.168947   \n",
       "\n",
       "               age      educ    income      vote  logpopul  \n",
       "popul    -0.043720 -0.003869 -0.018009 -0.073066  0.464761  \n",
       "TVnews    0.408784 -0.058109 -0.062568 -0.014462 -0.001585  \n",
       "selfLR    0.094656 -0.105868  0.034328  0.583238 -0.116535  \n",
       "ClinLR   -0.032549 -0.206416 -0.225122 -0.466574  0.111391  \n",
       "DoleLR   -0.026968  0.185739  0.143972  0.018855  0.045684  \n",
       "PID       0.008023  0.103628  0.208956  0.797329 -0.168947  \n",
       "age       1.000000 -0.158841 -0.078499  0.053668 -0.023150  \n",
       "educ     -0.158841  1.000000  0.372771  0.085624 -0.015581  \n",
       "income   -0.078499  0.372771  1.000000  0.190257 -0.085018  \n",
       "vote      0.053668  0.085624  0.190257  1.000000 -0.171977  \n",
       "logpopul -0.023150 -0.015581 -0.085018 -0.171977  1.000000  "
      ]
     },
     "execution_count": 135,
     "metadata": {},
     "output_type": "execute_result"
    }
   ],
   "source": [
    "anes.corr()"
   ]
  },
  {
   "cell_type": "markdown",
   "metadata": {},
   "source": [
    "The default method for `corr()` is Pearson correlation coefficient. Other available methods include Kendall Tau correlation coefficient (`kendall`) and Spearman rank correlation (`spearman`)."
   ]
  },
  {
   "cell_type": "markdown",
   "metadata": {},
   "source": [
    "### Missing data\n",
    "* `isnull()`: Generate a boolean mask indicating missing values\n",
    "* `notnull()`: Opposite of `isnull()`\n",
    "* `dropna()`: Return a filtered version of the data\n",
    "* `fillna()`: Return a copy of the data with missing values filled or imputed\n",
    "\n",
    "Example data from [pandas docs](https://pandas.pydata.org/pandas-docs/stable/user_guide/missing_data.html)."
   ]
  },
  {
   "cell_type": "code",
   "execution_count": 136,
   "metadata": {},
   "outputs": [],
   "source": [
    "tmp.loc['b', 'two'] = 123"
   ]
  },
  {
   "cell_type": "code",
   "execution_count": 137,
   "metadata": {},
   "outputs": [
    {
     "data": {
      "text/html": [
       "<div>\n",
       "<style scoped>\n",
       "    .dataframe tbody tr th:only-of-type {\n",
       "        vertical-align: middle;\n",
       "    }\n",
       "\n",
       "    .dataframe tbody tr th {\n",
       "        vertical-align: top;\n",
       "    }\n",
       "\n",
       "    .dataframe thead th {\n",
       "        text-align: right;\n",
       "    }\n",
       "</style>\n",
       "<table border=\"1\" class=\"dataframe\">\n",
       "  <thead>\n",
       "    <tr style=\"text-align: right;\">\n",
       "      <th></th>\n",
       "      <th>one</th>\n",
       "      <th>two</th>\n",
       "      <th>three</th>\n",
       "      <th>four</th>\n",
       "      <th>five</th>\n",
       "    </tr>\n",
       "  </thead>\n",
       "  <tbody>\n",
       "    <tr>\n",
       "      <th>a</th>\n",
       "      <td>0.387294</td>\n",
       "      <td>-0.381033</td>\n",
       "      <td>1.183318</td>\n",
       "      <td>bar</td>\n",
       "      <td>True</td>\n",
       "    </tr>\n",
       "    <tr>\n",
       "      <th>b</th>\n",
       "      <td>NaN</td>\n",
       "      <td>2.000000</td>\n",
       "      <td>3.000000</td>\n",
       "      <td>NaN</td>\n",
       "      <td>NaN</td>\n",
       "    </tr>\n",
       "    <tr>\n",
       "      <th>c</th>\n",
       "      <td>-0.972071</td>\n",
       "      <td>-0.480584</td>\n",
       "      <td>-0.937405</td>\n",
       "      <td>bar</td>\n",
       "      <td>False</td>\n",
       "    </tr>\n",
       "    <tr>\n",
       "      <th>d</th>\n",
       "      <td>NaN</td>\n",
       "      <td>NaN</td>\n",
       "      <td>NaN</td>\n",
       "      <td>NaN</td>\n",
       "      <td>NaN</td>\n",
       "    </tr>\n",
       "    <tr>\n",
       "      <th>e</th>\n",
       "      <td>-1.166793</td>\n",
       "      <td>-0.599566</td>\n",
       "      <td>0.677479</td>\n",
       "      <td>bar</td>\n",
       "      <td>False</td>\n",
       "    </tr>\n",
       "    <tr>\n",
       "      <th>f</th>\n",
       "      <td>1.278766</td>\n",
       "      <td>-0.194974</td>\n",
       "      <td>-1.015254</td>\n",
       "      <td>bar</td>\n",
       "      <td>True</td>\n",
       "    </tr>\n",
       "    <tr>\n",
       "      <th>g</th>\n",
       "      <td>NaN</td>\n",
       "      <td>NaN</td>\n",
       "      <td>NaN</td>\n",
       "      <td>NaN</td>\n",
       "      <td>NaN</td>\n",
       "    </tr>\n",
       "    <tr>\n",
       "      <th>h</th>\n",
       "      <td>-1.230681</td>\n",
       "      <td>-1.864915</td>\n",
       "      <td>-4.048592</td>\n",
       "      <td>bar</td>\n",
       "      <td>False</td>\n",
       "    </tr>\n",
       "  </tbody>\n",
       "</table>\n",
       "</div>"
      ],
      "text/plain": [
       "        one       two     three four   five\n",
       "a  0.387294 -0.381033  1.183318  bar   True\n",
       "b       NaN  2.000000  3.000000  NaN    NaN\n",
       "c -0.972071 -0.480584 -0.937405  bar  False\n",
       "d       NaN       NaN       NaN  NaN    NaN\n",
       "e -1.166793 -0.599566  0.677479  bar  False\n",
       "f  1.278766 -0.194974 -1.015254  bar   True\n",
       "g       NaN       NaN       NaN  NaN    NaN\n",
       "h -1.230681 -1.864915 -4.048592  bar  False"
      ]
     },
     "execution_count": 137,
     "metadata": {},
     "output_type": "execute_result"
    }
   ],
   "source": [
    "tmp = pd.DataFrame(np.random.randn(5, 3),\n",
    "                  index=[\"a\", \"c\", \"e\", \"f\", \"h\"],\n",
    "                  columns=[\"one\", \"two\", \"three\"])\n",
    "tmp[\"four\"] = \"bar\"\n",
    "tmp[\"five\"] = tmp[\"one\"] > 0\n",
    "\n",
    "tmp = tmp.reindex([\"a\", \"b\", \"c\", \"d\", \"e\", \"f\", \"g\", \"h\"])\n",
    "tmp.loc['b', 'two'] = 2\n",
    "tmp.loc['b', 'three'] = 3\n",
    "\n",
    "tmp"
   ]
  },
  {
   "cell_type": "markdown",
   "metadata": {},
   "source": [
    "See sum of missing values per column."
   ]
  },
  {
   "cell_type": "code",
   "execution_count": 138,
   "metadata": {},
   "outputs": [
    {
     "data": {
      "text/plain": [
       "one      3\n",
       "two      2\n",
       "three    2\n",
       "four     3\n",
       "five     3\n",
       "dtype: int64"
      ]
     },
     "execution_count": 138,
     "metadata": {},
     "output_type": "execute_result"
    }
   ],
   "source": [
    "tmp.isnull().sum(axis=0)"
   ]
  },
  {
   "cell_type": "markdown",
   "metadata": {},
   "source": [
    "Return rows with a missing value in the `one` column."
   ]
  },
  {
   "cell_type": "code",
   "execution_count": 139,
   "metadata": {},
   "outputs": [
    {
     "data": {
      "text/html": [
       "<div>\n",
       "<style scoped>\n",
       "    .dataframe tbody tr th:only-of-type {\n",
       "        vertical-align: middle;\n",
       "    }\n",
       "\n",
       "    .dataframe tbody tr th {\n",
       "        vertical-align: top;\n",
       "    }\n",
       "\n",
       "    .dataframe thead th {\n",
       "        text-align: right;\n",
       "    }\n",
       "</style>\n",
       "<table border=\"1\" class=\"dataframe\">\n",
       "  <thead>\n",
       "    <tr style=\"text-align: right;\">\n",
       "      <th></th>\n",
       "      <th>one</th>\n",
       "      <th>two</th>\n",
       "      <th>three</th>\n",
       "      <th>four</th>\n",
       "      <th>five</th>\n",
       "    </tr>\n",
       "  </thead>\n",
       "  <tbody>\n",
       "    <tr>\n",
       "      <th>b</th>\n",
       "      <td>NaN</td>\n",
       "      <td>2.0</td>\n",
       "      <td>3.0</td>\n",
       "      <td>NaN</td>\n",
       "      <td>NaN</td>\n",
       "    </tr>\n",
       "    <tr>\n",
       "      <th>d</th>\n",
       "      <td>NaN</td>\n",
       "      <td>NaN</td>\n",
       "      <td>NaN</td>\n",
       "      <td>NaN</td>\n",
       "      <td>NaN</td>\n",
       "    </tr>\n",
       "    <tr>\n",
       "      <th>g</th>\n",
       "      <td>NaN</td>\n",
       "      <td>NaN</td>\n",
       "      <td>NaN</td>\n",
       "      <td>NaN</td>\n",
       "      <td>NaN</td>\n",
       "    </tr>\n",
       "  </tbody>\n",
       "</table>\n",
       "</div>"
      ],
      "text/plain": [
       "   one  two  three four five\n",
       "b  NaN  2.0    3.0  NaN  NaN\n",
       "d  NaN  NaN    NaN  NaN  NaN\n",
       "g  NaN  NaN    NaN  NaN  NaN"
      ]
     },
     "execution_count": 139,
     "metadata": {},
     "output_type": "execute_result"
    }
   ],
   "source": [
    "tmp[tmp['one'].isnull()]"
   ]
  },
  {
   "cell_type": "markdown",
   "metadata": {},
   "source": [
    "Show all rows with `any` missing values."
   ]
  },
  {
   "cell_type": "code",
   "execution_count": 140,
   "metadata": {},
   "outputs": [
    {
     "data": {
      "text/html": [
       "<div>\n",
       "<style scoped>\n",
       "    .dataframe tbody tr th:only-of-type {\n",
       "        vertical-align: middle;\n",
       "    }\n",
       "\n",
       "    .dataframe tbody tr th {\n",
       "        vertical-align: top;\n",
       "    }\n",
       "\n",
       "    .dataframe thead th {\n",
       "        text-align: right;\n",
       "    }\n",
       "</style>\n",
       "<table border=\"1\" class=\"dataframe\">\n",
       "  <thead>\n",
       "    <tr style=\"text-align: right;\">\n",
       "      <th></th>\n",
       "      <th>one</th>\n",
       "      <th>two</th>\n",
       "      <th>three</th>\n",
       "      <th>four</th>\n",
       "      <th>five</th>\n",
       "    </tr>\n",
       "  </thead>\n",
       "  <tbody>\n",
       "    <tr>\n",
       "      <th>b</th>\n",
       "      <td>NaN</td>\n",
       "      <td>2.0</td>\n",
       "      <td>3.0</td>\n",
       "      <td>NaN</td>\n",
       "      <td>NaN</td>\n",
       "    </tr>\n",
       "    <tr>\n",
       "      <th>d</th>\n",
       "      <td>NaN</td>\n",
       "      <td>NaN</td>\n",
       "      <td>NaN</td>\n",
       "      <td>NaN</td>\n",
       "      <td>NaN</td>\n",
       "    </tr>\n",
       "    <tr>\n",
       "      <th>g</th>\n",
       "      <td>NaN</td>\n",
       "      <td>NaN</td>\n",
       "      <td>NaN</td>\n",
       "      <td>NaN</td>\n",
       "      <td>NaN</td>\n",
       "    </tr>\n",
       "  </tbody>\n",
       "</table>\n",
       "</div>"
      ],
      "text/plain": [
       "   one  two  three four five\n",
       "b  NaN  2.0    3.0  NaN  NaN\n",
       "d  NaN  NaN    NaN  NaN  NaN\n",
       "g  NaN  NaN    NaN  NaN  NaN"
      ]
     },
     "execution_count": 140,
     "metadata": {},
     "output_type": "execute_result"
    }
   ],
   "source": [
    "# Show all rows with `any` missing values.\n",
    "tmp[tmp.isnull().any(axis=1)]"
   ]
  },
  {
   "cell_type": "markdown",
   "metadata": {},
   "source": [
    "Drop rows with at least one missing values."
   ]
  },
  {
   "cell_type": "code",
   "execution_count": 141,
   "metadata": {},
   "outputs": [
    {
     "data": {
      "text/html": [
       "<div>\n",
       "<style scoped>\n",
       "    .dataframe tbody tr th:only-of-type {\n",
       "        vertical-align: middle;\n",
       "    }\n",
       "\n",
       "    .dataframe tbody tr th {\n",
       "        vertical-align: top;\n",
       "    }\n",
       "\n",
       "    .dataframe thead th {\n",
       "        text-align: right;\n",
       "    }\n",
       "</style>\n",
       "<table border=\"1\" class=\"dataframe\">\n",
       "  <thead>\n",
       "    <tr style=\"text-align: right;\">\n",
       "      <th></th>\n",
       "      <th>one</th>\n",
       "      <th>two</th>\n",
       "      <th>three</th>\n",
       "      <th>four</th>\n",
       "      <th>five</th>\n",
       "    </tr>\n",
       "  </thead>\n",
       "  <tbody>\n",
       "    <tr>\n",
       "      <th>a</th>\n",
       "      <td>0.387294</td>\n",
       "      <td>-0.381033</td>\n",
       "      <td>1.183318</td>\n",
       "      <td>bar</td>\n",
       "      <td>True</td>\n",
       "    </tr>\n",
       "    <tr>\n",
       "      <th>c</th>\n",
       "      <td>-0.972071</td>\n",
       "      <td>-0.480584</td>\n",
       "      <td>-0.937405</td>\n",
       "      <td>bar</td>\n",
       "      <td>False</td>\n",
       "    </tr>\n",
       "    <tr>\n",
       "      <th>e</th>\n",
       "      <td>-1.166793</td>\n",
       "      <td>-0.599566</td>\n",
       "      <td>0.677479</td>\n",
       "      <td>bar</td>\n",
       "      <td>False</td>\n",
       "    </tr>\n",
       "    <tr>\n",
       "      <th>f</th>\n",
       "      <td>1.278766</td>\n",
       "      <td>-0.194974</td>\n",
       "      <td>-1.015254</td>\n",
       "      <td>bar</td>\n",
       "      <td>True</td>\n",
       "    </tr>\n",
       "    <tr>\n",
       "      <th>h</th>\n",
       "      <td>-1.230681</td>\n",
       "      <td>-1.864915</td>\n",
       "      <td>-4.048592</td>\n",
       "      <td>bar</td>\n",
       "      <td>False</td>\n",
       "    </tr>\n",
       "  </tbody>\n",
       "</table>\n",
       "</div>"
      ],
      "text/plain": [
       "        one       two     three four   five\n",
       "a  0.387294 -0.381033  1.183318  bar   True\n",
       "c -0.972071 -0.480584 -0.937405  bar  False\n",
       "e -1.166793 -0.599566  0.677479  bar  False\n",
       "f  1.278766 -0.194974 -1.015254  bar   True\n",
       "h -1.230681 -1.864915 -4.048592  bar  False"
      ]
     },
     "execution_count": 141,
     "metadata": {},
     "output_type": "execute_result"
    }
   ],
   "source": [
    "tmp.dropna()"
   ]
  },
  {
   "cell_type": "markdown",
   "metadata": {},
   "source": [
    "Fill missing values with 0."
   ]
  },
  {
   "cell_type": "code",
   "execution_count": 142,
   "metadata": {},
   "outputs": [
    {
     "data": {
      "text/html": [
       "<div>\n",
       "<style scoped>\n",
       "    .dataframe tbody tr th:only-of-type {\n",
       "        vertical-align: middle;\n",
       "    }\n",
       "\n",
       "    .dataframe tbody tr th {\n",
       "        vertical-align: top;\n",
       "    }\n",
       "\n",
       "    .dataframe thead th {\n",
       "        text-align: right;\n",
       "    }\n",
       "</style>\n",
       "<table border=\"1\" class=\"dataframe\">\n",
       "  <thead>\n",
       "    <tr style=\"text-align: right;\">\n",
       "      <th></th>\n",
       "      <th>one</th>\n",
       "      <th>two</th>\n",
       "      <th>three</th>\n",
       "      <th>four</th>\n",
       "      <th>five</th>\n",
       "    </tr>\n",
       "  </thead>\n",
       "  <tbody>\n",
       "    <tr>\n",
       "      <th>a</th>\n",
       "      <td>0.387294</td>\n",
       "      <td>-0.381033</td>\n",
       "      <td>1.183318</td>\n",
       "      <td>bar</td>\n",
       "      <td>True</td>\n",
       "    </tr>\n",
       "    <tr>\n",
       "      <th>b</th>\n",
       "      <td>0.000000</td>\n",
       "      <td>2.000000</td>\n",
       "      <td>3.000000</td>\n",
       "      <td>0</td>\n",
       "      <td>0</td>\n",
       "    </tr>\n",
       "    <tr>\n",
       "      <th>c</th>\n",
       "      <td>-0.972071</td>\n",
       "      <td>-0.480584</td>\n",
       "      <td>-0.937405</td>\n",
       "      <td>bar</td>\n",
       "      <td>False</td>\n",
       "    </tr>\n",
       "    <tr>\n",
       "      <th>d</th>\n",
       "      <td>0.000000</td>\n",
       "      <td>0.000000</td>\n",
       "      <td>0.000000</td>\n",
       "      <td>0</td>\n",
       "      <td>0</td>\n",
       "    </tr>\n",
       "    <tr>\n",
       "      <th>e</th>\n",
       "      <td>-1.166793</td>\n",
       "      <td>-0.599566</td>\n",
       "      <td>0.677479</td>\n",
       "      <td>bar</td>\n",
       "      <td>False</td>\n",
       "    </tr>\n",
       "    <tr>\n",
       "      <th>f</th>\n",
       "      <td>1.278766</td>\n",
       "      <td>-0.194974</td>\n",
       "      <td>-1.015254</td>\n",
       "      <td>bar</td>\n",
       "      <td>True</td>\n",
       "    </tr>\n",
       "    <tr>\n",
       "      <th>g</th>\n",
       "      <td>0.000000</td>\n",
       "      <td>0.000000</td>\n",
       "      <td>0.000000</td>\n",
       "      <td>0</td>\n",
       "      <td>0</td>\n",
       "    </tr>\n",
       "    <tr>\n",
       "      <th>h</th>\n",
       "      <td>-1.230681</td>\n",
       "      <td>-1.864915</td>\n",
       "      <td>-4.048592</td>\n",
       "      <td>bar</td>\n",
       "      <td>False</td>\n",
       "    </tr>\n",
       "  </tbody>\n",
       "</table>\n",
       "</div>"
      ],
      "text/plain": [
       "        one       two     three four   five\n",
       "a  0.387294 -0.381033  1.183318  bar   True\n",
       "b  0.000000  2.000000  3.000000    0      0\n",
       "c -0.972071 -0.480584 -0.937405  bar  False\n",
       "d  0.000000  0.000000  0.000000    0      0\n",
       "e -1.166793 -0.599566  0.677479  bar  False\n",
       "f  1.278766 -0.194974 -1.015254  bar   True\n",
       "g  0.000000  0.000000  0.000000    0      0\n",
       "h -1.230681 -1.864915 -4.048592  bar  False"
      ]
     },
     "execution_count": 142,
     "metadata": {},
     "output_type": "execute_result"
    }
   ],
   "source": [
    "tmp.fillna(0)"
   ]
  },
  {
   "cell_type": "markdown",
   "metadata": {},
   "source": [
    "Fill missing values with the value in the previous row."
   ]
  },
  {
   "cell_type": "code",
   "execution_count": 143,
   "metadata": {},
   "outputs": [
    {
     "data": {
      "text/html": [
       "<div>\n",
       "<style scoped>\n",
       "    .dataframe tbody tr th:only-of-type {\n",
       "        vertical-align: middle;\n",
       "    }\n",
       "\n",
       "    .dataframe tbody tr th {\n",
       "        vertical-align: top;\n",
       "    }\n",
       "\n",
       "    .dataframe thead th {\n",
       "        text-align: right;\n",
       "    }\n",
       "</style>\n",
       "<table border=\"1\" class=\"dataframe\">\n",
       "  <thead>\n",
       "    <tr style=\"text-align: right;\">\n",
       "      <th></th>\n",
       "      <th>one</th>\n",
       "      <th>two</th>\n",
       "      <th>three</th>\n",
       "      <th>four</th>\n",
       "      <th>five</th>\n",
       "    </tr>\n",
       "  </thead>\n",
       "  <tbody>\n",
       "    <tr>\n",
       "      <th>a</th>\n",
       "      <td>0.387294</td>\n",
       "      <td>-0.381033</td>\n",
       "      <td>1.183318</td>\n",
       "      <td>bar</td>\n",
       "      <td>True</td>\n",
       "    </tr>\n",
       "    <tr>\n",
       "      <th>b</th>\n",
       "      <td>0.387294</td>\n",
       "      <td>2.000000</td>\n",
       "      <td>3.000000</td>\n",
       "      <td>bar</td>\n",
       "      <td>True</td>\n",
       "    </tr>\n",
       "    <tr>\n",
       "      <th>c</th>\n",
       "      <td>-0.972071</td>\n",
       "      <td>-0.480584</td>\n",
       "      <td>-0.937405</td>\n",
       "      <td>bar</td>\n",
       "      <td>False</td>\n",
       "    </tr>\n",
       "    <tr>\n",
       "      <th>d</th>\n",
       "      <td>-0.972071</td>\n",
       "      <td>-0.480584</td>\n",
       "      <td>-0.937405</td>\n",
       "      <td>bar</td>\n",
       "      <td>False</td>\n",
       "    </tr>\n",
       "    <tr>\n",
       "      <th>e</th>\n",
       "      <td>-1.166793</td>\n",
       "      <td>-0.599566</td>\n",
       "      <td>0.677479</td>\n",
       "      <td>bar</td>\n",
       "      <td>False</td>\n",
       "    </tr>\n",
       "    <tr>\n",
       "      <th>f</th>\n",
       "      <td>1.278766</td>\n",
       "      <td>-0.194974</td>\n",
       "      <td>-1.015254</td>\n",
       "      <td>bar</td>\n",
       "      <td>True</td>\n",
       "    </tr>\n",
       "    <tr>\n",
       "      <th>g</th>\n",
       "      <td>1.278766</td>\n",
       "      <td>-0.194974</td>\n",
       "      <td>-1.015254</td>\n",
       "      <td>bar</td>\n",
       "      <td>True</td>\n",
       "    </tr>\n",
       "    <tr>\n",
       "      <th>h</th>\n",
       "      <td>-1.230681</td>\n",
       "      <td>-1.864915</td>\n",
       "      <td>-4.048592</td>\n",
       "      <td>bar</td>\n",
       "      <td>False</td>\n",
       "    </tr>\n",
       "  </tbody>\n",
       "</table>\n",
       "</div>"
      ],
      "text/plain": [
       "        one       two     three four   five\n",
       "a  0.387294 -0.381033  1.183318  bar   True\n",
       "b  0.387294  2.000000  3.000000  bar   True\n",
       "c -0.972071 -0.480584 -0.937405  bar  False\n",
       "d -0.972071 -0.480584 -0.937405  bar  False\n",
       "e -1.166793 -0.599566  0.677479  bar  False\n",
       "f  1.278766 -0.194974 -1.015254  bar   True\n",
       "g  1.278766 -0.194974 -1.015254  bar   True\n",
       "h -1.230681 -1.864915 -4.048592  bar  False"
      ]
     },
     "execution_count": 143,
     "metadata": {},
     "output_type": "execute_result"
    }
   ],
   "source": [
    "tmp.fillna(method='ffill')"
   ]
  },
  {
   "cell_type": "markdown",
   "metadata": {},
   "source": [
    "Fill missing values with the median value."
   ]
  },
  {
   "cell_type": "code",
   "execution_count": 144,
   "metadata": {},
   "outputs": [
    {
     "data": {
      "text/html": [
       "<div>\n",
       "<style scoped>\n",
       "    .dataframe tbody tr th:only-of-type {\n",
       "        vertical-align: middle;\n",
       "    }\n",
       "\n",
       "    .dataframe tbody tr th {\n",
       "        vertical-align: top;\n",
       "    }\n",
       "\n",
       "    .dataframe thead th {\n",
       "        text-align: right;\n",
       "    }\n",
       "</style>\n",
       "<table border=\"1\" class=\"dataframe\">\n",
       "  <thead>\n",
       "    <tr style=\"text-align: right;\">\n",
       "      <th></th>\n",
       "      <th>one</th>\n",
       "      <th>two</th>\n",
       "      <th>three</th>\n",
       "      <th>four</th>\n",
       "      <th>five</th>\n",
       "    </tr>\n",
       "  </thead>\n",
       "  <tbody>\n",
       "    <tr>\n",
       "      <th>a</th>\n",
       "      <td>0.387294</td>\n",
       "      <td>-0.381033</td>\n",
       "      <td>1.183318</td>\n",
       "      <td>bar</td>\n",
       "      <td>True</td>\n",
       "    </tr>\n",
       "    <tr>\n",
       "      <th>b</th>\n",
       "      <td>-0.972071</td>\n",
       "      <td>2.000000</td>\n",
       "      <td>3.000000</td>\n",
       "      <td>NaN</td>\n",
       "      <td>0</td>\n",
       "    </tr>\n",
       "    <tr>\n",
       "      <th>c</th>\n",
       "      <td>-0.972071</td>\n",
       "      <td>-0.480584</td>\n",
       "      <td>-0.937405</td>\n",
       "      <td>bar</td>\n",
       "      <td>False</td>\n",
       "    </tr>\n",
       "    <tr>\n",
       "      <th>d</th>\n",
       "      <td>-0.972071</td>\n",
       "      <td>-0.430809</td>\n",
       "      <td>-0.129963</td>\n",
       "      <td>NaN</td>\n",
       "      <td>0</td>\n",
       "    </tr>\n",
       "    <tr>\n",
       "      <th>e</th>\n",
       "      <td>-1.166793</td>\n",
       "      <td>-0.599566</td>\n",
       "      <td>0.677479</td>\n",
       "      <td>bar</td>\n",
       "      <td>False</td>\n",
       "    </tr>\n",
       "    <tr>\n",
       "      <th>f</th>\n",
       "      <td>1.278766</td>\n",
       "      <td>-0.194974</td>\n",
       "      <td>-1.015254</td>\n",
       "      <td>bar</td>\n",
       "      <td>True</td>\n",
       "    </tr>\n",
       "    <tr>\n",
       "      <th>g</th>\n",
       "      <td>-0.972071</td>\n",
       "      <td>-0.430809</td>\n",
       "      <td>-0.129963</td>\n",
       "      <td>NaN</td>\n",
       "      <td>0</td>\n",
       "    </tr>\n",
       "    <tr>\n",
       "      <th>h</th>\n",
       "      <td>-1.230681</td>\n",
       "      <td>-1.864915</td>\n",
       "      <td>-4.048592</td>\n",
       "      <td>bar</td>\n",
       "      <td>False</td>\n",
       "    </tr>\n",
       "  </tbody>\n",
       "</table>\n",
       "</div>"
      ],
      "text/plain": [
       "        one       two     three four   five\n",
       "a  0.387294 -0.381033  1.183318  bar   True\n",
       "b -0.972071  2.000000  3.000000  NaN      0\n",
       "c -0.972071 -0.480584 -0.937405  bar  False\n",
       "d -0.972071 -0.430809 -0.129963  NaN      0\n",
       "e -1.166793 -0.599566  0.677479  bar  False\n",
       "f  1.278766 -0.194974 -1.015254  bar   True\n",
       "g -0.972071 -0.430809 -0.129963  NaN      0\n",
       "h -1.230681 -1.864915 -4.048592  bar  False"
      ]
     },
     "execution_count": 144,
     "metadata": {},
     "output_type": "execute_result"
    }
   ],
   "source": [
    "tmp.fillna(tmp.median())"
   ]
  },
  {
   "cell_type": "markdown",
   "metadata": {},
   "source": [
    "Fill missing values with one of the provided methods with `interpolate()`. "
   ]
  },
  {
   "cell_type": "code",
   "execution_count": 145,
   "metadata": {},
   "outputs": [
    {
     "data": {
      "text/html": [
       "<div>\n",
       "<style scoped>\n",
       "    .dataframe tbody tr th:only-of-type {\n",
       "        vertical-align: middle;\n",
       "    }\n",
       "\n",
       "    .dataframe tbody tr th {\n",
       "        vertical-align: top;\n",
       "    }\n",
       "\n",
       "    .dataframe thead th {\n",
       "        text-align: right;\n",
       "    }\n",
       "</style>\n",
       "<table border=\"1\" class=\"dataframe\">\n",
       "  <thead>\n",
       "    <tr style=\"text-align: right;\">\n",
       "      <th></th>\n",
       "      <th>one</th>\n",
       "      <th>two</th>\n",
       "      <th>three</th>\n",
       "      <th>four</th>\n",
       "      <th>five</th>\n",
       "    </tr>\n",
       "  </thead>\n",
       "  <tbody>\n",
       "    <tr>\n",
       "      <th>a</th>\n",
       "      <td>0.387294</td>\n",
       "      <td>-0.381033</td>\n",
       "      <td>1.183318</td>\n",
       "      <td>bar</td>\n",
       "      <td>True</td>\n",
       "    </tr>\n",
       "    <tr>\n",
       "      <th>b</th>\n",
       "      <td>-0.292389</td>\n",
       "      <td>2.000000</td>\n",
       "      <td>3.000000</td>\n",
       "      <td>NaN</td>\n",
       "      <td>NaN</td>\n",
       "    </tr>\n",
       "    <tr>\n",
       "      <th>c</th>\n",
       "      <td>-0.972071</td>\n",
       "      <td>-0.480584</td>\n",
       "      <td>-0.937405</td>\n",
       "      <td>bar</td>\n",
       "      <td>False</td>\n",
       "    </tr>\n",
       "    <tr>\n",
       "      <th>d</th>\n",
       "      <td>-1.069432</td>\n",
       "      <td>-0.540075</td>\n",
       "      <td>-0.129963</td>\n",
       "      <td>NaN</td>\n",
       "      <td>NaN</td>\n",
       "    </tr>\n",
       "    <tr>\n",
       "      <th>e</th>\n",
       "      <td>-1.166793</td>\n",
       "      <td>-0.599566</td>\n",
       "      <td>0.677479</td>\n",
       "      <td>bar</td>\n",
       "      <td>False</td>\n",
       "    </tr>\n",
       "    <tr>\n",
       "      <th>f</th>\n",
       "      <td>1.278766</td>\n",
       "      <td>-0.194974</td>\n",
       "      <td>-1.015254</td>\n",
       "      <td>bar</td>\n",
       "      <td>True</td>\n",
       "    </tr>\n",
       "    <tr>\n",
       "      <th>g</th>\n",
       "      <td>0.024042</td>\n",
       "      <td>-1.029944</td>\n",
       "      <td>-2.531923</td>\n",
       "      <td>NaN</td>\n",
       "      <td>NaN</td>\n",
       "    </tr>\n",
       "    <tr>\n",
       "      <th>h</th>\n",
       "      <td>-1.230681</td>\n",
       "      <td>-1.864915</td>\n",
       "      <td>-4.048592</td>\n",
       "      <td>bar</td>\n",
       "      <td>False</td>\n",
       "    </tr>\n",
       "  </tbody>\n",
       "</table>\n",
       "</div>"
      ],
      "text/plain": [
       "        one       two     three four   five\n",
       "a  0.387294 -0.381033  1.183318  bar   True\n",
       "b -0.292389  2.000000  3.000000  NaN    NaN\n",
       "c -0.972071 -0.480584 -0.937405  bar  False\n",
       "d -1.069432 -0.540075 -0.129963  NaN    NaN\n",
       "e -1.166793 -0.599566  0.677479  bar  False\n",
       "f  1.278766 -0.194974 -1.015254  bar   True\n",
       "g  0.024042 -1.029944 -2.531923  NaN    NaN\n",
       "h -1.230681 -1.864915 -4.048592  bar  False"
      ]
     },
     "execution_count": 145,
     "metadata": {},
     "output_type": "execute_result"
    }
   ],
   "source": [
    "tmp.interpolate(method='linear')"
   ]
  },
  {
   "cell_type": "markdown",
   "metadata": {},
   "source": [
    "## Tidy Data - a standard way to organize data values within a dataset\n",
    "Referernce: Hadley Wickham. \"Tidy data\". *The Journal of Statistical Software*, vol. 59, 2014 (https://vita.had.co.nz/papers/tidy-data.html)\n",
    "\n",
    "Tidy data takes the following forms:\n",
    "* Each variable forms a column.\n",
    "* Each observation forms a row.\n",
    "* Each type of observational unit forms a table.\n",
    "\n",
    "Messy data is any other arrangement of the data.\n",
    "\n",
    "Tidy data allows the analyst and computer to extract needed variables by providing a standard way of structuring a dataset. It is particularly useful for vectorized programming.\n",
    "\n",
    "<img src='../../../Images/tidy.png' style='width: 400px;' align='left'/>"
   ]
  },
  {
   "cell_type": "code",
   "execution_count": 146,
   "metadata": {},
   "outputs": [
    {
     "data": {
      "text/html": [
       "<div>\n",
       "<style scoped>\n",
       "    .dataframe tbody tr th:only-of-type {\n",
       "        vertical-align: middle;\n",
       "    }\n",
       "\n",
       "    .dataframe tbody tr th {\n",
       "        vertical-align: top;\n",
       "    }\n",
       "\n",
       "    .dataframe thead th {\n",
       "        text-align: right;\n",
       "    }\n",
       "</style>\n",
       "<table border=\"1\" class=\"dataframe\">\n",
       "  <thead>\n",
       "    <tr style=\"text-align: right;\">\n",
       "      <th></th>\n",
       "      <th>Province/State</th>\n",
       "      <th>Country/Region</th>\n",
       "      <th>Lat</th>\n",
       "      <th>Long</th>\n",
       "      <th>1/22/20</th>\n",
       "      <th>1/23/20</th>\n",
       "      <th>1/24/20</th>\n",
       "      <th>1/25/20</th>\n",
       "      <th>1/26/20</th>\n",
       "      <th>1/27/20</th>\n",
       "      <th>...</th>\n",
       "      <th>8/22/20</th>\n",
       "      <th>8/23/20</th>\n",
       "      <th>8/24/20</th>\n",
       "      <th>8/25/20</th>\n",
       "      <th>8/26/20</th>\n",
       "      <th>8/27/20</th>\n",
       "      <th>8/28/20</th>\n",
       "      <th>8/29/20</th>\n",
       "      <th>8/30/20</th>\n",
       "      <th>8/31/20</th>\n",
       "    </tr>\n",
       "  </thead>\n",
       "  <tbody>\n",
       "    <tr>\n",
       "      <th>0</th>\n",
       "      <td>NaN</td>\n",
       "      <td>Afghanistan</td>\n",
       "      <td>33.939110</td>\n",
       "      <td>67.709953</td>\n",
       "      <td>0</td>\n",
       "      <td>0</td>\n",
       "      <td>0</td>\n",
       "      <td>0</td>\n",
       "      <td>0</td>\n",
       "      <td>0</td>\n",
       "      <td>...</td>\n",
       "      <td>37953</td>\n",
       "      <td>37999</td>\n",
       "      <td>38054</td>\n",
       "      <td>38070</td>\n",
       "      <td>38113</td>\n",
       "      <td>38129</td>\n",
       "      <td>38140</td>\n",
       "      <td>38143</td>\n",
       "      <td>38162</td>\n",
       "      <td>38165</td>\n",
       "    </tr>\n",
       "    <tr>\n",
       "      <th>1</th>\n",
       "      <td>NaN</td>\n",
       "      <td>Albania</td>\n",
       "      <td>41.153300</td>\n",
       "      <td>20.168300</td>\n",
       "      <td>0</td>\n",
       "      <td>0</td>\n",
       "      <td>0</td>\n",
       "      <td>0</td>\n",
       "      <td>0</td>\n",
       "      <td>0</td>\n",
       "      <td>...</td>\n",
       "      <td>8275</td>\n",
       "      <td>8427</td>\n",
       "      <td>8605</td>\n",
       "      <td>8759</td>\n",
       "      <td>8927</td>\n",
       "      <td>9083</td>\n",
       "      <td>9195</td>\n",
       "      <td>9279</td>\n",
       "      <td>9380</td>\n",
       "      <td>9513</td>\n",
       "    </tr>\n",
       "    <tr>\n",
       "      <th>2</th>\n",
       "      <td>NaN</td>\n",
       "      <td>Algeria</td>\n",
       "      <td>28.033900</td>\n",
       "      <td>1.659600</td>\n",
       "      <td>0</td>\n",
       "      <td>0</td>\n",
       "      <td>0</td>\n",
       "      <td>0</td>\n",
       "      <td>0</td>\n",
       "      <td>0</td>\n",
       "      <td>...</td>\n",
       "      <td>41068</td>\n",
       "      <td>41460</td>\n",
       "      <td>41858</td>\n",
       "      <td>42228</td>\n",
       "      <td>42619</td>\n",
       "      <td>43016</td>\n",
       "      <td>43403</td>\n",
       "      <td>43781</td>\n",
       "      <td>44146</td>\n",
       "      <td>44494</td>\n",
       "    </tr>\n",
       "    <tr>\n",
       "      <th>3</th>\n",
       "      <td>NaN</td>\n",
       "      <td>Andorra</td>\n",
       "      <td>42.506300</td>\n",
       "      <td>1.521800</td>\n",
       "      <td>0</td>\n",
       "      <td>0</td>\n",
       "      <td>0</td>\n",
       "      <td>0</td>\n",
       "      <td>0</td>\n",
       "      <td>0</td>\n",
       "      <td>...</td>\n",
       "      <td>1045</td>\n",
       "      <td>1045</td>\n",
       "      <td>1060</td>\n",
       "      <td>1060</td>\n",
       "      <td>1098</td>\n",
       "      <td>1098</td>\n",
       "      <td>1124</td>\n",
       "      <td>1124</td>\n",
       "      <td>1124</td>\n",
       "      <td>1176</td>\n",
       "    </tr>\n",
       "    <tr>\n",
       "      <th>4</th>\n",
       "      <td>NaN</td>\n",
       "      <td>Angola</td>\n",
       "      <td>-11.202700</td>\n",
       "      <td>17.873900</td>\n",
       "      <td>0</td>\n",
       "      <td>0</td>\n",
       "      <td>0</td>\n",
       "      <td>0</td>\n",
       "      <td>0</td>\n",
       "      <td>0</td>\n",
       "      <td>...</td>\n",
       "      <td>2134</td>\n",
       "      <td>2171</td>\n",
       "      <td>2222</td>\n",
       "      <td>2283</td>\n",
       "      <td>2332</td>\n",
       "      <td>2415</td>\n",
       "      <td>2471</td>\n",
       "      <td>2551</td>\n",
       "      <td>2624</td>\n",
       "      <td>2654</td>\n",
       "    </tr>\n",
       "    <tr>\n",
       "      <th>...</th>\n",
       "      <td>...</td>\n",
       "      <td>...</td>\n",
       "      <td>...</td>\n",
       "      <td>...</td>\n",
       "      <td>...</td>\n",
       "      <td>...</td>\n",
       "      <td>...</td>\n",
       "      <td>...</td>\n",
       "      <td>...</td>\n",
       "      <td>...</td>\n",
       "      <td>...</td>\n",
       "      <td>...</td>\n",
       "      <td>...</td>\n",
       "      <td>...</td>\n",
       "      <td>...</td>\n",
       "      <td>...</td>\n",
       "      <td>...</td>\n",
       "      <td>...</td>\n",
       "      <td>...</td>\n",
       "      <td>...</td>\n",
       "      <td>...</td>\n",
       "    </tr>\n",
       "    <tr>\n",
       "      <th>261</th>\n",
       "      <td>NaN</td>\n",
       "      <td>West Bank and Gaza</td>\n",
       "      <td>31.952200</td>\n",
       "      <td>35.233200</td>\n",
       "      <td>0</td>\n",
       "      <td>0</td>\n",
       "      <td>0</td>\n",
       "      <td>0</td>\n",
       "      <td>0</td>\n",
       "      <td>0</td>\n",
       "      <td>...</td>\n",
       "      <td>18476</td>\n",
       "      <td>18802</td>\n",
       "      <td>19213</td>\n",
       "      <td>19678</td>\n",
       "      <td>20155</td>\n",
       "      <td>20677</td>\n",
       "      <td>21251</td>\n",
       "      <td>21668</td>\n",
       "      <td>22204</td>\n",
       "      <td>22729</td>\n",
       "    </tr>\n",
       "    <tr>\n",
       "      <th>262</th>\n",
       "      <td>NaN</td>\n",
       "      <td>Western Sahara</td>\n",
       "      <td>24.215500</td>\n",
       "      <td>-12.885800</td>\n",
       "      <td>0</td>\n",
       "      <td>0</td>\n",
       "      <td>0</td>\n",
       "      <td>0</td>\n",
       "      <td>0</td>\n",
       "      <td>0</td>\n",
       "      <td>...</td>\n",
       "      <td>10</td>\n",
       "      <td>10</td>\n",
       "      <td>10</td>\n",
       "      <td>10</td>\n",
       "      <td>10</td>\n",
       "      <td>10</td>\n",
       "      <td>10</td>\n",
       "      <td>10</td>\n",
       "      <td>10</td>\n",
       "      <td>10</td>\n",
       "    </tr>\n",
       "    <tr>\n",
       "      <th>263</th>\n",
       "      <td>NaN</td>\n",
       "      <td>Yemen</td>\n",
       "      <td>15.552727</td>\n",
       "      <td>48.516388</td>\n",
       "      <td>0</td>\n",
       "      <td>0</td>\n",
       "      <td>0</td>\n",
       "      <td>0</td>\n",
       "      <td>0</td>\n",
       "      <td>0</td>\n",
       "      <td>...</td>\n",
       "      <td>1907</td>\n",
       "      <td>1911</td>\n",
       "      <td>1916</td>\n",
       "      <td>1924</td>\n",
       "      <td>1930</td>\n",
       "      <td>1933</td>\n",
       "      <td>1943</td>\n",
       "      <td>1946</td>\n",
       "      <td>1953</td>\n",
       "      <td>1958</td>\n",
       "    </tr>\n",
       "    <tr>\n",
       "      <th>264</th>\n",
       "      <td>NaN</td>\n",
       "      <td>Zambia</td>\n",
       "      <td>-13.133897</td>\n",
       "      <td>27.849332</td>\n",
       "      <td>0</td>\n",
       "      <td>0</td>\n",
       "      <td>0</td>\n",
       "      <td>0</td>\n",
       "      <td>0</td>\n",
       "      <td>0</td>\n",
       "      <td>...</td>\n",
       "      <td>10831</td>\n",
       "      <td>11082</td>\n",
       "      <td>11148</td>\n",
       "      <td>11285</td>\n",
       "      <td>11376</td>\n",
       "      <td>11601</td>\n",
       "      <td>11779</td>\n",
       "      <td>11902</td>\n",
       "      <td>12025</td>\n",
       "      <td>12097</td>\n",
       "    </tr>\n",
       "    <tr>\n",
       "      <th>265</th>\n",
       "      <td>NaN</td>\n",
       "      <td>Zimbabwe</td>\n",
       "      <td>-19.015438</td>\n",
       "      <td>29.154857</td>\n",
       "      <td>0</td>\n",
       "      <td>0</td>\n",
       "      <td>0</td>\n",
       "      <td>0</td>\n",
       "      <td>0</td>\n",
       "      <td>0</td>\n",
       "      <td>...</td>\n",
       "      <td>5893</td>\n",
       "      <td>5930</td>\n",
       "      <td>6070</td>\n",
       "      <td>6196</td>\n",
       "      <td>6251</td>\n",
       "      <td>6292</td>\n",
       "      <td>6388</td>\n",
       "      <td>6406</td>\n",
       "      <td>6412</td>\n",
       "      <td>6497</td>\n",
       "    </tr>\n",
       "  </tbody>\n",
       "</table>\n",
       "<p>266 rows × 227 columns</p>\n",
       "</div>"
      ],
      "text/plain": [
       "    Province/State      Country/Region        Lat       Long  1/22/20  \\\n",
       "0              NaN         Afghanistan  33.939110  67.709953        0   \n",
       "1              NaN             Albania  41.153300  20.168300        0   \n",
       "2              NaN             Algeria  28.033900   1.659600        0   \n",
       "3              NaN             Andorra  42.506300   1.521800        0   \n",
       "4              NaN              Angola -11.202700  17.873900        0   \n",
       "..             ...                 ...        ...        ...      ...   \n",
       "261            NaN  West Bank and Gaza  31.952200  35.233200        0   \n",
       "262            NaN      Western Sahara  24.215500 -12.885800        0   \n",
       "263            NaN               Yemen  15.552727  48.516388        0   \n",
       "264            NaN              Zambia -13.133897  27.849332        0   \n",
       "265            NaN            Zimbabwe -19.015438  29.154857        0   \n",
       "\n",
       "     1/23/20  1/24/20  1/25/20  1/26/20  1/27/20  ...  8/22/20  8/23/20  \\\n",
       "0          0        0        0        0        0  ...    37953    37999   \n",
       "1          0        0        0        0        0  ...     8275     8427   \n",
       "2          0        0        0        0        0  ...    41068    41460   \n",
       "3          0        0        0        0        0  ...     1045     1045   \n",
       "4          0        0        0        0        0  ...     2134     2171   \n",
       "..       ...      ...      ...      ...      ...  ...      ...      ...   \n",
       "261        0        0        0        0        0  ...    18476    18802   \n",
       "262        0        0        0        0        0  ...       10       10   \n",
       "263        0        0        0        0        0  ...     1907     1911   \n",
       "264        0        0        0        0        0  ...    10831    11082   \n",
       "265        0        0        0        0        0  ...     5893     5930   \n",
       "\n",
       "     8/24/20  8/25/20  8/26/20  8/27/20  8/28/20  8/29/20  8/30/20  8/31/20  \n",
       "0      38054    38070    38113    38129    38140    38143    38162    38165  \n",
       "1       8605     8759     8927     9083     9195     9279     9380     9513  \n",
       "2      41858    42228    42619    43016    43403    43781    44146    44494  \n",
       "3       1060     1060     1098     1098     1124     1124     1124     1176  \n",
       "4       2222     2283     2332     2415     2471     2551     2624     2654  \n",
       "..       ...      ...      ...      ...      ...      ...      ...      ...  \n",
       "261    19213    19678    20155    20677    21251    21668    22204    22729  \n",
       "262       10       10       10       10       10       10       10       10  \n",
       "263     1916     1924     1930     1933     1943     1946     1953     1958  \n",
       "264    11148    11285    11376    11601    11779    11902    12025    12097  \n",
       "265     6070     6196     6251     6292     6388     6406     6412     6497  \n",
       "\n",
       "[266 rows x 227 columns]"
      ]
     },
     "execution_count": 146,
     "metadata": {},
     "output_type": "execute_result"
    }
   ],
   "source": [
    "# Source: https://coronavirus.jhu.edu/data/new-cases\n",
    "df = pd.read_csv('time_series_covid19_confirmed_global.csv')\n",
    "df"
   ]
  },
  {
   "cell_type": "code",
   "execution_count": 147,
   "metadata": {},
   "outputs": [
    {
     "data": {
      "text/html": [
       "<div>\n",
       "<style scoped>\n",
       "    .dataframe tbody tr th:only-of-type {\n",
       "        vertical-align: middle;\n",
       "    }\n",
       "\n",
       "    .dataframe tbody tr th {\n",
       "        vertical-align: top;\n",
       "    }\n",
       "\n",
       "    .dataframe thead th {\n",
       "        text-align: right;\n",
       "    }\n",
       "</style>\n",
       "<table border=\"1\" class=\"dataframe\">\n",
       "  <thead>\n",
       "    <tr style=\"text-align: right;\">\n",
       "      <th></th>\n",
       "      <th>Province/State</th>\n",
       "      <th>Country/Region</th>\n",
       "      <th>Lat</th>\n",
       "      <th>Long</th>\n",
       "      <th>Date</th>\n",
       "      <th>Cases</th>\n",
       "    </tr>\n",
       "  </thead>\n",
       "  <tbody>\n",
       "    <tr>\n",
       "      <th>0</th>\n",
       "      <td>NaN</td>\n",
       "      <td>Afghanistan</td>\n",
       "      <td>33.939110</td>\n",
       "      <td>67.709953</td>\n",
       "      <td>1/22/20</td>\n",
       "      <td>0</td>\n",
       "    </tr>\n",
       "    <tr>\n",
       "      <th>1</th>\n",
       "      <td>NaN</td>\n",
       "      <td>Albania</td>\n",
       "      <td>41.153300</td>\n",
       "      <td>20.168300</td>\n",
       "      <td>1/22/20</td>\n",
       "      <td>0</td>\n",
       "    </tr>\n",
       "    <tr>\n",
       "      <th>2</th>\n",
       "      <td>NaN</td>\n",
       "      <td>Algeria</td>\n",
       "      <td>28.033900</td>\n",
       "      <td>1.659600</td>\n",
       "      <td>1/22/20</td>\n",
       "      <td>0</td>\n",
       "    </tr>\n",
       "    <tr>\n",
       "      <th>3</th>\n",
       "      <td>NaN</td>\n",
       "      <td>Andorra</td>\n",
       "      <td>42.506300</td>\n",
       "      <td>1.521800</td>\n",
       "      <td>1/22/20</td>\n",
       "      <td>0</td>\n",
       "    </tr>\n",
       "    <tr>\n",
       "      <th>4</th>\n",
       "      <td>NaN</td>\n",
       "      <td>Angola</td>\n",
       "      <td>-11.202700</td>\n",
       "      <td>17.873900</td>\n",
       "      <td>1/22/20</td>\n",
       "      <td>0</td>\n",
       "    </tr>\n",
       "    <tr>\n",
       "      <th>...</th>\n",
       "      <td>...</td>\n",
       "      <td>...</td>\n",
       "      <td>...</td>\n",
       "      <td>...</td>\n",
       "      <td>...</td>\n",
       "      <td>...</td>\n",
       "    </tr>\n",
       "    <tr>\n",
       "      <th>59313</th>\n",
       "      <td>NaN</td>\n",
       "      <td>West Bank and Gaza</td>\n",
       "      <td>31.952200</td>\n",
       "      <td>35.233200</td>\n",
       "      <td>8/31/20</td>\n",
       "      <td>22729</td>\n",
       "    </tr>\n",
       "    <tr>\n",
       "      <th>59314</th>\n",
       "      <td>NaN</td>\n",
       "      <td>Western Sahara</td>\n",
       "      <td>24.215500</td>\n",
       "      <td>-12.885800</td>\n",
       "      <td>8/31/20</td>\n",
       "      <td>10</td>\n",
       "    </tr>\n",
       "    <tr>\n",
       "      <th>59315</th>\n",
       "      <td>NaN</td>\n",
       "      <td>Yemen</td>\n",
       "      <td>15.552727</td>\n",
       "      <td>48.516388</td>\n",
       "      <td>8/31/20</td>\n",
       "      <td>1958</td>\n",
       "    </tr>\n",
       "    <tr>\n",
       "      <th>59316</th>\n",
       "      <td>NaN</td>\n",
       "      <td>Zambia</td>\n",
       "      <td>-13.133897</td>\n",
       "      <td>27.849332</td>\n",
       "      <td>8/31/20</td>\n",
       "      <td>12097</td>\n",
       "    </tr>\n",
       "    <tr>\n",
       "      <th>59317</th>\n",
       "      <td>NaN</td>\n",
       "      <td>Zimbabwe</td>\n",
       "      <td>-19.015438</td>\n",
       "      <td>29.154857</td>\n",
       "      <td>8/31/20</td>\n",
       "      <td>6497</td>\n",
       "    </tr>\n",
       "  </tbody>\n",
       "</table>\n",
       "<p>59318 rows × 6 columns</p>\n",
       "</div>"
      ],
      "text/plain": [
       "      Province/State      Country/Region        Lat       Long     Date  Cases\n",
       "0                NaN         Afghanistan  33.939110  67.709953  1/22/20      0\n",
       "1                NaN             Albania  41.153300  20.168300  1/22/20      0\n",
       "2                NaN             Algeria  28.033900   1.659600  1/22/20      0\n",
       "3                NaN             Andorra  42.506300   1.521800  1/22/20      0\n",
       "4                NaN              Angola -11.202700  17.873900  1/22/20      0\n",
       "...              ...                 ...        ...        ...      ...    ...\n",
       "59313            NaN  West Bank and Gaza  31.952200  35.233200  8/31/20  22729\n",
       "59314            NaN      Western Sahara  24.215500 -12.885800  8/31/20     10\n",
       "59315            NaN               Yemen  15.552727  48.516388  8/31/20   1958\n",
       "59316            NaN              Zambia -13.133897  27.849332  8/31/20  12097\n",
       "59317            NaN            Zimbabwe -19.015438  29.154857  8/31/20   6497\n",
       "\n",
       "[59318 rows x 6 columns]"
      ]
     },
     "execution_count": 147,
     "metadata": {},
     "output_type": "execute_result"
    }
   ],
   "source": [
    "df = pd.melt(df,id_vars=['Province/State','Country/Region','Lat','Long'], var_name='Date', value_name='Cases')\n",
    "df"
   ]
  },
  {
   "cell_type": "markdown",
   "metadata": {},
   "source": [
    "### Categoricals\n",
    "When we imported the Titanic data, the numeric data was read in as numeric and the character data read in as objects. "
   ]
  },
  {
   "cell_type": "code",
   "execution_count": 148,
   "metadata": {
    "scrolled": true
   },
   "outputs": [
    {
     "name": "stdout",
     "output_type": "stream",
     "text": [
      "<class 'pandas.core.frame.DataFrame'>\n",
      "RangeIndex: 59318 entries, 0 to 59317\n",
      "Data columns (total 6 columns):\n",
      " #   Column          Non-Null Count  Dtype  \n",
      "---  ------          --------------  -----  \n",
      " 0   Province/State  18063 non-null  object \n",
      " 1   Country/Region  59318 non-null  object \n",
      " 2   Lat             59318 non-null  float64\n",
      " 3   Long            59318 non-null  float64\n",
      " 4   Date            59318 non-null  object \n",
      " 5   Cases           59318 non-null  int64  \n",
      "dtypes: float64(2), int64(1), object(3)\n",
      "memory usage: 2.7+ MB\n"
     ]
    }
   ],
   "source": [
    "df.info()"
   ]
  },
  {
   "cell_type": "markdown",
   "metadata": {},
   "source": [
    "Let's change the defined data types to the appropriate type with `astype(...)`"
   ]
  },
  {
   "cell_type": "code",
   "execution_count": 149,
   "metadata": {},
   "outputs": [],
   "source": [
    "df[['Country/Region', 'Province/State']] = df[['Country/Region', 'Province/State']].astype('category')"
   ]
  },
  {
   "cell_type": "code",
   "execution_count": 150,
   "metadata": {},
   "outputs": [
    {
     "data": {
      "text/plain": [
       "Province/State    category\n",
       "Country/Region    category\n",
       "Lat                float64\n",
       "Long               float64\n",
       "Date                object\n",
       "Cases                int64\n",
       "dtype: object"
      ]
     },
     "execution_count": 150,
     "metadata": {},
     "output_type": "execute_result"
    }
   ],
   "source": [
    "# View the types again\n",
    "df.dtypes"
   ]
  },
  {
   "cell_type": "markdown",
   "metadata": {},
   "source": [
    "#### Unique values with `unique()`"
   ]
  },
  {
   "cell_type": "code",
   "execution_count": 151,
   "metadata": {},
   "outputs": [
    {
     "data": {
      "text/plain": [
       "['Afghanistan', 'Albania', 'Algeria', 'Andorra', 'Angola', ..., 'West Bank and Gaza', 'Western Sahara', 'Yemen', 'Zambia', 'Zimbabwe']\n",
       "Length: 188\n",
       "Categories (188, object): ['Afghanistan', 'Albania', 'Algeria', 'Andorra', ..., 'Western Sahara', 'Yemen', 'Zambia', 'Zimbabwe']"
      ]
     },
     "execution_count": 151,
     "metadata": {},
     "output_type": "execute_result"
    }
   ],
   "source": [
    "df.loc[:,'Country/Region'].unique()"
   ]
  },
  {
   "cell_type": "markdown",
   "metadata": {},
   "source": [
    "#### Histogramming (value counts)"
   ]
  },
  {
   "cell_type": "code",
   "execution_count": 152,
   "metadata": {},
   "outputs": [
    {
     "data": {
      "text/plain": [
       "China             7359\n",
       "Canada            3122\n",
       "France            2453\n",
       "United Kingdom    2453\n",
       "Australia         1784\n",
       "                  ... \n",
       "Nepal              223\n",
       "Namibia            223\n",
       "Mozambique         223\n",
       "Morocco            223\n",
       "Afghanistan        223\n",
       "Name: Country/Region, Length: 188, dtype: int64"
      ]
     },
     "execution_count": 152,
     "metadata": {},
     "output_type": "execute_result"
    }
   ],
   "source": [
    "# Returns the frequency of each value\n",
    "df.loc[:,'Country/Region'].value_counts()"
   ]
  },
  {
   "cell_type": "markdown",
   "metadata": {},
   "source": [
    "Return the `mode`."
   ]
  },
  {
   "cell_type": "code",
   "execution_count": 153,
   "metadata": {},
   "outputs": [
    {
     "data": {
      "text/plain": [
       "0    China\n",
       "Name: Country/Region, dtype: category\n",
       "Categories (188, object): ['Afghanistan', 'Albania', 'Algeria', 'Andorra', ..., 'Western Sahara', 'Yemen', 'Zambia', 'Zimbabwe']"
      ]
     },
     "execution_count": 153,
     "metadata": {},
     "output_type": "execute_result"
    }
   ],
   "source": [
    "# Returns the most frequent value in the list\n",
    "df.loc[:,'Country/Region'].mode()"
   ]
  },
  {
   "cell_type": "code",
   "execution_count": null,
   "metadata": {},
   "outputs": [],
   "source": []
  }
 ],
 "metadata": {
  "kernelspec": {
   "display_name": "Python 3",
   "language": "python",
   "name": "python3"
  },
  "language_info": {
   "codemirror_mode": {
    "name": "ipython",
    "version": 3
   },
   "file_extension": ".py",
   "mimetype": "text/x-python",
   "name": "python",
   "nbconvert_exporter": "python",
   "pygments_lexer": "ipython3",
   "version": "3.8.3"
  }
 },
 "nbformat": 4,
 "nbformat_minor": 4
}
